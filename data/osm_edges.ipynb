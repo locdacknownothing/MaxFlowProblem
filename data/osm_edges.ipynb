{
 "cells": [
  {
   "cell_type": "code",
   "execution_count": 1,
   "metadata": {},
   "outputs": [],
   "source": [
    "import requests\n",
    "import time\n",
    "\n",
    "import osmnx as ox\n",
    "import networkx as nx\n",
    "import numpy as np\n",
    "\n",
    "from pathlib import Path\n",
    "import pandas as pd\n",
    "import pickle \n",
    "import geopy.distance\n",
    "from geopy.distance import geodesic\n",
    "from tqdm import tqdm\n",
    "\n",
    "from file import dump_json, load_json"
   ]
  },
  {
   "cell_type": "code",
   "execution_count": 2,
   "metadata": {},
   "outputs": [
    {
     "data": {
      "text/plain": [
       "301"
      ]
     },
     "execution_count": 2,
     "metadata": {},
     "output_type": "execute_result"
    }
   ],
   "source": [
    "nodes_data = load_json(\"../front-end/src/data/full_node_data.json\")\n",
    "len(nodes_data)"
   ]
  },
  {
   "cell_type": "code",
   "execution_count": 6,
   "metadata": {},
   "outputs": [
    {
     "data": {
      "text/plain": [
       "{'node_id': 2072605244, 'lat': 10.8134736, 'lon': 106.6654239, 'index': 0}"
      ]
     },
     "execution_count": 6,
     "metadata": {},
     "output_type": "execute_result"
    }
   ],
   "source": [
    "nodes_data[0]"
   ]
  },
  {
   "cell_type": "code",
   "execution_count": 12,
   "metadata": {},
   "outputs": [
    {
     "data": {
      "text/plain": [
       "2072605244"
      ]
     },
     "execution_count": 12,
     "metadata": {},
     "output_type": "execute_result"
    }
   ],
   "source": [
    "nodes = [node_data[\"node_id\"] for node_data in nodes_data]\n",
    "nodes[0]"
   ]
  },
  {
   "cell_type": "code",
   "execution_count": 7,
   "metadata": {},
   "outputs": [
    {
     "data": {
      "text/plain": [
       "{2072605244: 0,\n",
       " 5721686016: 1,\n",
       " 11405988031: 2,\n",
       " 9338675727: 3,\n",
       " 5467207470: 4,\n",
       " 5721686017: 5,\n",
       " 2469693281: 6,\n",
       " 366446893: 7,\n",
       " 11414869169: 8,\n",
       " 5467216157: 9,\n",
       " 11363982568: 10,\n",
       " 5755175894: 11,\n",
       " 2036141704: 12,\n",
       " 411926532: 13,\n",
       " 411926547: 14,\n",
       " 411926578: 15,\n",
       " 411926580: 16,\n",
       " 411926698: 17,\n",
       " 10978330103: 18,\n",
       " 2403047190: 19,\n",
       " 9843908828: 20,\n",
       " 9843908827: 21,\n",
       " 5764817349: 22,\n",
       " 2393614146: 23,\n",
       " 4447252158: 24,\n",
       " 10118771783: 25,\n",
       " 4672043489: 26,\n",
       " 4875861250: 27,\n",
       " 696860153: 28,\n",
       " 6858588489: 29,\n",
       " 11389684401: 30,\n",
       " 5742713535: 31,\n",
       " 9545277488: 32,\n",
       " 3640191262: 33,\n",
       " 5762610094: 34,\n",
       " 1393358848: 35,\n",
       " 411925984: 36,\n",
       " 411925985: 37,\n",
       " 366476912: 38,\n",
       " 411926344: 39,\n",
       " 411926469: 40,\n",
       " 411926477: 41,\n",
       " 411926523: 42,\n",
       " 411926551: 43,\n",
       " 411926554: 44,\n",
       " 411926559: 45,\n",
       " 411926563: 46,\n",
       " 411926594: 47,\n",
       " 411926604: 48,\n",
       " 411926624: 49,\n",
       " 411926693: 50,\n",
       " 411926700: 51,\n",
       " 411926705: 52,\n",
       " 6794477957: 53,\n",
       " 8812298790: 54,\n",
       " 676561493: 55,\n",
       " 6696632982: 56,\n",
       " 4604920479: 57,\n",
       " 10046800715: 58,\n",
       " 4448584537: 59,\n",
       " 6751290372: 60,\n",
       " 366445900: 61,\n",
       " 2403042654: 62,\n",
       " 3887793637: 63,\n",
       " 10978330104: 64,\n",
       " 4120151674: 65,\n",
       " 10046834524: 66,\n",
       " 10046834527: 67,\n",
       " 4875814758: 68,\n",
       " 4875814765: 69,\n",
       " 3088844994: 70,\n",
       " 8348273195: 71,\n",
       " 5765073600: 72,\n",
       " 5765073602: 73,\n",
       " 5765073604: 74,\n",
       " 5765073605: 75,\n",
       " 5765073652: 76,\n",
       " 6794513288: 77,\n",
       " 366382100: 78,\n",
       " 2664205599: 79,\n",
       " 10991275445: 80,\n",
       " 2403044879: 81,\n",
       " 2403044880: 82,\n",
       " 4728688224: 83,\n",
       " 11927555949: 84,\n",
       " 366416027: 85,\n",
       " 5736009979: 86,\n",
       " 3638268672: 87,\n",
       " 4646769645: 88,\n",
       " 366417290: 89,\n",
       " 1671468479: 90,\n",
       " 366450163: 91,\n",
       " 366450167: 92,\n",
       " 2030638626: 93,\n",
       " 3718387345: 94,\n",
       " 4067989170: 95,\n",
       " 11068708541: 96,\n",
       " 11068708540: 97,\n",
       " 11068708545: 98,\n",
       " 11068708549: 99,\n",
       " 11068708550: 100,\n",
       " 11068708559: 101,\n",
       " 11068708568: 102,\n",
       " 1671468777: 103,\n",
       " 5731653473: 104,\n",
       " 5731653474: 105,\n",
       " 7514003738: 106,\n",
       " 7514003739: 107,\n",
       " 366385591: 108,\n",
       " 366451136: 109,\n",
       " 5778872955: 110,\n",
       " 5778872956: 111,\n",
       " 5778872958: 112,\n",
       " 5778872959: 113,\n",
       " 5778872960: 114,\n",
       " 5778872968: 115,\n",
       " 366418591: 116,\n",
       " 5773400802: 117,\n",
       " 366451852: 118,\n",
       " 6631169236: 119,\n",
       " 6631169239: 120,\n",
       " 366419346: 121,\n",
       " 1349033432: 122,\n",
       " 7192419850: 123,\n",
       " 5755149872: 124,\n",
       " 366419521: 125,\n",
       " 5755149889: 126,\n",
       " 5755149899: 127,\n",
       " 5755149907: 128,\n",
       " 711335740: 129,\n",
       " 366419772: 130,\n",
       " 5352824737: 131,\n",
       " 8366432224: 132,\n",
       " 3326713916: 133,\n",
       " 1497276524: 134,\n",
       " 1497276531: 135,\n",
       " 5769437298: 136,\n",
       " 9843908826: 137,\n",
       " 6258204927: 138,\n",
       " 1409491230: 139,\n",
       " 1409491234: 140,\n",
       " 6372499819: 141,\n",
       " 6372499824: 142,\n",
       " 5738537391: 143,\n",
       " 2214339206: 144,\n",
       " 5737980733: 145,\n",
       " 3654067017: 146,\n",
       " 5737980756: 147,\n",
       " 5737980761: 148,\n",
       " 5737980762: 149,\n",
       " 5737980775: 150,\n",
       " 5737980776: 151,\n",
       " 5737980785: 152,\n",
       " 2498077593: 153,\n",
       " 2340037589: 154,\n",
       " 8771118197: 155,\n",
       " 701670579: 156,\n",
       " 366388690: 157,\n",
       " 1998235279: 158,\n",
       " 1998235282: 159,\n",
       " 2233738917: 160,\n",
       " 5769406258: 161,\n",
       " 5769406269: 162,\n",
       " 5769406270: 163,\n",
       " 5769406272: 164,\n",
       " 5769406277: 165,\n",
       " 5769406275: 166,\n",
       " 2393614152: 167,\n",
       " 5779433369: 168,\n",
       " 5779433379: 169,\n",
       " 8995743761: 170,\n",
       " 11953547344: 171,\n",
       " 11953547345: 172,\n",
       " 366422145: 173,\n",
       " 366389394: 174,\n",
       " 5769504920: 175,\n",
       " 5769504924: 176,\n",
       " 5769504925: 177,\n",
       " 5769504923: 178,\n",
       " 5350664362: 179,\n",
       " 5350664363: 180,\n",
       " 5326481853: 181,\n",
       " 5762755207: 182,\n",
       " 4604865410: 183,\n",
       " 2300357783: 184,\n",
       " 8819977394: 185,\n",
       " 4629703863: 186,\n",
       " 5719731385: 187,\n",
       " 3887803773: 188,\n",
       " 3887803775: 189,\n",
       " 5724515850: 190,\n",
       " 366423565: 191,\n",
       " 6794489381: 192,\n",
       " 6794489382: 193,\n",
       " 4447252162: 194,\n",
       " 1271148299: 195,\n",
       " 4891619180: 196,\n",
       " 6772699064: 197,\n",
       " 5738082285: 198,\n",
       " 5738082287: 199,\n",
       " 5738082296: 200,\n",
       " 5793427533: 201,\n",
       " 2293477506: 202,\n",
       " 2037756039: 203,\n",
       " 7134752935: 204,\n",
       " 7134752937: 205,\n",
       " 5757841588: 206,\n",
       " 5293846843: 207,\n",
       " 5293846848: 208,\n",
       " 5293846851: 209,\n",
       " 2822156620: 210,\n",
       " 5293846883: 211,\n",
       " 5769343546: 212,\n",
       " 8280289879: 213,\n",
       " 11428574119: 214,\n",
       " 11428574120: 215,\n",
       " 5738640353: 216,\n",
       " 10118771782: 217,\n",
       " 5716587648: 218,\n",
       " 6791017603: 219,\n",
       " 6791017608: 220,\n",
       " 366458024: 221,\n",
       " 4662998247: 222,\n",
       " 2690659614: 223,\n",
       " 4901287266: 224,\n",
       " 2690659691: 225,\n",
       " 2690659695: 226,\n",
       " 4461933943: 227,\n",
       " 1635104120: 228,\n",
       " 2690659780: 229,\n",
       " 366458462: 230,\n",
       " 6791509618: 231,\n",
       " 8995419779: 232,\n",
       " 8995419797: 233,\n",
       " 3887838910: 234,\n",
       " 3887838919: 235,\n",
       " 3887838920: 236,\n",
       " 3887838930: 237,\n",
       " 2393618251: 238,\n",
       " 8366569292: 239,\n",
       " 2493364053: 240,\n",
       " 366426004: 241,\n",
       " 8366635060: 242,\n",
       " 366426183: 243,\n",
       " 11133237546: 244,\n",
       " 11133237547: 245,\n",
       " 1404352840: 246,\n",
       " 1404352952: 247,\n",
       " 1404352955: 248,\n",
       " 4889622982: 249,\n",
       " 4719622687: 250,\n",
       " 5073779363: 251,\n",
       " 5073779377: 252,\n",
       " 366427287: 253,\n",
       " 696860102: 254,\n",
       " 11098799676: 255,\n",
       " 2364030596: 256,\n",
       " 5738446598: 257,\n",
       " 5738446612: 258,\n",
       " 5733269529: 259,\n",
       " 2493366307: 260,\n",
       " 5738217608: 261,\n",
       " 5738447177: 262,\n",
       " 6858588491: 263,\n",
       " 5798936908: 264,\n",
       " 5798936912: 265,\n",
       " 6858588498: 266,\n",
       " 5798936914: 267,\n",
       " 11891917326: 268,\n",
       " 11891917327: 269,\n",
       " 11891917334: 270,\n",
       " 11891917341: 271,\n",
       " 366462099: 272,\n",
       " 6790628547: 273,\n",
       " 10792191361: 274,\n",
       " 5772101027: 275,\n",
       " 12320753206: 276,\n",
       " 4441523963: 277,\n",
       " 4441523980: 278,\n",
       " 5799069506: 279,\n",
       " 2366457792: 280,\n",
       " 366462993: 281,\n",
       " 4191373367: 282,\n",
       " 737167482: 283,\n",
       " 6747277434: 284,\n",
       " 5074798778: 285,\n",
       " 5799070000: 286,\n",
       " 5799070002: 287,\n",
       " 5074798925: 288,\n",
       " 4898834796: 289,\n",
       " 5074798993: 290,\n",
       " 5074798995: 291,\n",
       " 5074799049: 292,\n",
       " 4927867379: 293,\n",
       " 6772804085: 294,\n",
       " 5778164496: 295,\n",
       " 7558974286: 296,\n",
       " 5772102508: 297,\n",
       " 5772102519: 298,\n",
       " 5724654562: 299,\n",
       " 4646816752: 300}"
      ]
     },
     "execution_count": 7,
     "metadata": {},
     "output_type": "execute_result"
    }
   ],
   "source": [
    "node2index = {node[\"node_id\"]: node[\"index\"] for node in nodes_data}\n",
    "node2index"
   ]
  },
  {
   "cell_type": "code",
   "execution_count": 71,
   "metadata": {},
   "outputs": [
    {
     "data": {
      "text/plain": [
       "(99562, True)"
      ]
     },
     "execution_count": 71,
     "metadata": {},
     "output_type": "execute_result"
    }
   ],
   "source": [
    "with open(\"results/test_graph.pkl\", \"rb\") as f:\n",
    "    G = pickle.load(f)\n",
    "\n",
    "len(G.nodes()), G.is_directed()"
   ]
  },
  {
   "cell_type": "code",
   "execution_count": 72,
   "metadata": {},
   "outputs": [],
   "source": [
    "def get_node_data(node, G):\n",
    "    data = G.nodes(data=True)[node]\n",
    "    return {\n",
    "        \"node_id\": node,\n",
    "        \"lat\": data['y'],\n",
    "        \"lon\": data['x'],\n",
    "    }\n",
    "\n",
    "def get_nodes_data(nodes, G):\n",
    "    nodes_data = []\n",
    "    for index, node in enumerate(nodes):\n",
    "        node_data = get_node_data(node, G)\n",
    "        node_data[\"index\"] = index\n",
    "        nodes_data.append(node_data)\n",
    "    return nodes_data"
   ]
  },
  {
   "cell_type": "code",
   "execution_count": 73,
   "metadata": {},
   "outputs": [
    {
     "data": {
      "text/plain": [
       "99562"
      ]
     },
     "execution_count": 73,
     "metadata": {},
     "output_type": "execute_result"
    }
   ],
   "source": [
    "full_nodes_data = []\n",
    "\n",
    "for index, node in enumerate(G.nodes()):\n",
    "    node_data = get_node_data(node, G)\n",
    "    node_data[\"index\"] = index\n",
    "    full_nodes_data.append(node_data)\n",
    "\n",
    "len(full_nodes_data)"
   ]
  },
  {
   "cell_type": "code",
   "execution_count": null,
   "metadata": {},
   "outputs": [
    {
     "data": {
      "text/plain": [
       "[{'node_id': 2072605244, 'lat': 10.8134736, 'lon': 106.6654239, 'index': 0},\n",
       " {'node_id': 11389684401, 'lat': 10.7928951, 'lon': 106.6533154, 'index': 30},\n",
       " {'node_id': 1497276524, 'lat': 10.8015651, 'lon': 106.7110915, 'index': 134}]"
      ]
     },
     "execution_count": 51,
     "metadata": {},
     "output_type": "execute_result"
    }
   ],
   "source": [
    "# base_nodes_data = [x for x in nodes_data if x[\"index\"] in [0, 30, 134]]\n",
    "# base_nodes_data"
   ]
  },
  {
   "cell_type": "code",
   "execution_count": 76,
   "metadata": {},
   "outputs": [],
   "source": [
    "def is_in_circle(node_data, center_coord, radius):\n",
    "    node_coord = (node_data['lat'], node_data['lon']) \n",
    "    # center_coord = (center_data['lat'], center_data['lon'])\n",
    "    distance = geodesic(node_coord, center_coord).meters\n",
    "    return distance <= radius "
   ]
  },
  {
   "cell_type": "code",
   "execution_count": 91,
   "metadata": {},
   "outputs": [],
   "source": [
    "def is_on_main_roads(node_data, G, count_thresh=1):\n",
    "    in_edges = list(G.in_edges(node_data[\"node_id\"], data=True))\n",
    "    out_edges = list(G.out_edges(node_data[\"node_id\"], data=True))\n",
    "    \n",
    "    count = 0\n",
    "    for u, v, data in in_edges + out_edges: \n",
    "        if count >= count_thresh:\n",
    "            return True\n",
    "        \n",
    "        try:\n",
    "            if data.get(\"highway\") in {\"primary\", \"secondary\", \"primary_link\", \"secondary_link\"}:\n",
    "                count += 1\n",
    "        except TypeError as e:\n",
    "            print(e)\n",
    "            print(data)\n",
    "    return False"
   ]
  },
  {
   "cell_type": "code",
   "execution_count": 101,
   "metadata": {},
   "outputs": [],
   "source": [
    "tmp_nodes_data = []"
   ]
  },
  {
   "cell_type": "code",
   "execution_count": 102,
   "metadata": {},
   "outputs": [],
   "source": [
    "center_coord = (10.7779086, 106.6895565)\n",
    "radius = 1000\n",
    "\n",
    "tmp_nodes_data += [\n",
    "    x for x in full_nodes_data \n",
    "    if is_in_circle(x, center_coord, radius) and is_on_main_roads(x, G, 2)\n",
    "]\n",
    "dump_json(\"../front-end/src/data/test_node_data.json\", tmp_nodes_data)"
   ]
  },
  {
   "cell_type": "code",
   "execution_count": null,
   "metadata": {},
   "outputs": [
    {
     "name": "stdout",
     "output_type": "stream",
     "text": [
      "unhashable type: 'list'\n",
      "{'osmid': [32586234, 32575971], 'highway': ['residential', 'tertiary'], 'oneway': False, 'reversed': False, 'length': 517.508, 'geometry': <LINESTRING (106.655 10.809, 106.655 10.809, 106.655 10.81, 106.655 10.81, 1...>}\n",
      "unhashable type: 'list'\n",
      "{'osmid': [32586234, 32575971], 'highway': ['residential', 'tertiary'], 'oneway': False, 'reversed': True, 'length': 517.508, 'geometry': <LINESTRING (106.657 10.813, 106.657 10.813, 106.657 10.812, 106.656 10.812,...>}\n"
     ]
    }
   ],
   "source": [
    "center_coord = (10.8134736, 106.6654239)\n",
    "\n",
    "radius = 1000\n",
    "\n",
    "tmp_nodes_data += [\n",
    "    x for x in full_nodes_data \n",
    "    if is_in_circle(x, center_coord, radius) and is_on_main_roads(x, G)\n",
    "]\n",
    "dump_json(\"../front-end/src/data/test_node_data.json\", tmp_nodes_data)"
   ]
  },
  {
   "cell_type": "code",
   "execution_count": 97,
   "metadata": {},
   "outputs": [
    {
     "name": "stdout",
     "output_type": "stream",
     "text": [
      "unhashable type: 'list'\n",
      "{'osmid': [35114264, 211408041, 189165798], 'oneway': True, 'lanes': '5', 'name': ['Cầu Điện Biên Phủ', 'Đường Điện Biên Phủ'], 'highway': ['primary', 'trunk'], 'reversed': False, 'length': 156.053, 'bridge': 'yes', 'geometry': <LINESTRING (106.701 10.794, 106.701 10.794, 106.7 10.793, 106.7 10.793)>}\n",
      "unhashable type: 'list'\n",
      "{'osmid': [53553128, 189165785, 53553099], 'oneway': True, 'lanes': '5', 'name': ['Cầu Điện Biên Phủ', 'Đường Điện Biên Phủ'], 'highway': ['primary', 'trunk'], 'maxspeed': '50', 'reversed': False, 'length': 210.118, 'bridge': 'yes', 'geometry': <LINESTRING (106.7 10.793, 106.7 10.793, 106.701 10.794, 106.701 10.794, 106...>}\n",
      "unhashable type: 'list'\n",
      "{'osmid': [32586234, 32575971], 'highway': ['residential', 'tertiary'], 'oneway': False, 'reversed': True, 'length': 517.508, 'geometry': <LINESTRING (106.657 10.813, 106.657 10.813, 106.657 10.812, 106.656 10.812,...>}\n",
      "unhashable type: 'list'\n",
      "{'osmid': [32586234, 32575971], 'highway': ['residential', 'tertiary'], 'oneway': False, 'reversed': False, 'length': 517.508, 'geometry': <LINESTRING (106.655 10.809, 106.655 10.809, 106.655 10.81, 106.655 10.81, 1...>}\n",
      "unhashable type: 'list'\n",
      "{'osmid': [32586234, 32575971], 'highway': ['residential', 'tertiary'], 'oneway': False, 'reversed': False, 'length': 517.508, 'geometry': <LINESTRING (106.655 10.809, 106.655 10.809, 106.655 10.81, 106.655 10.81, 1...>}\n",
      "unhashable type: 'list'\n",
      "{'osmid': [32586234, 32575971], 'highway': ['residential', 'tertiary'], 'oneway': False, 'reversed': True, 'length': 517.508, 'geometry': <LINESTRING (106.657 10.813, 106.657 10.813, 106.657 10.812, 106.656 10.812,...>}\n"
     ]
    }
   ],
   "source": [
    "center_coord = (10.8026722, 106.6767735)\n",
    "radius = 2800\n",
    "\n",
    "tmp_nodes_data += [\n",
    "    x for x in full_nodes_data \n",
    "    if is_in_circle(x, center_coord, radius) and is_on_main_roads(x, G, count_thresh=3)\n",
    "]\n",
    "dump_json(\"../front-end/src/data/test_node_data.json\", tmp_nodes_data)"
   ]
  },
  {
   "cell_type": "code",
   "execution_count": 60,
   "metadata": {},
   "outputs": [],
   "source": [
    "def get_nodes_by_edges(base_nodes_data, kpi = 200):\n",
    "    current_nodes = set()\n",
    "    current_edges = set()\n",
    "\n",
    "    for node_data in base_nodes_data:\n",
    "        in_edges = list(G.in_edges(node_data[\"node_id\"], data=True))\n",
    "        out_edges = list(G.out_edges(node_data[\"node_id\"], data=True))\n",
    "        for u, v, data in in_edges + out_edges:  # Get all edges connected to the node\n",
    "            current_nodes.add(u)\n",
    "            current_nodes.add(v)\n",
    "\n",
    "            print(data) \n",
    "            current_edges.add((u, v))        \n",
    "\n",
    "    return current_nodes, current_edges"
   ]
  },
  {
   "cell_type": "code",
   "execution_count": 103,
   "metadata": {},
   "outputs": [
    {
     "data": {
      "text/plain": [
       "207"
      ]
     },
     "execution_count": 103,
     "metadata": {},
     "output_type": "execute_result"
    }
   ],
   "source": [
    "with open(\"results/manual_nodes.txt\", \"r\") as f:\n",
    "    manual_nodes = f.read().split(\"\\n\")\n",
    "    manual_nodes = list(set([int(x) for x in manual_nodes if x]))\n",
    "\n",
    "len(manual_nodes)"
   ]
  },
  {
   "cell_type": "code",
   "execution_count": 104,
   "metadata": {},
   "outputs": [
    {
     "data": {
      "text/plain": [
       "(207,\n",
       " {'node_id': 5721686016, 'lat': 10.8000091, 'lon': 106.6606224, 'index': 0})"
      ]
     },
     "execution_count": 104,
     "metadata": {},
     "output_type": "execute_result"
    }
   ],
   "source": [
    "manual_nodes_data = get_nodes_data(manual_nodes, G)\n",
    "len(manual_nodes_data), manual_nodes_data[0]"
   ]
  },
  {
   "cell_type": "code",
   "execution_count": 105,
   "metadata": {},
   "outputs": [],
   "source": [
    "dump_json(\"../front-end/src/data/test_node_data.json\", manual_nodes_data)"
   ]
  },
  {
   "cell_type": "markdown",
   "metadata": {},
   "source": [
    "## Edges"
   ]
  },
  {
   "cell_type": "code",
   "execution_count": 7,
   "metadata": {},
   "outputs": [],
   "source": [
    "def get_node2index(nodes_data):\n",
    "    return {node[\"node_id\"]: node[\"index\"] for node in nodes_data}\n",
    "\n",
    "def get_index2node(nodes_data):\n",
    "    return {node[\"index\"]: node[\"node_id\"] for node in nodes_data}\n",
    "\n",
    "def get_edges_data(edges, node2index, est_capacity):\n",
    "    edges_data = []\n",
    "    for edge in edges:\n",
    "        edges_data.append({\n",
    "            \"src\": node2index[edge[0]],\n",
    "            \"dst\": node2index[edge[1]],\n",
    "            \"capacity\": 1, # TODO: est capacity\n",
    "        })\n",
    "\n",
    "    return edges_data"
   ]
  },
  {
   "cell_type": "code",
   "execution_count": 118,
   "metadata": {},
   "outputs": [
    {
     "data": {
      "text/plain": [
       "((207, 207), 204.0)"
      ]
     },
     "execution_count": 118,
     "metadata": {},
     "output_type": "execute_result"
    }
   ],
   "source": [
    "manual_G = G.subgraph(manual_nodes)\n",
    "\n",
    "adjacency_matrix = nx.to_numpy_array(manual_G)\n",
    "adjacency_matrix.shape, np.sum(adjacency_matrix)"
   ]
  },
  {
   "cell_type": "code",
   "execution_count": 119,
   "metadata": {},
   "outputs": [],
   "source": [
    "np.save(\"./results/manual_adj_matrix.npy\", adjacency_matrix)"
   ]
  },
  {
   "cell_type": "code",
   "execution_count": 120,
   "metadata": {},
   "outputs": [
    {
     "data": {
      "text/plain": [
       "(207,\n",
       " {'node_id': 5721686016, 'lat': 10.8000091, 'lon': 106.6606224, 'index': 0})"
      ]
     },
     "execution_count": 120,
     "metadata": {},
     "output_type": "execute_result"
    }
   ],
   "source": [
    "manual_nodes_data = get_nodes_data(list(manual_G.nodes()), G)\n",
    "len(manual_nodes_data), manual_nodes_data[0]"
   ]
  },
  {
   "cell_type": "code",
   "execution_count": 122,
   "metadata": {},
   "outputs": [
    {
     "data": {
      "text/plain": [
       "204"
      ]
     },
     "execution_count": 122,
     "metadata": {},
     "output_type": "execute_result"
    }
   ],
   "source": [
    "n = len(manual_nodes_data)\n",
    "manual_edges_data = []\n",
    "\n",
    "for i in range(n):\n",
    "    node_i = manual_nodes_data[i]\n",
    "    for j in range(n):\n",
    "        node_j = manual_nodes_data[j]\n",
    "        if adjacency_matrix[i, j] > 0:\n",
    "            manual_edges_data.append({\n",
    "                \"src\": node_i['index'],\n",
    "                \"dst\": node_j['index'],\n",
    "                \"capacity\": int(adjacency_matrix[i, j]),\n",
    "            })\n",
    "\n",
    "len(manual_edges_data)"
   ]
  },
  {
   "cell_type": "code",
   "execution_count": 123,
   "metadata": {},
   "outputs": [],
   "source": [
    "dump_json(\"../front-end/src/data/test_edge_data.json\", manual_edges_data)"
   ]
  },
  {
   "cell_type": "code",
   "execution_count": 42,
   "metadata": {},
   "outputs": [
    {
     "data": {
      "text/plain": [
       "620"
      ]
     },
     "execution_count": 42,
     "metadata": {},
     "output_type": "execute_result"
    }
   ],
   "source": [
    "main_road_types = {\"primary\", \"secondary\"}\n",
    "connections = []\n",
    "\n",
    "for node_data in nodes_data:\n",
    "    node = node_data[\"node_id\"]\n",
    "    in_edges = list(G.in_edges(node, data=True))\n",
    "    out_edges = list(G.out_edges(node, data=True))\n",
    "\n",
    "    for u, v, d in (in_edges + out_edges):  # Get all edges connected to the node\n",
    "        # if d.get(\"highway\") in main_road_types:  # Check if it's a main road\n",
    "        if u in node2index and v in node2index: \n",
    "            connections.append((u, v))\n",
    "\n",
    "len(connections)\n"
   ]
  },
  {
   "cell_type": "code",
   "execution_count": 35,
   "metadata": {},
   "outputs": [
    {
     "data": {
      "text/plain": [
       "261"
      ]
     },
     "execution_count": 35,
     "metadata": {},
     "output_type": "execute_result"
    }
   ],
   "source": [
    "# Having manual nodes and connections\n",
    "\n",
    "nodes_data = load_json(\"../front-end/src/data/manual_node_data.json\") \n",
    "\n",
    "with open(\"./results/manual_edges.txt\", \"r\") as f:\n",
    "    manual_edge_connections = f.read().split(\"\\n\")\n",
    "\n",
    "connections = [(int(x.split(\",\")[0]), int(x.split(\",\")[1])) for x in manual_edge_connections if x]\n",
    "len(connections)"
   ]
  },
  {
   "cell_type": "code",
   "execution_count": 36,
   "metadata": {},
   "outputs": [
    {
     "data": {
      "text/plain": [
       "(192, 160)"
      ]
     },
     "execution_count": 36,
     "metadata": {},
     "output_type": "execute_result"
    }
   ],
   "source": [
    "connections[0]"
   ]
  },
  {
   "cell_type": "code",
   "execution_count": 37,
   "metadata": {},
   "outputs": [
    {
     "data": {
      "text/plain": [
       "488.0"
      ]
     },
     "execution_count": 37,
     "metadata": {},
     "output_type": "execute_result"
    }
   ],
   "source": [
    "n = len(nodes_data)\n",
    "adjacency_matrix = np.zeros((n, n))\n",
    "\n",
    "for u, v in connections:\n",
    "    idx_u, idx_v = u, v\n",
    "    # idx_u = node2index[u]\n",
    "    # idx_v = node2index[v]\n",
    "    adjacency_matrix[idx_u, idx_v] = 1 \n",
    "    adjacency_matrix[idx_v, idx_u] = 1 \n",
    "\n",
    "adjacency_matrix.sum()"
   ]
  },
  {
   "cell_type": "code",
   "execution_count": 38,
   "metadata": {},
   "outputs": [
    {
     "data": {
      "text/plain": [
       "488"
      ]
     },
     "execution_count": 38,
     "metadata": {},
     "output_type": "execute_result"
    }
   ],
   "source": [
    "from functools import partial\n",
    "\n",
    "def est_capacity(adj_value, row, col, node_data, est_width=20): \n",
    "    if int(adj_value) == 0:\n",
    "        return 0\n",
    "    \n",
    "    row_node = node_data[row]\n",
    "    col_node = node_data[col]\n",
    "    row_lat, row_lon = row_node['lat'], row_node['lon']\n",
    "    col_lat, col_lon = col_node['lat'], col_node['lon']\n",
    "    distance = geopy.distance.distance((row_lat, row_lon), (col_lat, col_lon)).m\n",
    "    capacity = adj_value * distance * est_width\n",
    "    if capacity <= 0:\n",
    "        print(adj_value, distance)\n",
    "    return capacity\n",
    "\n",
    "hehe = partial(est_capacity, node_data=nodes_data)\n",
    "\n",
    "adjacency_matrix = np.vectorize(hehe)(adjacency_matrix, np.indices(adjacency_matrix.shape)[0], np.indices(adjacency_matrix.shape)[1])\n",
    "len(adjacency_matrix[adjacency_matrix > 0])"
   ]
  },
  {
   "cell_type": "code",
   "execution_count": 39,
   "metadata": {},
   "outputs": [
    {
     "data": {
      "text/plain": [
       "count    42849.000000\n",
       "mean        67.105417\n",
       "std       1074.028133\n",
       "min          0.000000\n",
       "25%          0.000000\n",
       "50%          0.000000\n",
       "75%          0.000000\n",
       "max      82191.000000\n",
       "dtype: float64"
      ]
     },
     "execution_count": 39,
     "metadata": {},
     "output_type": "execute_result"
    }
   ],
   "source": [
    "capacity_series = pd.Series(adjacency_matrix.ravel())\n",
    "capacity_series.describe()"
   ]
  },
  {
   "cell_type": "code",
   "execution_count": 40,
   "metadata": {},
   "outputs": [],
   "source": [
    "np.save(\"results/manual_undi_adj_matrix.npy\", adjacency_matrix)"
   ]
  },
  {
   "cell_type": "code",
   "execution_count": 41,
   "metadata": {},
   "outputs": [
    {
     "data": {
      "text/plain": [
       "421"
      ]
     },
     "execution_count": 41,
     "metadata": {},
     "output_type": "execute_result"
    }
   ],
   "source": [
    "adjacency_matrix[80,199]"
   ]
  },
  {
   "cell_type": "code",
   "execution_count": 42,
   "metadata": {},
   "outputs": [
    {
     "data": {
      "text/plain": [
       "488"
      ]
     },
     "execution_count": 42,
     "metadata": {},
     "output_type": "execute_result"
    }
   ],
   "source": [
    "edges = []\n",
    "\n",
    "for i in range(n):\n",
    "    node_i = nodes_data[i]\n",
    "    for j in range(n):\n",
    "        node_j = nodes_data[j]\n",
    "        if adjacency_matrix[i, j] > 0:\n",
    "            edges.append({\n",
    "                \"src\": node_i['index'],\n",
    "                \"dst\": node_j['index'],\n",
    "                \"capacity\": int(adjacency_matrix[i, j]),\n",
    "            })\n",
    "\n",
    "len(edges)"
   ]
  },
  {
   "cell_type": "code",
   "execution_count": 43,
   "metadata": {},
   "outputs": [],
   "source": [
    "dump_json(\"../front-end/src/data/manual_edge_data.json\", edges)"
   ]
  },
  {
   "cell_type": "code",
   "execution_count": 1,
   "metadata": {},
   "outputs": [
    {
     "data": {
      "text/plain": [
       "488"
      ]
     },
     "execution_count": 1,
     "metadata": {},
     "output_type": "execute_result"
    }
   ],
   "source": [
    "from file import load_json\n",
    "\n",
    "len(load_json(\"../front-end/src/data/manual_edge_data.json\"))"
   ]
  },
  {
   "cell_type": "code",
   "execution_count": null,
   "metadata": {},
   "outputs": [],
   "source": []
  }
 ],
 "metadata": {
  "kernelspec": {
   "display_name": ".venv",
   "language": "python",
   "name": "python3"
  },
  "language_info": {
   "codemirror_mode": {
    "name": "ipython",
    "version": 3
   },
   "file_extension": ".py",
   "mimetype": "text/x-python",
   "name": "python",
   "nbconvert_exporter": "python",
   "pygments_lexer": "ipython3",
   "version": "3.10.0"
  }
 },
 "nbformat": 4,
 "nbformat_minor": 2
}
