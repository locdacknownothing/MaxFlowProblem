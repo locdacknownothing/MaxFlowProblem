{
 "cells": [
  {
   "cell_type": "code",
   "execution_count": 65,
   "metadata": {},
   "outputs": [
    {
     "name": "stderr",
     "output_type": "stream",
     "text": [
      "WARNING: You are using pip version 21.2.3; however, version 24.3.1 is available.\n",
      "You should consider upgrading via the 'E:\\ThS\\HK241\\MathFundamental\\Thay_Tuan_Anh\\MaxFlowProblem\\.venv\\Scripts\\python.exe -m pip install --upgrade pip' command.\n"
     ]
    }
   ],
   "source": [
    "!pip install -r requirements.txt -q"
   ]
  },
  {
   "cell_type": "code",
   "execution_count": 52,
   "metadata": {},
   "outputs": [],
   "source": [
    "import requests\n",
    "import time\n",
    "\n",
    "import osmnx as ox\n",
    "import networkx as nx\n",
    "import numpy as np"
   ]
  },
  {
   "cell_type": "code",
   "execution_count": 261,
   "metadata": {},
   "outputs": [],
   "source": [
    "base_coords = [\n",
    "    (10.801522348071677, 106.71143076476699),  # Nga tu Hang Xanh\n",
    "    (10.81339, 106.66519),  # San bay Tan Son Nhat\n",
    "    (10.7928977, 106.653385),  # Nga tu Bay Hien\n",
    "]\n",
    "\n",
    "BASE_OSM_IDS = [\n",
    "    971692819,\n",
    "    54242195,\n",
    "    11468863430,\n",
    "]"
   ]
  },
  {
   "cell_type": "code",
   "execution_count": null,
   "metadata": {},
   "outputs": [],
   "source": [
    "def geocode_osm(query):\n",
    "    url = f\"https://nominatim.openstreetmap.org/search?q={query}&format=json\"\n",
    "    headers = {\n",
    "        'User-Agent': 'Mozilla/5.0 (Windows NT 10.0; Win64; x64) AppleWebKit/537.36 (KHTML, like Gecko) Chrome/91.0.4472.124 Safari/537.36',\n",
    "        'Accept-Language': 'en-US,en;q=0.9',\n",
    "        'Referer': 'https://nominatim.openstreetmap.org'\n",
    "    }\n",
    "\n",
    "    retries = 0\n",
    "\n",
    "    while True:\n",
    "        response = requests.get(url, headers=headers)\n",
    "        time.sleep(1)\n",
    "        \n",
    "        if response.status_code == 200:\n",
    "            data = response.json()\n",
    "            return data\n",
    "        else:\n",
    "            print(f\"Failed to reverse geocode. Status code: {response.status_code}. Retrying...\")\n",
    "            retries += 1\n",
    "            if retries >= 3:\n",
    "                return \"Not found\""
   ]
  },
  {
   "cell_type": "markdown",
   "metadata": {},
   "source": [
    "### Get nodes including base nodes"
   ]
  },
  {
   "cell_type": "code",
   "execution_count": 54,
   "metadata": {},
   "outputs": [
    {
     "name": "stderr",
     "output_type": "stream",
     "text": [
      "C:\\Users\\Asus\\AppData\\Local\\Temp\\ipykernel_2856\\3773831754.py:2: FutureWarning: The expected order of coordinates in `bbox` will change in the v2.0.0 release to `(left, bottom, right, top)`.\n",
      "  G = ox.graph_from_bbox(bbox=bbox, network_type=\"drive\")\n"
     ]
    },
    {
     "data": {
      "text/plain": [
       "(1892, 366367322)"
      ]
     },
     "execution_count": 54,
     "metadata": {},
     "output_type": "execute_result"
    }
   ],
   "source": [
    "bbox = [10.817339, 10.793797, 106.711431, 106.651829]\n",
    "G = ox.graph_from_bbox(bbox=bbox, network_type=\"drive\")\n",
    "nodes = list(G.nodes)\n",
    "len(nodes), nodes[0]"
   ]
  },
  {
   "cell_type": "markdown",
   "metadata": {},
   "source": [
    "### Count the number of ones in adjacency matrix -> The number of edges"
   ]
  },
  {
   "cell_type": "code",
   "execution_count": null,
   "metadata": {},
   "outputs": [
    {
     "data": {
      "text/plain": [
       "(1892, 1892)"
      ]
     },
     "metadata": {},
     "output_type": "display_data"
    }
   ],
   "source": [
    "# sampled_nodes = np.random.choice(nodes, 200, replace=False)\n",
    "# subgraph = G.subgraph(sampled_nodes)\n",
    "adj_matrix = nx.to_numpy_array(G)\n",
    "adj_matrix.shape"
   ]
  },
  {
   "cell_type": "code",
   "execution_count": 60,
   "metadata": {},
   "outputs": [
    {
     "data": {
      "text/plain": [
       "array([3., 4., 1., ..., 1., 2., 2.])"
      ]
     },
     "execution_count": 60,
     "metadata": {},
     "output_type": "execute_result"
    }
   ],
   "source": [
    "adj_matrix.sum(axis=0)"
   ]
  },
  {
   "cell_type": "code",
   "execution_count": 56,
   "metadata": {},
   "outputs": [
    {
     "data": {
      "text/plain": [
       "4116.0"
      ]
     },
     "execution_count": 56,
     "metadata": {},
     "output_type": "execute_result"
    }
   ],
   "source": [
    "adj_matrix.sum()"
   ]
  },
  {
   "cell_type": "code",
   "execution_count": 57,
   "metadata": {},
   "outputs": [],
   "source": [
    "from pathlib import Path \n",
    "\n",
    "save_file = Path('results/adj_matrix.npy')\n",
    "save_file.parent.mkdir(parents=True, exist_ok=True)\n",
    "np.save(save_file, adj_matrix)"
   ]
  },
  {
   "cell_type": "code",
   "execution_count": 61,
   "metadata": {},
   "outputs": [
    {
     "data": {
      "text/plain": [
       "{'node_id': 366367322, 'lat': 10.7991329, 'lon': 106.6571621}"
      ]
     },
     "execution_count": 61,
     "metadata": {},
     "output_type": "execute_result"
    }
   ],
   "source": [
    "node_data = [{\"node_id\": node, \"lat\": data['y'], \"lon\": data['x']} for node, data in G.nodes(data=True)]\n",
    "node_data[0]"
   ]
  },
  {
   "cell_type": "code",
   "execution_count": 66,
   "metadata": {},
   "outputs": [],
   "source": [
    "def reverse_geocode_osm(lat, lon):\n",
    "    url = f\"https://nominatim.openstreetmap.org/reverse?lat={lat}&lon={lon}&format=json\"\n",
    "    headers = {\n",
    "        'User-Agent': 'Mozilla/5.0 (Windows NT 10.0; Win64; x64) AppleWebKit/537.36 (KHTML, like Gecko) Chrome/91.0.4472.124 Safari/537.36',\n",
    "        'Accept-Language': 'en-US,en;q=0.9',\n",
    "        'Referer': 'https://nominatim.openstreetmap.org'\n",
    "    }\n",
    "\n",
    "    retries = 0\n",
    "\n",
    "    while True:\n",
    "        response = requests.get(url, headers=headers)\n",
    "        time.sleep(1)\n",
    "        \n",
    "        if response.status_code == 200:\n",
    "            data = response.json()\n",
    "            return data\n",
    "        else:\n",
    "            print(f\"Failed to reverse geocode. Status code: {response.status_code}. Retrying...\")\n",
    "            retries += 1\n",
    "            if retries >= 3:\n",
    "                return \"Not found\""
   ]
  },
  {
   "cell_type": "code",
   "execution_count": 67,
   "metadata": {},
   "outputs": [],
   "source": [
    "data = [None] * len(node_data) "
   ]
  },
  {
   "cell_type": "code",
   "execution_count": 68,
   "metadata": {},
   "outputs": [
    {
     "name": "stdout",
     "output_type": "stream",
     "text": [
      "Get data ...\n"
     ]
    },
    {
     "name": "stderr",
     "output_type": "stream",
     "text": [
      "  0%|          | 0/1892 [00:00<?, ?it/s]"
     ]
    },
    {
     "name": "stderr",
     "output_type": "stream",
     "text": [
      "100%|██████████| 1892/1892 [58:40<00:00,  1.86s/it] \n"
     ]
    }
   ],
   "source": [
    "from tqdm import tqdm\n",
    "\n",
    "print(\"Get data ...\")\n",
    "\n",
    "for i, node_object in enumerate(tqdm(node_data)):\n",
    "    data[i] = reverse_geocode_osm(node_object['lat'], node_object['lon'])"
   ]
  },
  {
   "cell_type": "code",
   "execution_count": 70,
   "metadata": {},
   "outputs": [],
   "source": [
    "from file import dump_json, load_json\n",
    "\n",
    "dump_json('results/node_data.json', data)"
   ]
  },
  {
   "cell_type": "code",
   "execution_count": 81,
   "metadata": {},
   "outputs": [
    {
     "data": {
      "text/plain": [
       "['Hang Xanh Overpass, Ward 25, Binh Thanh District, Ho Chi Minh City, 72508, Vietnam',\n",
       " 'International Terminal, International Terminal Arrival Drive, Ward 2, Tan Binh District, Ho Chi Minh City, 72100, Vietnam',\n",
       " 'Ward 4, Tan Binh District, Ho Chi Minh City, 72106, Vietnam']"
      ]
     },
     "execution_count": 81,
     "metadata": {},
     "output_type": "execute_result"
    }
   ],
   "source": [
    "base_data = [reverse_geocode_osm(i[0], i[1]) for i in base_coords]\n",
    "[x[\"display_name\"] for x in base_data]"
   ]
  },
  {
   "cell_type": "code",
   "execution_count": 90,
   "metadata": {},
   "outputs": [
    {
     "data": {
      "text/plain": [
       "1892"
      ]
     },
     "execution_count": 90,
     "metadata": {},
     "output_type": "execute_result"
    }
   ],
   "source": [
    "full_data = data \n",
    "len(full_data) "
   ]
  },
  {
   "cell_type": "markdown",
   "metadata": {},
   "source": [
    "### Display data"
   ]
  },
  {
   "cell_type": "code",
   "execution_count": 91,
   "metadata": {},
   "outputs": [
    {
     "data": {
      "text/html": [
       "<div>\n",
       "<style scoped>\n",
       "    .dataframe tbody tr th:only-of-type {\n",
       "        vertical-align: middle;\n",
       "    }\n",
       "\n",
       "    .dataframe tbody tr th {\n",
       "        vertical-align: top;\n",
       "    }\n",
       "\n",
       "    .dataframe thead th {\n",
       "        text-align: right;\n",
       "    }\n",
       "</style>\n",
       "<table border=\"1\" class=\"dataframe\">\n",
       "  <thead>\n",
       "    <tr style=\"text-align: right;\">\n",
       "      <th></th>\n",
       "      <th>place_id</th>\n",
       "      <th>licence</th>\n",
       "      <th>osm_type</th>\n",
       "      <th>osm_id</th>\n",
       "      <th>lat</th>\n",
       "      <th>lon</th>\n",
       "      <th>class</th>\n",
       "      <th>type</th>\n",
       "      <th>place_rank</th>\n",
       "      <th>importance</th>\n",
       "      <th>addresstype</th>\n",
       "      <th>name</th>\n",
       "      <th>display_name</th>\n",
       "      <th>address</th>\n",
       "      <th>boundingbox</th>\n",
       "    </tr>\n",
       "  </thead>\n",
       "  <tbody>\n",
       "    <tr>\n",
       "      <th>0</th>\n",
       "      <td>237475900</td>\n",
       "      <td>Data © OpenStreetMap contributors, ODbL 1.0. h...</td>\n",
       "      <td>way</td>\n",
       "      <td>668267736</td>\n",
       "      <td>10.7991329</td>\n",
       "      <td>106.6571621</td>\n",
       "      <td>highway</td>\n",
       "      <td>residential</td>\n",
       "      <td>26</td>\n",
       "      <td>0.053400</td>\n",
       "      <td>road</td>\n",
       "      <td>Hẻm 97 Nguyễn Thái Bình</td>\n",
       "      <td>Hẻm 97 Nguyễn Thái Bình, Ward 4, Tan Binh Dist...</td>\n",
       "      <td>{'road': 'Hẻm 97 Nguyễn Thái Bình', 'quarter':...</td>\n",
       "      <td>[10.7987347, 10.7991329, 106.6571580, 106.6573...</td>\n",
       "    </tr>\n",
       "    <tr>\n",
       "      <th>1</th>\n",
       "      <td>237823328</td>\n",
       "      <td>Data © OpenStreetMap contributors, ODbL 1.0. h...</td>\n",
       "      <td>way</td>\n",
       "      <td>32581480</td>\n",
       "      <td>10.8102713</td>\n",
       "      <td>106.6668589</td>\n",
       "      <td>highway</td>\n",
       "      <td>residential</td>\n",
       "      <td>26</td>\n",
       "      <td>0.053400</td>\n",
       "      <td>road</td>\n",
       "      <td>Cửu Long</td>\n",
       "      <td>Cửu Long, Ward 2, Tan Binh District, Ho Chi Mi...</td>\n",
       "      <td>{'road': 'Cửu Long', 'quarter': 'Ward 2', 'sub...</td>\n",
       "      <td>[10.8094886, 10.8108099, 106.6648221, 106.6682...</td>\n",
       "    </tr>\n",
       "    <tr>\n",
       "      <th>2</th>\n",
       "      <td>237620675</td>\n",
       "      <td>Data © OpenStreetMap contributors, ODbL 1.0. h...</td>\n",
       "      <td>way</td>\n",
       "      <td>806265451</td>\n",
       "      <td>10.7965385</td>\n",
       "      <td>106.6525594</td>\n",
       "      <td>highway</td>\n",
       "      <td>tertiary</td>\n",
       "      <td>26</td>\n",
       "      <td>0.053400</td>\n",
       "      <td>road</td>\n",
       "      <td>Nguyễn Thái Bình</td>\n",
       "      <td>Nguyễn Thái Bình, Ward 12, Tan Binh District, ...</td>\n",
       "      <td>{'road': 'Nguyễn Thái Bình', 'quarter': 'Ward ...</td>\n",
       "      <td>[10.7951914, 10.7965385, 106.6504457, 106.6525...</td>\n",
       "    </tr>\n",
       "    <tr>\n",
       "      <th>3</th>\n",
       "      <td>237620335</td>\n",
       "      <td>Data © OpenStreetMap contributors, ODbL 1.0. h...</td>\n",
       "      <td>node</td>\n",
       "      <td>4209332089</td>\n",
       "      <td>10.7961796</td>\n",
       "      <td>106.6643062</td>\n",
       "      <td>amenity</td>\n",
       "      <td>pharmacy</td>\n",
       "      <td>30</td>\n",
       "      <td>0.000067</td>\n",
       "      <td>amenity</td>\n",
       "      <td>Diệt Mối Phúc Anh</td>\n",
       "      <td>Diệt Mối Phúc Anh, 39, Pham Van Hai, Ward 1, T...</td>\n",
       "      <td>{'amenity': 'Diệt Mối Phúc Anh', 'house_number...</td>\n",
       "      <td>[10.7961296, 10.7962296, 106.6642562, 106.6643...</td>\n",
       "    </tr>\n",
       "    <tr>\n",
       "      <th>4</th>\n",
       "      <td>239485905</td>\n",
       "      <td>Data © OpenStreetMap contributors, ODbL 1.0. h...</td>\n",
       "      <td>way</td>\n",
       "      <td>503314829</td>\n",
       "      <td>10.8011312</td>\n",
       "      <td>106.6757184</td>\n",
       "      <td>highway</td>\n",
       "      <td>residential</td>\n",
       "      <td>26</td>\n",
       "      <td>0.053400</td>\n",
       "      <td>road</td>\n",
       "      <td>Hẻm 17 Hồ Văn Huê</td>\n",
       "      <td>Hẻm 17 Hồ Văn Huê, Ward 9, Phu Nhuan District,...</td>\n",
       "      <td>{'road': 'Hẻm 17 Hồ Văn Huê', 'quarter': 'Ward...</td>\n",
       "      <td>[10.8011312, 10.8017269, 106.6748503, 106.6757...</td>\n",
       "    </tr>\n",
       "  </tbody>\n",
       "</table>\n",
       "</div>"
      ],
      "text/plain": [
       "    place_id                                            licence osm_type  \\\n",
       "0  237475900  Data © OpenStreetMap contributors, ODbL 1.0. h...      way   \n",
       "1  237823328  Data © OpenStreetMap contributors, ODbL 1.0. h...      way   \n",
       "2  237620675  Data © OpenStreetMap contributors, ODbL 1.0. h...      way   \n",
       "3  237620335  Data © OpenStreetMap contributors, ODbL 1.0. h...     node   \n",
       "4  239485905  Data © OpenStreetMap contributors, ODbL 1.0. h...      way   \n",
       "\n",
       "       osm_id         lat          lon    class         type  place_rank  \\\n",
       "0   668267736  10.7991329  106.6571621  highway  residential          26   \n",
       "1    32581480  10.8102713  106.6668589  highway  residential          26   \n",
       "2   806265451  10.7965385  106.6525594  highway     tertiary          26   \n",
       "3  4209332089  10.7961796  106.6643062  amenity     pharmacy          30   \n",
       "4   503314829  10.8011312  106.6757184  highway  residential          26   \n",
       "\n",
       "   importance addresstype                     name  \\\n",
       "0    0.053400        road  Hẻm 97 Nguyễn Thái Bình   \n",
       "1    0.053400        road                 Cửu Long   \n",
       "2    0.053400        road         Nguyễn Thái Bình   \n",
       "3    0.000067     amenity        Diệt Mối Phúc Anh   \n",
       "4    0.053400        road        Hẻm 17 Hồ Văn Huê   \n",
       "\n",
       "                                        display_name  \\\n",
       "0  Hẻm 97 Nguyễn Thái Bình, Ward 4, Tan Binh Dist...   \n",
       "1  Cửu Long, Ward 2, Tan Binh District, Ho Chi Mi...   \n",
       "2  Nguyễn Thái Bình, Ward 12, Tan Binh District, ...   \n",
       "3  Diệt Mối Phúc Anh, 39, Pham Van Hai, Ward 1, T...   \n",
       "4  Hẻm 17 Hồ Văn Huê, Ward 9, Phu Nhuan District,...   \n",
       "\n",
       "                                             address  \\\n",
       "0  {'road': 'Hẻm 97 Nguyễn Thái Bình', 'quarter':...   \n",
       "1  {'road': 'Cửu Long', 'quarter': 'Ward 2', 'sub...   \n",
       "2  {'road': 'Nguyễn Thái Bình', 'quarter': 'Ward ...   \n",
       "3  {'amenity': 'Diệt Mối Phúc Anh', 'house_number...   \n",
       "4  {'road': 'Hẻm 17 Hồ Văn Huê', 'quarter': 'Ward...   \n",
       "\n",
       "                                         boundingbox  \n",
       "0  [10.7987347, 10.7991329, 106.6571580, 106.6573...  \n",
       "1  [10.8094886, 10.8108099, 106.6648221, 106.6682...  \n",
       "2  [10.7951914, 10.7965385, 106.6504457, 106.6525...  \n",
       "3  [10.7961296, 10.7962296, 106.6642562, 106.6643...  \n",
       "4  [10.8011312, 10.8017269, 106.6748503, 106.6757...  "
      ]
     },
     "execution_count": 91,
     "metadata": {},
     "output_type": "execute_result"
    }
   ],
   "source": [
    "import pandas as pd\n",
    "\n",
    "df = pd.DataFrame(full_data)\n",
    "df.head()"
   ]
  },
  {
   "cell_type": "code",
   "execution_count": 92,
   "metadata": {},
   "outputs": [
    {
     "name": "stdout",
     "output_type": "stream",
     "text": [
      "<class 'pandas.core.frame.DataFrame'>\n",
      "RangeIndex: 1892 entries, 0 to 1891\n",
      "Data columns (total 15 columns):\n",
      " #   Column        Non-Null Count  Dtype  \n",
      "---  ------        --------------  -----  \n",
      " 0   place_id      1892 non-null   int64  \n",
      " 1   licence       1892 non-null   object \n",
      " 2   osm_type      1892 non-null   object \n",
      " 3   osm_id        1892 non-null   int64  \n",
      " 4   lat           1892 non-null   object \n",
      " 5   lon           1892 non-null   object \n",
      " 6   class         1892 non-null   object \n",
      " 7   type          1892 non-null   object \n",
      " 8   place_rank    1892 non-null   int64  \n",
      " 9   importance    1892 non-null   float64\n",
      " 10  addresstype   1892 non-null   object \n",
      " 11  name          1892 non-null   object \n",
      " 12  display_name  1892 non-null   object \n",
      " 13  address       1892 non-null   object \n",
      " 14  boundingbox   1892 non-null   object \n",
      "dtypes: float64(1), int64(3), object(11)\n",
      "memory usage: 221.8+ KB\n"
     ]
    }
   ],
   "source": [
    "df.info()"
   ]
  },
  {
   "cell_type": "markdown",
   "metadata": {},
   "source": [
    "### Adjacency matrix"
   ]
  },
  {
   "cell_type": "code",
   "execution_count": 88,
   "metadata": {},
   "outputs": [
    {
     "data": {
      "text/plain": [
       "(1892, 1892)"
      ]
     },
     "execution_count": 88,
     "metadata": {},
     "output_type": "execute_result"
    }
   ],
   "source": [
    "adj_matrix = np.load(\"results\\\\adj_matrix.npy\")\n",
    "adj_matrix.shape"
   ]
  },
  {
   "cell_type": "code",
   "execution_count": 94,
   "metadata": {},
   "outputs": [
    {
     "data": {
      "text/plain": [
       "array([[0., 0., 0., 0., 0., 0., 0., 0., 0., 0.],\n",
       "       [1., 0., 0., 0., 0., 0., 0., 0., 0., 0.],\n",
       "       [0., 0., 0., 0., 0., 0., 0., 0., 0., 0.],\n",
       "       [0., 0., 0., 0., 1., 0., 0., 0., 0., 0.],\n",
       "       [0., 0., 0., 1., 0., 1., 1., 0., 0., 0.],\n",
       "       [0., 0., 0., 0., 1., 0., 0., 0., 0., 0.],\n",
       "       [0., 0., 0., 0., 1., 0., 0., 0., 0., 0.],\n",
       "       [0., 0., 0., 0., 0., 0., 0., 0., 0., 0.],\n",
       "       [0., 0., 0., 0., 0., 0., 0., 0., 0., 0.],\n",
       "       [0., 0., 0., 0., 0., 0., 0., 0., 1., 0.]])"
      ]
     },
     "execution_count": 94,
     "metadata": {},
     "output_type": "execute_result"
    }
   ],
   "source": [
    "adj_matrix[-10:, -10:]"
   ]
  },
  {
   "cell_type": "code",
   "execution_count": 95,
   "metadata": {},
   "outputs": [
    {
     "data": {
      "text/plain": [
       "4116.0"
      ]
     },
     "execution_count": 95,
     "metadata": {},
     "output_type": "execute_result"
    }
   ],
   "source": [
    "np.sum(adj_matrix)"
   ]
  },
  {
   "cell_type": "code",
   "execution_count": 96,
   "metadata": {},
   "outputs": [
    {
     "data": {
      "text/plain": [
       "array([1., 1., 1., ..., 1., 1., 1.])"
      ]
     },
     "execution_count": 96,
     "metadata": {},
     "output_type": "execute_result"
    }
   ],
   "source": [
    "adj_matrix[adj_matrix == 1]"
   ]
  },
  {
   "cell_type": "code",
   "execution_count": 98,
   "metadata": {},
   "outputs": [
    {
     "data": {
      "text/plain": [
       "array([[   0,   10,    0,    0,    0],\n",
       "       [1555,    0,   15,    0,    0],\n",
       "       [   0,    0,    0,    0,    0],\n",
       "       [   0,    0,   80,    0,    9],\n",
       "       [   0,    0,    0,    0,    0]])"
      ]
     },
     "execution_count": 98,
     "metadata": {},
     "output_type": "execute_result"
    }
   ],
   "source": [
    "np.array([\n",
    "    [0,10,0,0,0],\n",
    "    [1555,0,15,0,0],\n",
    "    [0,0,0,0,0],\n",
    "    [0,0,80,0,9],\n",
    "    [0,0,0,0,0],\n",
    "])"
   ]
  },
  {
   "cell_type": "code",
   "execution_count": null,
   "metadata": {},
   "outputs": [],
   "source": [
    "lat1, lon1 = nodes[0]\n",
    "lat2, lon2 = nodes[1]\n",
    "n = 10 "
   ]
  },
  {
   "cell_type": "markdown",
   "metadata": {},
   "source": [
    "### Search for base nodes and \"Ngã ba, ngã tư, ...\""
   ]
  },
  {
   "cell_type": "code",
   "execution_count": 170,
   "metadata": {},
   "outputs": [],
   "source": [
    "airport_query = \"Tân Sơn Nhất Thành phố Hồ Chí Minh, Việt Nam\"\n",
    "hangxanh_query = \"ngã tư hàng xanh Thành phố Hồ Chí Minh, Việt Nam\"\n",
    "bayhien_query = \"ngã tư bảy hiền Thành phố Hồ Chí Minh, Việt Nam\"\n",
    "\n",
    "interested_keywords = [\n",
    "    \"ngã ba\", \n",
    "    \"ngã tư\", \n",
    "    \"nút giao\", \n",
    "    \"vòng xoay\", \n",
    "    \"ngã năm\", \n",
    "    \"ngã sáu\", \n",
    "    \"bùng binh\",\n",
    "    \"công trường dân chủ\",\n",
    "    \"giao lộ\",\n",
    "    \"trường đại học\",\n",
    "]\n",
    "interested_queries = [x + \" Thành phố Hồ Chí Minh, Việt Nam\" for x in interested_keywords]"
   ]
  },
  {
   "cell_type": "code",
   "execution_count": 171,
   "metadata": {},
   "outputs": [],
   "source": [
    "def search_osm(**params):\n",
    "    url = f\"https://nominatim.openstreetmap.org/search\"\n",
    "    headers = {\n",
    "        'User-Agent': 'Mozilla/5.0 (Windows NT 10.0; Win64; x64) AppleWebKit/537.36 (KHTML, like Gecko) Chrome/91.0.4472.124 Safari/537.36',\n",
    "        'Accept-Language': 'vi-VN,vi;q=0.9' ,\n",
    "        'Referer': 'https://nominatim.openstreetmap.org'\n",
    "    }\n",
    "\n",
    "    retries = 0\n",
    "\n",
    "    while True:\n",
    "        response = requests.get(url, params=params, headers=headers)\n",
    "        time.sleep(1)\n",
    "        \n",
    "        if response.status_code == 200:\n",
    "            data = response.json()\n",
    "            return data\n",
    "        else:\n",
    "            print(f\"Search failed. Status code: {response.status_code}. Retrying...\")\n",
    "            retries += 1\n",
    "            if retries >= 3:\n",
    "                return \"Not found\""
   ]
  },
  {
   "cell_type": "code",
   "execution_count": 172,
   "metadata": {},
   "outputs": [],
   "source": [
    "def dedupe_list_by_key(input_list, key):\n",
    "    seen = set()\n",
    "    result = []\n",
    "    \n",
    "    for obj in input_list:\n",
    "        key_value = obj[key]\n",
    "        if key_value not in seen:\n",
    "            seen.add(key_value)\n",
    "            result.append(obj)\n",
    "    \n",
    "    return result"
   ]
  },
  {
   "cell_type": "code",
   "execution_count": 173,
   "metadata": {},
   "outputs": [],
   "source": [
    "def get_data(query, kpi=10):\n",
    "    data = []\n",
    "\n",
    "    while len(data) < kpi:\n",
    "        params = {\n",
    "            \"q\": query,\n",
    "            \"format\": \"json\",\n",
    "            \"limit\": kpi,\n",
    "        }\n",
    "\n",
    "        batch_data = search_osm(**params)\n",
    "        data.extend(batch_data)\n",
    "\n",
    "    data = dedupe_list_by_key(data, \"osm_id\")\n",
    "    return data"
   ]
  },
  {
   "cell_type": "code",
   "execution_count": 174,
   "metadata": {},
   "outputs": [
    {
     "data": {
      "text/plain": [
       "7"
      ]
     },
     "execution_count": 174,
     "metadata": {},
     "output_type": "execute_result"
    }
   ],
   "source": [
    "airport_data = get_data(airport_query)\n",
    "len(airport_data)"
   ]
  },
  {
   "cell_type": "code",
   "execution_count": 175,
   "metadata": {},
   "outputs": [
    {
     "data": {
      "text/plain": [
       "6"
      ]
     },
     "execution_count": 175,
     "metadata": {},
     "output_type": "execute_result"
    }
   ],
   "source": [
    "filtered_airport_data = [airport for airport in airport_data if \"Tân Sơn Nhất\" in airport['name']]\n",
    "len(filtered_airport_data)"
   ]
  },
  {
   "cell_type": "code",
   "execution_count": 176,
   "metadata": {},
   "outputs": [
    {
     "data": {
      "text/plain": [
       "5"
      ]
     },
     "execution_count": 176,
     "metadata": {},
     "output_type": "execute_result"
    }
   ],
   "source": [
    "hangxanh_data = get_data(hangxanh_query)\n",
    "len(hangxanh_data)"
   ]
  },
  {
   "cell_type": "code",
   "execution_count": 177,
   "metadata": {},
   "outputs": [
    {
     "data": {
      "text/plain": [
       "2"
      ]
     },
     "execution_count": 177,
     "metadata": {},
     "output_type": "execute_result"
    }
   ],
   "source": [
    "bayhien_data = get_data(bayhien_query)\n",
    "len(bayhien_data)"
   ]
  },
  {
   "cell_type": "code",
   "execution_count": 178,
   "metadata": {},
   "outputs": [
    {
     "data": {
      "text/plain": [
       "194"
      ]
     },
     "execution_count": 178,
     "metadata": {},
     "output_type": "execute_result"
    }
   ],
   "source": [
    "additional_data = []\n",
    "\n",
    "for keyword, query in zip(interested_keywords, interested_queries):\n",
    "    _data = get_data(query, 100)\n",
    "    _data = [_data for _data in _data if _data['name'].lower().startswith(keyword)]\n",
    "    additional_data.extend(_data)\n",
    "\n",
    "len(additional_data)"
   ]
  },
  {
   "cell_type": "code",
   "execution_count": 179,
   "metadata": {},
   "outputs": [
    {
     "data": {
      "text/plain": [
       "204"
      ]
     },
     "execution_count": 179,
     "metadata": {},
     "output_type": "execute_result"
    }
   ],
   "source": [
    "node_data = additional_data + airport_data + hangxanh_data + bayhien_data\n",
    "node_data = dedupe_list_by_key(node_data, \"osm_id\")\n",
    "len(node_data)"
   ]
  },
  {
   "cell_type": "code",
   "execution_count": 180,
   "metadata": {},
   "outputs": [],
   "source": [
    "dump_json(\"results/node_data2.json\", node_data)"
   ]
  },
  {
   "cell_type": "markdown",
   "metadata": {},
   "source": [
    "## Load graph to calculate distance"
   ]
  },
  {
   "cell_type": "code",
   "execution_count": 181,
   "metadata": {},
   "outputs": [],
   "source": [
    "import pickle\n",
    "\n",
    "with open(\"results/graph.pkl\", \"rb\") as f:\n",
    "    graph = pickle.load(f)"
   ]
  },
  {
   "cell_type": "code",
   "execution_count": 189,
   "metadata": {},
   "outputs": [
    {
     "data": {
      "text/plain": [
       "(366225951, {'y': 10.6277126, 'x': 106.7368656, 'street_count': 3})"
      ]
     },
     "execution_count": 189,
     "metadata": {},
     "output_type": "execute_result"
    }
   ],
   "source": [
    "list(graph.nodes(data=True))[0]"
   ]
  },
  {
   "cell_type": "code",
   "execution_count": 247,
   "metadata": {},
   "outputs": [
    {
     "data": {
      "text/plain": [
       "136834"
      ]
     },
     "execution_count": 247,
     "metadata": {},
     "output_type": "execute_result"
    }
   ],
   "source": [
    "intersect_points = [data for data in graph.nodes(data=True) if data[1]['street_count'] > 1]\n",
    "len(intersect_points)"
   ]
  },
  {
   "cell_type": "code",
   "execution_count": 257,
   "metadata": {},
   "outputs": [],
   "source": [
    "import geopy.distance\n",
    "from tqdm import tqdm\n",
    "\n",
    "def get_k_closest_nodes(lat, lon, nodes, kpi=100):\n",
    "    distances = []\n",
    "    \n",
    "    for node, data in tqdm(nodes):\n",
    "        node_lat = data['y']\n",
    "        node_lon = data['x']\n",
    "        \n",
    "        # Calculate the geographical distance between the base and graph node\n",
    "        distance = geopy.distance.distance((lat, lon), (node_lat, node_lon)).km\n",
    "        \n",
    "        # Append the distance and the node ID\n",
    "        distances.append((distance, node))\n",
    "    \n",
    "    # Sort the nodes by distance and return the nearest ones\n",
    "    distances.sort(key=lambda x: x[0])  # Sort by distance (ascending)\n",
    "    return [node for _, node in distances[:kpi]]  # Get the 200 closest nodes"
   ]
  },
  {
   "cell_type": "code",
   "execution_count": 258,
   "metadata": {},
   "outputs": [
    {
     "name": "stderr",
     "output_type": "stream",
     "text": [
      "  0%|          | 0/136834 [00:00<?, ?it/s]"
     ]
    },
    {
     "name": "stderr",
     "output_type": "stream",
     "text": [
      "100%|██████████| 136834/136834 [00:59<00:00, 2296.23it/s]\n"
     ]
    },
    {
     "data": {
      "text/plain": [
       "100"
      ]
     },
     "execution_count": 258,
     "metadata": {},
     "output_type": "execute_result"
    }
   ],
   "source": [
    "hangxanh_closest_nodes = get_k_closest_nodes(*base_coords[0], intersect_points)\n",
    "len(hangxanh_closest_nodes)"
   ]
  },
  {
   "cell_type": "code",
   "execution_count": 260,
   "metadata": {},
   "outputs": [
    {
     "data": {
      "text/plain": [
       "{'y': 10.8016017, 'x': 106.7115512, 'street_count': 3}"
      ]
     },
     "execution_count": 260,
     "metadata": {},
     "output_type": "execute_result"
    }
   ],
   "source": [
    "graph.nodes()[hangxanh_closest_nodes[0]]"
   ]
  },
  {
   "cell_type": "code",
   "execution_count": 266,
   "metadata": {},
   "outputs": [
    {
     "name": "stderr",
     "output_type": "stream",
     "text": [
      "100%|██████████| 136834/136834 [01:00<00:00, 2262.08it/s]\n"
     ]
    },
    {
     "data": {
      "text/plain": [
       "100"
      ]
     },
     "execution_count": 266,
     "metadata": {},
     "output_type": "execute_result"
    }
   ],
   "source": [
    "base_coords[1] = (10.81245, 106.66506)\n",
    "tansonnhat_closest_nodes = get_k_closest_nodes(*base_coords[1], intersect_points)\n",
    "len(tansonnhat_closest_nodes)"
   ]
  },
  {
   "cell_type": "code",
   "execution_count": 267,
   "metadata": {},
   "outputs": [
    {
     "data": {
      "text/plain": [
       "{'y': 10.8124437, 'x': 106.6651622, 'street_count': 3}"
      ]
     },
     "execution_count": 267,
     "metadata": {},
     "output_type": "execute_result"
    }
   ],
   "source": [
    "graph.nodes()[tansonnhat_closest_nodes[0]]"
   ]
  },
  {
   "cell_type": "code",
   "execution_count": null,
   "metadata": {},
   "outputs": [
    {
     "name": "stderr",
     "output_type": "stream",
     "text": [
      "100%|██████████| 136834/136834 [01:01<00:00, 2234.64it/s]\n"
     ]
    },
    {
     "data": {
      "text/plain": [
       "100"
      ]
     },
     "execution_count": 264,
     "metadata": {},
     "output_type": "execute_result"
    }
   ],
   "source": [
    "bayhien_closest_nodes = get_k_closest_nodes(*base_coords[2], intersect_points)\n",
    "len(bayhien_closest_nodes)"
   ]
  },
  {
   "cell_type": "code",
   "execution_count": 265,
   "metadata": {},
   "outputs": [
    {
     "data": {
      "text/plain": [
       "{'y': 10.7929415, 'x': 106.6533454, 'street_count': 3}"
      ]
     },
     "execution_count": 265,
     "metadata": {},
     "output_type": "execute_result"
    }
   ],
   "source": [
    "graph.nodes()[bayhien_closest_nodes[0]]"
   ]
  },
  {
   "cell_type": "code",
   "execution_count": 305,
   "metadata": {},
   "outputs": [
    {
     "data": {
      "text/plain": [
       "300"
      ]
     },
     "execution_count": 305,
     "metadata": {},
     "output_type": "execute_result"
    }
   ],
   "source": [
    "all_nodes = set(hangxanh_closest_nodes + tansonnhat_closest_nodes + bayhien_closest_nodes)\n",
    "all_nodes = list(all_nodes)\n",
    "len(all_nodes)"
   ]
  },
  {
   "cell_type": "code",
   "execution_count": 297,
   "metadata": {},
   "outputs": [
    {
     "data": {
      "text/plain": [
       "561"
      ]
     },
     "execution_count": 297,
     "metadata": {},
     "output_type": "execute_result"
    }
   ],
   "source": [
    "adj_matrix = nx.to_numpy_array(graph.subgraph(all_nodes))\n",
    "adj_matrix = (adj_matrix > 0).astype(int)\n",
    "adj_matrix.sum()"
   ]
  },
  {
   "cell_type": "code",
   "execution_count": 298,
   "metadata": {},
   "outputs": [
    {
     "data": {
      "text/plain": [
       "0    89439\n",
       "1      561\n",
       "Name: count, dtype: int64"
      ]
     },
     "execution_count": 298,
     "metadata": {},
     "output_type": "execute_result"
    }
   ],
   "source": [
    "edges = pd.Series(adj_matrix.ravel())\n",
    "edges.value_counts()"
   ]
  },
  {
   "cell_type": "code",
   "execution_count": 309,
   "metadata": {},
   "outputs": [],
   "source": [
    "def get_node_data(node):\n",
    "    data = graph.nodes(data=True)[node]\n",
    "    return {\n",
    "        \"node_id\": node,\n",
    "        \"lat\": data['y'],\n",
    "        \"lon\": data['x'],\n",
    "    }\n",
    "\n",
    "node_data3 = [get_node_data(node) for node in all_nodes]\n",
    "dump_json(\"results/node_data3.json\", node_data3)"
   ]
  },
  {
   "cell_type": "code",
   "execution_count": 310,
   "metadata": {},
   "outputs": [],
   "source": [
    "def est_capacity(adj_value, row, col, node_data=node_data3, est_width=20): \n",
    "    if int(adj_value) == 0:\n",
    "        return 0\n",
    "    \n",
    "    row_node = node_data[row]\n",
    "    col_node = node_data[col]\n",
    "    row_lat, row_lon = row_node['lat'], row_node['lon']\n",
    "    col_lat, col_lon = col_node['lat'], col_node['lon']\n",
    "    distance = geopy.distance.distance((row_lat, row_lon), (col_lat, col_lon)).m\n",
    "    capacity = adj_value * distance * est_width\n",
    "    if capacity <= 0:\n",
    "        print(adj_value, distance)\n",
    "    return capacity"
   ]
  },
  {
   "cell_type": "code",
   "execution_count": 311,
   "metadata": {},
   "outputs": [
    {
     "name": "stdout",
     "output_type": "stream",
     "text": [
      "1 0.0\n",
      "1 0.0\n"
     ]
    },
    {
     "data": {
      "text/plain": [
       "(300, 300)"
      ]
     },
     "execution_count": 311,
     "metadata": {},
     "output_type": "execute_result"
    }
   ],
   "source": [
    "updated_adj_matrix = np.vectorize(est_capacity)(adj_matrix, np.indices(adj_matrix.shape)[0], np.indices(adj_matrix.shape)[1])\n",
    "updated_adj_matrix.shape"
   ]
  },
  {
   "cell_type": "code",
   "execution_count": 312,
   "metadata": {},
   "outputs": [
    {
     "data": {
      "text/plain": [
       "count     90000.000000\n",
       "mean        271.035833\n",
       "std        5206.882448\n",
       "min           0.000000\n",
       "25%           0.000000\n",
       "50%           0.000000\n",
       "75%           0.000000\n",
       "max      134019.000000\n",
       "dtype: float64"
      ]
     },
     "execution_count": 312,
     "metadata": {},
     "output_type": "execute_result"
    }
   ],
   "source": [
    "capacities = pd.Series(updated_adj_matrix.ravel())\n",
    "capacities.describe()"
   ]
  },
  {
   "cell_type": "code",
   "execution_count": 313,
   "metadata": {},
   "outputs": [
    {
     "data": {
      "text/plain": [
       "559"
      ]
     },
     "execution_count": 313,
     "metadata": {},
     "output_type": "execute_result"
    }
   ],
   "source": [
    "len(capacities[capacities > 0])"
   ]
  },
  {
   "cell_type": "code",
   "execution_count": 314,
   "metadata": {},
   "outputs": [],
   "source": [
    "np.save(\"results/adj_matrix3.npy\", updated_adj_matrix)"
   ]
  },
  {
   "cell_type": "markdown",
   "metadata": {},
   "source": [
    "## Load data and save edges data"
   ]
  },
  {
   "cell_type": "code",
   "execution_count": 5,
   "metadata": {},
   "outputs": [
    {
     "name": "stdout",
     "output_type": "stream",
     "text": [
      "(300, 300) 300\n"
     ]
    }
   ],
   "source": [
    "from file import load_json, dump_json\n",
    "import numpy as np\n",
    "\n",
    "adj_matrix = np.load(\"results/adj_matrix3.npy\")\n",
    "node_data = load_json(\"results/node_data3.json\")\n",
    "\n",
    "print(adj_matrix.shape, len(node_data))"
   ]
  },
  {
   "cell_type": "code",
   "execution_count": 9,
   "metadata": {},
   "outputs": [
    {
     "data": {
      "text/plain": [
       "559"
      ]
     },
     "execution_count": 9,
     "metadata": {},
     "output_type": "execute_result"
    }
   ],
   "source": [
    "n = len(node_data)\n",
    "edges = []\n",
    "\n",
    "for i in range(n):\n",
    "    node_i = node_data[i]\n",
    "    for j in range(n):\n",
    "        node_j = node_data[j]\n",
    "        if adj_matrix[i, j] > 0:\n",
    "            edges.append({\n",
    "                \"src\": node_i['node_id'],\n",
    "                \"dst\": node_j['node_id'],\n",
    "                \"capacity\": int(adj_matrix[i, j]),\n",
    "            })\n",
    "\n",
    "len(edges)"
   ]
  },
  {
   "cell_type": "code",
   "execution_count": 10,
   "metadata": {},
   "outputs": [],
   "source": [
    "dump_json(\"results/edge_data.json\", edges)"
   ]
  },
  {
   "cell_type": "code",
   "execution_count": null,
   "metadata": {},
   "outputs": [],
   "source": []
  }
 ],
 "metadata": {
  "kernelspec": {
   "display_name": ".venv",
   "language": "python",
   "name": "python3"
  },
  "language_info": {
   "codemirror_mode": {
    "name": "ipython",
    "version": 3
   },
   "file_extension": ".py",
   "mimetype": "text/x-python",
   "name": "python",
   "nbconvert_exporter": "python",
   "pygments_lexer": "ipython3",
   "version": "3.10.0"
  }
 },
 "nbformat": 4,
 "nbformat_minor": 2
}
