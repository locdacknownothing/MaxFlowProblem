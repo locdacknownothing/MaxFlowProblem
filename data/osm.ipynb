{
 "cells": [
  {
   "cell_type": "code",
   "execution_count": 3,
   "metadata": {},
   "outputs": [],
   "source": [
    "!pip install -r requirements.txt -q"
   ]
  },
  {
   "cell_type": "code",
   "execution_count": 4,
   "metadata": {},
   "outputs": [],
   "source": [
    "import requests\n",
    "import time\n",
    "\n",
    "import osmnx as ox\n",
    "import networkx as nx\n",
    "import numpy as np\n",
    "\n",
    "from pathlib import Path\n",
    "import pandas as pd\n",
    "import pickle \n",
    "import geopy.distance\n",
    "from tqdm import tqdm\n",
    "\n",
    "from file import dump_json, load_json"
   ]
  },
  {
   "cell_type": "code",
   "execution_count": 5,
   "metadata": {},
   "outputs": [],
   "source": [
    "base_coords = [\n",
    "    (10.801522348071677, 106.71143076476699),  # Nga tu Hang Xanh\n",
    "    (10.81339, 106.66519),  # San bay Tan Son Nhat\n",
    "    (10.7928977, 106.653385),  # Nga tu Bay Hien\n",
    "]\n",
    "\n",
    "BASE_OSM_IDS = [\n",
    "    971692819,\n",
    "    54242195,\n",
    "    11468863430,\n",
    "]"
   ]
  },
  {
   "cell_type": "code",
   "execution_count": 6,
   "metadata": {},
   "outputs": [],
   "source": [
    "def geocode_osm(query):\n",
    "    url = f\"https://nominatim.openstreetmap.org/search?q={query}&format=json\"\n",
    "    headers = {\n",
    "        'User-Agent': 'Mozilla/5.0 (Windows NT 10.0; Win64; x64) AppleWebKit/537.36 (KHTML, like Gecko) Chrome/91.0.4472.124 Safari/537.36',\n",
    "        'Accept-Language': 'en-US,en;q=0.9',\n",
    "        'Referer': 'https://nominatim.openstreetmap.org'\n",
    "    }\n",
    "\n",
    "    retries = 0\n",
    "\n",
    "    while True:\n",
    "        response = requests.get(url, headers=headers)\n",
    "        time.sleep(1)\n",
    "        \n",
    "        if response.status_code == 200:\n",
    "            data = response.json()\n",
    "            return data\n",
    "        else:\n",
    "            print(f\"Failed to reverse geocode. Status code: {response.status_code}. Retrying...\")\n",
    "            retries += 1\n",
    "            if retries >= 3:\n",
    "                return \"Not found\""
   ]
  },
  {
   "cell_type": "markdown",
   "metadata": {},
   "source": [
    "### Get nodes including base nodes"
   ]
  },
  {
   "cell_type": "code",
   "execution_count": 7,
   "metadata": {},
   "outputs": [
    {
     "name": "stderr",
     "output_type": "stream",
     "text": [
      "/var/folders/22/1c4nr48116vfbntd6ytx0hm80000gn/T/ipykernel_22371/3773831754.py:2: FutureWarning: The expected order of coordinates in `bbox` will change in the v2.0.0 release to `(left, bottom, right, top)`.\n",
      "  G = ox.graph_from_bbox(bbox=bbox, network_type=\"drive\")\n"
     ]
    },
    {
     "ename": "KeyboardInterrupt",
     "evalue": "",
     "output_type": "error",
     "traceback": [
      "\u001b[0;31m---------------------------------------------------------------------------\u001b[0m",
      "\u001b[0;31mKeyboardInterrupt\u001b[0m                         Traceback (most recent call last)",
      "Cell \u001b[0;32mIn[7], line 2\u001b[0m\n\u001b[1;32m      1\u001b[0m bbox \u001b[38;5;241m=\u001b[39m [\u001b[38;5;241m10.817339\u001b[39m, \u001b[38;5;241m10.793797\u001b[39m, \u001b[38;5;241m106.711431\u001b[39m, \u001b[38;5;241m106.651829\u001b[39m]\n\u001b[0;32m----> 2\u001b[0m G \u001b[38;5;241m=\u001b[39m \u001b[43mox\u001b[49m\u001b[38;5;241;43m.\u001b[39;49m\u001b[43mgraph_from_bbox\u001b[49m\u001b[43m(\u001b[49m\u001b[43mbbox\u001b[49m\u001b[38;5;241;43m=\u001b[39;49m\u001b[43mbbox\u001b[49m\u001b[43m,\u001b[49m\u001b[43m \u001b[49m\u001b[43mnetwork_type\u001b[49m\u001b[38;5;241;43m=\u001b[39;49m\u001b[38;5;124;43m\"\u001b[39;49m\u001b[38;5;124;43mdrive\u001b[39;49m\u001b[38;5;124;43m\"\u001b[39;49m\u001b[43m)\u001b[49m\n\u001b[1;32m      3\u001b[0m nodes \u001b[38;5;241m=\u001b[39m \u001b[38;5;28mlist\u001b[39m(G\u001b[38;5;241m.\u001b[39mnodes)\n\u001b[1;32m      4\u001b[0m \u001b[38;5;28mlen\u001b[39m(nodes), nodes[\u001b[38;5;241m0\u001b[39m]\n",
      "File \u001b[0;32m~/Documents/5.Master-of-Engineering/HK241/.venv/lib/python3.12/site-packages/osmnx/graph.py:112\u001b[0m, in \u001b[0;36mgraph_from_bbox\u001b[0;34m(north, south, east, west, bbox, network_type, simplify, retain_all, truncate_by_edge, clean_periphery, custom_filter)\u001b[0m\n\u001b[1;32m    109\u001b[0m polygon \u001b[38;5;241m=\u001b[39m utils_geo\u001b[38;5;241m.\u001b[39mbbox_to_poly(bbox\u001b[38;5;241m=\u001b[39mbbox)\n\u001b[1;32m    111\u001b[0m \u001b[38;5;66;03m# create graph using this polygon geometry\u001b[39;00m\n\u001b[0;32m--> 112\u001b[0m G \u001b[38;5;241m=\u001b[39m \u001b[43mgraph_from_polygon\u001b[49m\u001b[43m(\u001b[49m\n\u001b[1;32m    113\u001b[0m \u001b[43m    \u001b[49m\u001b[43mpolygon\u001b[49m\u001b[43m,\u001b[49m\n\u001b[1;32m    114\u001b[0m \u001b[43m    \u001b[49m\u001b[43mnetwork_type\u001b[49m\u001b[38;5;241;43m=\u001b[39;49m\u001b[43mnetwork_type\u001b[49m\u001b[43m,\u001b[49m\n\u001b[1;32m    115\u001b[0m \u001b[43m    \u001b[49m\u001b[43msimplify\u001b[49m\u001b[38;5;241;43m=\u001b[39;49m\u001b[43msimplify\u001b[49m\u001b[43m,\u001b[49m\n\u001b[1;32m    116\u001b[0m \u001b[43m    \u001b[49m\u001b[43mretain_all\u001b[49m\u001b[38;5;241;43m=\u001b[39;49m\u001b[43mretain_all\u001b[49m\u001b[43m,\u001b[49m\n\u001b[1;32m    117\u001b[0m \u001b[43m    \u001b[49m\u001b[43mtruncate_by_edge\u001b[49m\u001b[38;5;241;43m=\u001b[39;49m\u001b[43mtruncate_by_edge\u001b[49m\u001b[43m,\u001b[49m\n\u001b[1;32m    118\u001b[0m \u001b[43m    \u001b[49m\u001b[43mclean_periphery\u001b[49m\u001b[38;5;241;43m=\u001b[39;49m\u001b[43mclean_periphery\u001b[49m\u001b[43m,\u001b[49m\n\u001b[1;32m    119\u001b[0m \u001b[43m    \u001b[49m\u001b[43mcustom_filter\u001b[49m\u001b[38;5;241;43m=\u001b[39;49m\u001b[43mcustom_filter\u001b[49m\u001b[43m,\u001b[49m\n\u001b[1;32m    120\u001b[0m \u001b[43m\u001b[49m\u001b[43m)\u001b[49m\n\u001b[1;32m    122\u001b[0m utils\u001b[38;5;241m.\u001b[39mlog(\u001b[38;5;124mf\u001b[39m\u001b[38;5;124m\"\u001b[39m\u001b[38;5;124mgraph_from_bbox returned graph with \u001b[39m\u001b[38;5;132;01m{\u001b[39;00m\u001b[38;5;28mlen\u001b[39m(G)\u001b[38;5;132;01m:\u001b[39;00m\u001b[38;5;124m,\u001b[39m\u001b[38;5;132;01m}\u001b[39;00m\u001b[38;5;124m nodes and \u001b[39m\u001b[38;5;132;01m{\u001b[39;00m\u001b[38;5;28mlen\u001b[39m(G\u001b[38;5;241m.\u001b[39medges)\u001b[38;5;132;01m:\u001b[39;00m\u001b[38;5;124m,\u001b[39m\u001b[38;5;132;01m}\u001b[39;00m\u001b[38;5;124m edges\u001b[39m\u001b[38;5;124m\"\u001b[39m)\n\u001b[1;32m    123\u001b[0m \u001b[38;5;28;01mreturn\u001b[39;00m G\n",
      "File \u001b[0;32m~/Documents/5.Master-of-Engineering/HK241/.venv/lib/python3.12/site-packages/osmnx/graph.py:504\u001b[0m, in \u001b[0;36mgraph_from_polygon\u001b[0;34m(polygon, network_type, simplify, retain_all, truncate_by_edge, clean_periphery, custom_filter)\u001b[0m\n\u001b[1;32m    502\u001b[0m \u001b[38;5;66;03m# create buffered graph from the downloaded data\u001b[39;00m\n\u001b[1;32m    503\u001b[0m bidirectional \u001b[38;5;241m=\u001b[39m network_type \u001b[38;5;129;01min\u001b[39;00m settings\u001b[38;5;241m.\u001b[39mbidirectional_network_types\n\u001b[0;32m--> 504\u001b[0m G_buff \u001b[38;5;241m=\u001b[39m \u001b[43m_create_graph\u001b[49m\u001b[43m(\u001b[49m\u001b[43mresponse_jsons\u001b[49m\u001b[43m,\u001b[49m\u001b[43m \u001b[49m\u001b[43mretain_all\u001b[49m\u001b[38;5;241;43m=\u001b[39;49m\u001b[38;5;28;43;01mTrue\u001b[39;49;00m\u001b[43m,\u001b[49m\u001b[43m \u001b[49m\u001b[43mbidirectional\u001b[49m\u001b[38;5;241;43m=\u001b[39;49m\u001b[43mbidirectional\u001b[49m\u001b[43m)\u001b[49m\n\u001b[1;32m    506\u001b[0m \u001b[38;5;66;03m# truncate buffered graph to the buffered polygon and retain_all for\u001b[39;00m\n\u001b[1;32m    507\u001b[0m \u001b[38;5;66;03m# now. needed because overpass returns entire ways that also include\u001b[39;00m\n\u001b[1;32m    508\u001b[0m \u001b[38;5;66;03m# nodes outside the poly if the way (that is, a way with a single OSM\u001b[39;00m\n\u001b[1;32m    509\u001b[0m \u001b[38;5;66;03m# ID) has a node inside the poly at some point.\u001b[39;00m\n\u001b[1;32m    510\u001b[0m G_buff \u001b[38;5;241m=\u001b[39m truncate\u001b[38;5;241m.\u001b[39mtruncate_graph_polygon(G_buff, poly_buff, \u001b[38;5;28;01mTrue\u001b[39;00m, truncate_by_edge)\n",
      "File \u001b[0;32m~/Documents/5.Master-of-Engineering/HK241/.venv/lib/python3.12/site-packages/osmnx/graph.py:632\u001b[0m, in \u001b[0;36m_create_graph\u001b[0;34m(response_jsons, retain_all, bidirectional)\u001b[0m\n\u001b[1;32m    629\u001b[0m paths \u001b[38;5;241m=\u001b[39m {}\n\u001b[1;32m    631\u001b[0m \u001b[38;5;66;03m# consume response_jsons generator to download data from server\u001b[39;00m\n\u001b[0;32m--> 632\u001b[0m \u001b[43m\u001b[49m\u001b[38;5;28;43;01mfor\u001b[39;49;00m\u001b[43m \u001b[49m\u001b[43mresponse_json\u001b[49m\u001b[43m \u001b[49m\u001b[38;5;129;43;01min\u001b[39;49;00m\u001b[43m \u001b[49m\u001b[43mresponse_jsons\u001b[49m\u001b[43m:\u001b[49m\n\u001b[1;32m    633\u001b[0m \u001b[43m    \u001b[49m\u001b[43mresponse_count\u001b[49m\u001b[43m \u001b[49m\u001b[38;5;241;43m+\u001b[39;49m\u001b[38;5;241;43m=\u001b[39;49m\u001b[43m \u001b[49m\u001b[38;5;241;43m1\u001b[39;49m\n\u001b[1;32m    635\u001b[0m \u001b[43m    \u001b[49m\u001b[38;5;66;43;03m# if cache_only_mode, consume response_jsons then continue next loop\u001b[39;49;00m\n",
      "File \u001b[0;32m~/Documents/5.Master-of-Engineering/HK241/.venv/lib/python3.12/site-packages/osmnx/_overpass.py:369\u001b[0m, in \u001b[0;36m_download_overpass_network\u001b[0;34m(polygon, network_type, custom_filter)\u001b[0m\n\u001b[1;32m    367\u001b[0m \u001b[38;5;28;01mfor\u001b[39;00m polygon_coord_str \u001b[38;5;129;01min\u001b[39;00m polygon_coord_strs:\n\u001b[1;32m    368\u001b[0m     query_str \u001b[38;5;241m=\u001b[39m \u001b[38;5;124mf\u001b[39m\u001b[38;5;124m\"\u001b[39m\u001b[38;5;132;01m{\u001b[39;00moverpass_settings\u001b[38;5;132;01m}\u001b[39;00m\u001b[38;5;124m;(way\u001b[39m\u001b[38;5;132;01m{\u001b[39;00mosm_filter\u001b[38;5;132;01m}\u001b[39;00m\u001b[38;5;124m(poly:\u001b[39m\u001b[38;5;132;01m{\u001b[39;00mpolygon_coord_str\u001b[38;5;132;01m!r}\u001b[39;00m\u001b[38;5;124m);>;);out;\u001b[39m\u001b[38;5;124m\"\u001b[39m\n\u001b[0;32m--> 369\u001b[0m     \u001b[38;5;28;01myield\u001b[39;00m \u001b[43m_overpass_request\u001b[49m\u001b[43m(\u001b[49m\u001b[43mdata\u001b[49m\u001b[38;5;241;43m=\u001b[39;49m\u001b[43m{\u001b[49m\u001b[38;5;124;43m\"\u001b[39;49m\u001b[38;5;124;43mdata\u001b[39;49m\u001b[38;5;124;43m\"\u001b[39;49m\u001b[43m:\u001b[49m\u001b[43m \u001b[49m\u001b[43mquery_str\u001b[49m\u001b[43m}\u001b[49m\u001b[43m)\u001b[49m\n",
      "File \u001b[0;32m~/Documents/5.Master-of-Engineering/HK241/.venv/lib/python3.12/site-packages/osmnx/_overpass.py:458\u001b[0m, in \u001b[0;36m_overpass_request\u001b[0;34m(data, pause, error_pause)\u001b[0m\n\u001b[1;32m    456\u001b[0m \u001b[38;5;66;03m# transmit the HTTP POST request\u001b[39;00m\n\u001b[1;32m    457\u001b[0m utils\u001b[38;5;241m.\u001b[39mlog(\u001b[38;5;124mf\u001b[39m\u001b[38;5;124m\"\u001b[39m\u001b[38;5;124mPost \u001b[39m\u001b[38;5;132;01m{\u001b[39;00mprepared_url\u001b[38;5;132;01m}\u001b[39;00m\u001b[38;5;124m with timeout=\u001b[39m\u001b[38;5;132;01m{\u001b[39;00mtimeout\u001b[38;5;132;01m}\u001b[39;00m\u001b[38;5;124m\"\u001b[39m)\n\u001b[0;32m--> 458\u001b[0m response \u001b[38;5;241m=\u001b[39m \u001b[43mrequests\u001b[49m\u001b[38;5;241;43m.\u001b[39;49m\u001b[43mpost\u001b[49m\u001b[43m(\u001b[49m\n\u001b[1;32m    459\u001b[0m \u001b[43m    \u001b[49m\u001b[43murl\u001b[49m\u001b[43m,\u001b[49m\n\u001b[1;32m    460\u001b[0m \u001b[43m    \u001b[49m\u001b[43mdata\u001b[49m\u001b[38;5;241;43m=\u001b[39;49m\u001b[43mdata\u001b[49m\u001b[43m,\u001b[49m\n\u001b[1;32m    461\u001b[0m \u001b[43m    \u001b[49m\u001b[43mtimeout\u001b[49m\u001b[38;5;241;43m=\u001b[39;49m\u001b[43mtimeout\u001b[49m\u001b[43m,\u001b[49m\n\u001b[1;32m    462\u001b[0m \u001b[43m    \u001b[49m\u001b[43mheaders\u001b[49m\u001b[38;5;241;43m=\u001b[39;49m\u001b[43m_downloader\u001b[49m\u001b[38;5;241;43m.\u001b[39;49m\u001b[43m_get_http_headers\u001b[49m\u001b[43m(\u001b[49m\u001b[43m)\u001b[49m\u001b[43m,\u001b[49m\n\u001b[1;32m    463\u001b[0m \u001b[43m    \u001b[49m\u001b[38;5;241;43m*\u001b[39;49m\u001b[38;5;241;43m*\u001b[39;49m\u001b[43msettings\u001b[49m\u001b[38;5;241;43m.\u001b[39;49m\u001b[43mrequests_kwargs\u001b[49m\u001b[43m,\u001b[49m\n\u001b[1;32m    464\u001b[0m \u001b[43m\u001b[49m\u001b[43m)\u001b[49m\n\u001b[1;32m    466\u001b[0m \u001b[38;5;66;03m# handle 429 and 504 errors by pausing then recursively re-trying request\u001b[39;00m\n\u001b[1;32m    467\u001b[0m \u001b[38;5;28;01mif\u001b[39;00m response\u001b[38;5;241m.\u001b[39mstatus_code \u001b[38;5;129;01min\u001b[39;00m {\u001b[38;5;241m429\u001b[39m, \u001b[38;5;241m504\u001b[39m}:  \u001b[38;5;66;03m# pragma: no cover\u001b[39;00m\n",
      "File \u001b[0;32m~/Documents/5.Master-of-Engineering/HK241/.venv/lib/python3.12/site-packages/requests/api.py:115\u001b[0m, in \u001b[0;36mpost\u001b[0;34m(url, data, json, **kwargs)\u001b[0m\n\u001b[1;32m    103\u001b[0m \u001b[38;5;28;01mdef\u001b[39;00m \u001b[38;5;21mpost\u001b[39m(url, data\u001b[38;5;241m=\u001b[39m\u001b[38;5;28;01mNone\u001b[39;00m, json\u001b[38;5;241m=\u001b[39m\u001b[38;5;28;01mNone\u001b[39;00m, \u001b[38;5;241m*\u001b[39m\u001b[38;5;241m*\u001b[39mkwargs):\n\u001b[1;32m    104\u001b[0m \u001b[38;5;250m    \u001b[39m\u001b[38;5;124mr\u001b[39m\u001b[38;5;124;03m\"\"\"Sends a POST request.\u001b[39;00m\n\u001b[1;32m    105\u001b[0m \n\u001b[1;32m    106\u001b[0m \u001b[38;5;124;03m    :param url: URL for the new :class:`Request` object.\u001b[39;00m\n\u001b[0;32m   (...)\u001b[0m\n\u001b[1;32m    112\u001b[0m \u001b[38;5;124;03m    :rtype: requests.Response\u001b[39;00m\n\u001b[1;32m    113\u001b[0m \u001b[38;5;124;03m    \"\"\"\u001b[39;00m\n\u001b[0;32m--> 115\u001b[0m     \u001b[38;5;28;01mreturn\u001b[39;00m \u001b[43mrequest\u001b[49m\u001b[43m(\u001b[49m\u001b[38;5;124;43m\"\u001b[39;49m\u001b[38;5;124;43mpost\u001b[39;49m\u001b[38;5;124;43m\"\u001b[39;49m\u001b[43m,\u001b[49m\u001b[43m \u001b[49m\u001b[43murl\u001b[49m\u001b[43m,\u001b[49m\u001b[43m \u001b[49m\u001b[43mdata\u001b[49m\u001b[38;5;241;43m=\u001b[39;49m\u001b[43mdata\u001b[49m\u001b[43m,\u001b[49m\u001b[43m \u001b[49m\u001b[43mjson\u001b[49m\u001b[38;5;241;43m=\u001b[39;49m\u001b[43mjson\u001b[49m\u001b[43m,\u001b[49m\u001b[43m \u001b[49m\u001b[38;5;241;43m*\u001b[39;49m\u001b[38;5;241;43m*\u001b[39;49m\u001b[43mkwargs\u001b[49m\u001b[43m)\u001b[49m\n",
      "File \u001b[0;32m~/Documents/5.Master-of-Engineering/HK241/.venv/lib/python3.12/site-packages/requests/api.py:59\u001b[0m, in \u001b[0;36mrequest\u001b[0;34m(method, url, **kwargs)\u001b[0m\n\u001b[1;32m     55\u001b[0m \u001b[38;5;66;03m# By using the 'with' statement we are sure the session is closed, thus we\u001b[39;00m\n\u001b[1;32m     56\u001b[0m \u001b[38;5;66;03m# avoid leaving sockets open which can trigger a ResourceWarning in some\u001b[39;00m\n\u001b[1;32m     57\u001b[0m \u001b[38;5;66;03m# cases, and look like a memory leak in others.\u001b[39;00m\n\u001b[1;32m     58\u001b[0m \u001b[38;5;28;01mwith\u001b[39;00m sessions\u001b[38;5;241m.\u001b[39mSession() \u001b[38;5;28;01mas\u001b[39;00m session:\n\u001b[0;32m---> 59\u001b[0m     \u001b[38;5;28;01mreturn\u001b[39;00m \u001b[43msession\u001b[49m\u001b[38;5;241;43m.\u001b[39;49m\u001b[43mrequest\u001b[49m\u001b[43m(\u001b[49m\u001b[43mmethod\u001b[49m\u001b[38;5;241;43m=\u001b[39;49m\u001b[43mmethod\u001b[49m\u001b[43m,\u001b[49m\u001b[43m \u001b[49m\u001b[43murl\u001b[49m\u001b[38;5;241;43m=\u001b[39;49m\u001b[43murl\u001b[49m\u001b[43m,\u001b[49m\u001b[43m \u001b[49m\u001b[38;5;241;43m*\u001b[39;49m\u001b[38;5;241;43m*\u001b[39;49m\u001b[43mkwargs\u001b[49m\u001b[43m)\u001b[49m\n",
      "File \u001b[0;32m~/Documents/5.Master-of-Engineering/HK241/.venv/lib/python3.12/site-packages/requests/sessions.py:589\u001b[0m, in \u001b[0;36mSession.request\u001b[0;34m(self, method, url, params, data, headers, cookies, files, auth, timeout, allow_redirects, proxies, hooks, stream, verify, cert, json)\u001b[0m\n\u001b[1;32m    584\u001b[0m send_kwargs \u001b[38;5;241m=\u001b[39m {\n\u001b[1;32m    585\u001b[0m     \u001b[38;5;124m\"\u001b[39m\u001b[38;5;124mtimeout\u001b[39m\u001b[38;5;124m\"\u001b[39m: timeout,\n\u001b[1;32m    586\u001b[0m     \u001b[38;5;124m\"\u001b[39m\u001b[38;5;124mallow_redirects\u001b[39m\u001b[38;5;124m\"\u001b[39m: allow_redirects,\n\u001b[1;32m    587\u001b[0m }\n\u001b[1;32m    588\u001b[0m send_kwargs\u001b[38;5;241m.\u001b[39mupdate(settings)\n\u001b[0;32m--> 589\u001b[0m resp \u001b[38;5;241m=\u001b[39m \u001b[38;5;28;43mself\u001b[39;49m\u001b[38;5;241;43m.\u001b[39;49m\u001b[43msend\u001b[49m\u001b[43m(\u001b[49m\u001b[43mprep\u001b[49m\u001b[43m,\u001b[49m\u001b[43m \u001b[49m\u001b[38;5;241;43m*\u001b[39;49m\u001b[38;5;241;43m*\u001b[39;49m\u001b[43msend_kwargs\u001b[49m\u001b[43m)\u001b[49m\n\u001b[1;32m    591\u001b[0m \u001b[38;5;28;01mreturn\u001b[39;00m resp\n",
      "File \u001b[0;32m~/Documents/5.Master-of-Engineering/HK241/.venv/lib/python3.12/site-packages/requests/sessions.py:746\u001b[0m, in \u001b[0;36mSession.send\u001b[0;34m(self, request, **kwargs)\u001b[0m\n\u001b[1;32m    743\u001b[0m         \u001b[38;5;28;01mpass\u001b[39;00m\n\u001b[1;32m    745\u001b[0m \u001b[38;5;28;01mif\u001b[39;00m \u001b[38;5;129;01mnot\u001b[39;00m stream:\n\u001b[0;32m--> 746\u001b[0m     \u001b[43mr\u001b[49m\u001b[38;5;241;43m.\u001b[39;49m\u001b[43mcontent\u001b[49m\n\u001b[1;32m    748\u001b[0m \u001b[38;5;28;01mreturn\u001b[39;00m r\n",
      "File \u001b[0;32m~/Documents/5.Master-of-Engineering/HK241/.venv/lib/python3.12/site-packages/requests/models.py:902\u001b[0m, in \u001b[0;36mResponse.content\u001b[0;34m(self)\u001b[0m\n\u001b[1;32m    900\u001b[0m         \u001b[38;5;28mself\u001b[39m\u001b[38;5;241m.\u001b[39m_content \u001b[38;5;241m=\u001b[39m \u001b[38;5;28;01mNone\u001b[39;00m\n\u001b[1;32m    901\u001b[0m     \u001b[38;5;28;01melse\u001b[39;00m:\n\u001b[0;32m--> 902\u001b[0m         \u001b[38;5;28mself\u001b[39m\u001b[38;5;241m.\u001b[39m_content \u001b[38;5;241m=\u001b[39m \u001b[38;5;124;43mb\u001b[39;49m\u001b[38;5;124;43m\"\u001b[39;49m\u001b[38;5;124;43m\"\u001b[39;49m\u001b[38;5;241;43m.\u001b[39;49m\u001b[43mjoin\u001b[49m\u001b[43m(\u001b[49m\u001b[38;5;28;43mself\u001b[39;49m\u001b[38;5;241;43m.\u001b[39;49m\u001b[43miter_content\u001b[49m\u001b[43m(\u001b[49m\u001b[43mCONTENT_CHUNK_SIZE\u001b[49m\u001b[43m)\u001b[49m\u001b[43m)\u001b[49m \u001b[38;5;129;01mor\u001b[39;00m \u001b[38;5;124mb\u001b[39m\u001b[38;5;124m\"\u001b[39m\u001b[38;5;124m\"\u001b[39m\n\u001b[1;32m    904\u001b[0m \u001b[38;5;28mself\u001b[39m\u001b[38;5;241m.\u001b[39m_content_consumed \u001b[38;5;241m=\u001b[39m \u001b[38;5;28;01mTrue\u001b[39;00m\n\u001b[1;32m    905\u001b[0m \u001b[38;5;66;03m# don't need to release the connection; that's been handled by urllib3\u001b[39;00m\n\u001b[1;32m    906\u001b[0m \u001b[38;5;66;03m# since we exhausted the data.\u001b[39;00m\n",
      "File \u001b[0;32m~/Documents/5.Master-of-Engineering/HK241/.venv/lib/python3.12/site-packages/requests/models.py:820\u001b[0m, in \u001b[0;36mResponse.iter_content.<locals>.generate\u001b[0;34m()\u001b[0m\n\u001b[1;32m    818\u001b[0m \u001b[38;5;28;01mif\u001b[39;00m \u001b[38;5;28mhasattr\u001b[39m(\u001b[38;5;28mself\u001b[39m\u001b[38;5;241m.\u001b[39mraw, \u001b[38;5;124m\"\u001b[39m\u001b[38;5;124mstream\u001b[39m\u001b[38;5;124m\"\u001b[39m):\n\u001b[1;32m    819\u001b[0m     \u001b[38;5;28;01mtry\u001b[39;00m:\n\u001b[0;32m--> 820\u001b[0m         \u001b[38;5;28;01myield from\u001b[39;00m \u001b[38;5;28mself\u001b[39m\u001b[38;5;241m.\u001b[39mraw\u001b[38;5;241m.\u001b[39mstream(chunk_size, decode_content\u001b[38;5;241m=\u001b[39m\u001b[38;5;28;01mTrue\u001b[39;00m)\n\u001b[1;32m    821\u001b[0m     \u001b[38;5;28;01mexcept\u001b[39;00m ProtocolError \u001b[38;5;28;01mas\u001b[39;00m e:\n\u001b[1;32m    822\u001b[0m         \u001b[38;5;28;01mraise\u001b[39;00m ChunkedEncodingError(e)\n",
      "File \u001b[0;32m~/Documents/5.Master-of-Engineering/HK241/.venv/lib/python3.12/site-packages/urllib3/response.py:1057\u001b[0m, in \u001b[0;36mHTTPResponse.stream\u001b[0;34m(self, amt, decode_content)\u001b[0m\n\u001b[1;32m   1041\u001b[0m \u001b[38;5;250m\u001b[39m\u001b[38;5;124;03m\"\"\"\u001b[39;00m\n\u001b[1;32m   1042\u001b[0m \u001b[38;5;124;03mA generator wrapper for the read() method. A call will block until\u001b[39;00m\n\u001b[1;32m   1043\u001b[0m \u001b[38;5;124;03m``amt`` bytes have been read from the connection or until the\u001b[39;00m\n\u001b[0;32m   (...)\u001b[0m\n\u001b[1;32m   1054\u001b[0m \u001b[38;5;124;03m    'content-encoding' header.\u001b[39;00m\n\u001b[1;32m   1055\u001b[0m \u001b[38;5;124;03m\"\"\"\u001b[39;00m\n\u001b[1;32m   1056\u001b[0m \u001b[38;5;28;01mif\u001b[39;00m \u001b[38;5;28mself\u001b[39m\u001b[38;5;241m.\u001b[39mchunked \u001b[38;5;129;01mand\u001b[39;00m \u001b[38;5;28mself\u001b[39m\u001b[38;5;241m.\u001b[39msupports_chunked_reads():\n\u001b[0;32m-> 1057\u001b[0m     \u001b[38;5;28;01myield from\u001b[39;00m \u001b[38;5;28mself\u001b[39m\u001b[38;5;241m.\u001b[39mread_chunked(amt, decode_content\u001b[38;5;241m=\u001b[39mdecode_content)\n\u001b[1;32m   1058\u001b[0m \u001b[38;5;28;01melse\u001b[39;00m:\n\u001b[1;32m   1059\u001b[0m     \u001b[38;5;28;01mwhile\u001b[39;00m \u001b[38;5;129;01mnot\u001b[39;00m is_fp_closed(\u001b[38;5;28mself\u001b[39m\u001b[38;5;241m.\u001b[39m_fp) \u001b[38;5;129;01mor\u001b[39;00m \u001b[38;5;28mlen\u001b[39m(\u001b[38;5;28mself\u001b[39m\u001b[38;5;241m.\u001b[39m_decoded_buffer) \u001b[38;5;241m>\u001b[39m \u001b[38;5;241m0\u001b[39m:\n",
      "File \u001b[0;32m~/Documents/5.Master-of-Engineering/HK241/.venv/lib/python3.12/site-packages/urllib3/response.py:1206\u001b[0m, in \u001b[0;36mHTTPResponse.read_chunked\u001b[0;34m(self, amt, decode_content)\u001b[0m\n\u001b[1;32m   1203\u001b[0m     amt \u001b[38;5;241m=\u001b[39m \u001b[38;5;28;01mNone\u001b[39;00m\n\u001b[1;32m   1205\u001b[0m \u001b[38;5;28;01mwhile\u001b[39;00m \u001b[38;5;28;01mTrue\u001b[39;00m:\n\u001b[0;32m-> 1206\u001b[0m     \u001b[38;5;28;43mself\u001b[39;49m\u001b[38;5;241;43m.\u001b[39;49m\u001b[43m_update_chunk_length\u001b[49m\u001b[43m(\u001b[49m\u001b[43m)\u001b[49m\n\u001b[1;32m   1207\u001b[0m     \u001b[38;5;28;01mif\u001b[39;00m \u001b[38;5;28mself\u001b[39m\u001b[38;5;241m.\u001b[39mchunk_left \u001b[38;5;241m==\u001b[39m \u001b[38;5;241m0\u001b[39m:\n\u001b[1;32m   1208\u001b[0m         \u001b[38;5;28;01mbreak\u001b[39;00m\n",
      "File \u001b[0;32m~/Documents/5.Master-of-Engineering/HK241/.venv/lib/python3.12/site-packages/urllib3/response.py:1125\u001b[0m, in \u001b[0;36mHTTPResponse._update_chunk_length\u001b[0;34m(self)\u001b[0m\n\u001b[1;32m   1123\u001b[0m \u001b[38;5;28;01mif\u001b[39;00m \u001b[38;5;28mself\u001b[39m\u001b[38;5;241m.\u001b[39mchunk_left \u001b[38;5;129;01mis\u001b[39;00m \u001b[38;5;129;01mnot\u001b[39;00m \u001b[38;5;28;01mNone\u001b[39;00m:\n\u001b[1;32m   1124\u001b[0m     \u001b[38;5;28;01mreturn\u001b[39;00m \u001b[38;5;28;01mNone\u001b[39;00m\n\u001b[0;32m-> 1125\u001b[0m line \u001b[38;5;241m=\u001b[39m \u001b[38;5;28;43mself\u001b[39;49m\u001b[38;5;241;43m.\u001b[39;49m\u001b[43m_fp\u001b[49m\u001b[38;5;241;43m.\u001b[39;49m\u001b[43mfp\u001b[49m\u001b[38;5;241;43m.\u001b[39;49m\u001b[43mreadline\u001b[49m\u001b[43m(\u001b[49m\u001b[43m)\u001b[49m  \u001b[38;5;66;03m# type: ignore[union-attr]\u001b[39;00m\n\u001b[1;32m   1126\u001b[0m line \u001b[38;5;241m=\u001b[39m line\u001b[38;5;241m.\u001b[39msplit(\u001b[38;5;124mb\u001b[39m\u001b[38;5;124m\"\u001b[39m\u001b[38;5;124m;\u001b[39m\u001b[38;5;124m\"\u001b[39m, \u001b[38;5;241m1\u001b[39m)[\u001b[38;5;241m0\u001b[39m]\n\u001b[1;32m   1127\u001b[0m \u001b[38;5;28;01mtry\u001b[39;00m:\n",
      "File \u001b[0;32m/Library/Frameworks/Python.framework/Versions/3.12/lib/python3.12/socket.py:708\u001b[0m, in \u001b[0;36mSocketIO.readinto\u001b[0;34m(self, b)\u001b[0m\n\u001b[1;32m    706\u001b[0m \u001b[38;5;28;01mwhile\u001b[39;00m \u001b[38;5;28;01mTrue\u001b[39;00m:\n\u001b[1;32m    707\u001b[0m     \u001b[38;5;28;01mtry\u001b[39;00m:\n\u001b[0;32m--> 708\u001b[0m         \u001b[38;5;28;01mreturn\u001b[39;00m \u001b[38;5;28;43mself\u001b[39;49m\u001b[38;5;241;43m.\u001b[39;49m\u001b[43m_sock\u001b[49m\u001b[38;5;241;43m.\u001b[39;49m\u001b[43mrecv_into\u001b[49m\u001b[43m(\u001b[49m\u001b[43mb\u001b[49m\u001b[43m)\u001b[49m\n\u001b[1;32m    709\u001b[0m     \u001b[38;5;28;01mexcept\u001b[39;00m timeout:\n\u001b[1;32m    710\u001b[0m         \u001b[38;5;28mself\u001b[39m\u001b[38;5;241m.\u001b[39m_timeout_occurred \u001b[38;5;241m=\u001b[39m \u001b[38;5;28;01mTrue\u001b[39;00m\n",
      "File \u001b[0;32m/Library/Frameworks/Python.framework/Versions/3.12/lib/python3.12/ssl.py:1252\u001b[0m, in \u001b[0;36mSSLSocket.recv_into\u001b[0;34m(self, buffer, nbytes, flags)\u001b[0m\n\u001b[1;32m   1248\u001b[0m     \u001b[38;5;28;01mif\u001b[39;00m flags \u001b[38;5;241m!=\u001b[39m \u001b[38;5;241m0\u001b[39m:\n\u001b[1;32m   1249\u001b[0m         \u001b[38;5;28;01mraise\u001b[39;00m \u001b[38;5;167;01mValueError\u001b[39;00m(\n\u001b[1;32m   1250\u001b[0m           \u001b[38;5;124m\"\u001b[39m\u001b[38;5;124mnon-zero flags not allowed in calls to recv_into() on \u001b[39m\u001b[38;5;132;01m%s\u001b[39;00m\u001b[38;5;124m\"\u001b[39m \u001b[38;5;241m%\u001b[39m\n\u001b[1;32m   1251\u001b[0m           \u001b[38;5;28mself\u001b[39m\u001b[38;5;241m.\u001b[39m\u001b[38;5;18m__class__\u001b[39m)\n\u001b[0;32m-> 1252\u001b[0m     \u001b[38;5;28;01mreturn\u001b[39;00m \u001b[38;5;28;43mself\u001b[39;49m\u001b[38;5;241;43m.\u001b[39;49m\u001b[43mread\u001b[49m\u001b[43m(\u001b[49m\u001b[43mnbytes\u001b[49m\u001b[43m,\u001b[49m\u001b[43m \u001b[49m\u001b[43mbuffer\u001b[49m\u001b[43m)\u001b[49m\n\u001b[1;32m   1253\u001b[0m \u001b[38;5;28;01melse\u001b[39;00m:\n\u001b[1;32m   1254\u001b[0m     \u001b[38;5;28;01mreturn\u001b[39;00m \u001b[38;5;28msuper\u001b[39m()\u001b[38;5;241m.\u001b[39mrecv_into(buffer, nbytes, flags)\n",
      "File \u001b[0;32m/Library/Frameworks/Python.framework/Versions/3.12/lib/python3.12/ssl.py:1104\u001b[0m, in \u001b[0;36mSSLSocket.read\u001b[0;34m(self, len, buffer)\u001b[0m\n\u001b[1;32m   1102\u001b[0m \u001b[38;5;28;01mtry\u001b[39;00m:\n\u001b[1;32m   1103\u001b[0m     \u001b[38;5;28;01mif\u001b[39;00m buffer \u001b[38;5;129;01mis\u001b[39;00m \u001b[38;5;129;01mnot\u001b[39;00m \u001b[38;5;28;01mNone\u001b[39;00m:\n\u001b[0;32m-> 1104\u001b[0m         \u001b[38;5;28;01mreturn\u001b[39;00m \u001b[38;5;28;43mself\u001b[39;49m\u001b[38;5;241;43m.\u001b[39;49m\u001b[43m_sslobj\u001b[49m\u001b[38;5;241;43m.\u001b[39;49m\u001b[43mread\u001b[49m\u001b[43m(\u001b[49m\u001b[38;5;28;43mlen\u001b[39;49m\u001b[43m,\u001b[49m\u001b[43m \u001b[49m\u001b[43mbuffer\u001b[49m\u001b[43m)\u001b[49m\n\u001b[1;32m   1105\u001b[0m     \u001b[38;5;28;01melse\u001b[39;00m:\n\u001b[1;32m   1106\u001b[0m         \u001b[38;5;28;01mreturn\u001b[39;00m \u001b[38;5;28mself\u001b[39m\u001b[38;5;241m.\u001b[39m_sslobj\u001b[38;5;241m.\u001b[39mread(\u001b[38;5;28mlen\u001b[39m)\n",
      "\u001b[0;31mKeyboardInterrupt\u001b[0m: "
     ]
    }
   ],
   "source": [
    "bbox = [10.817339, 10.793797, 106.711431, 106.651829]\n",
    "G = ox.graph_from_bbox(bbox=bbox, network_type=\"drive\")\n",
    "nodes = list(G.nodes)\n",
    "len(nodes), nodes[0]"
   ]
  },
  {
   "cell_type": "markdown",
   "metadata": {},
   "source": [
    "### Count the number of ones in adjacency matrix -> The number of edges"
   ]
  },
  {
   "cell_type": "code",
   "execution_count": null,
   "metadata": {},
   "outputs": [
    {
     "data": {
      "text/plain": [
       "(1892, 1892)"
      ]
     },
     "metadata": {},
     "output_type": "display_data"
    }
   ],
   "source": [
    "# sampled_nodes = np.random.choice(nodes, 200, replace=False)\n",
    "# subgraph = G.subgraph(sampled_nodes)\n",
    "adj_matrix = nx.to_numpy_array(G)\n",
    "adj_matrix.shape"
   ]
  },
  {
   "cell_type": "code",
   "execution_count": 60,
   "metadata": {},
   "outputs": [
    {
     "data": {
      "text/plain": [
       "array([3., 4., 1., ..., 1., 2., 2.])"
      ]
     },
     "execution_count": 60,
     "metadata": {},
     "output_type": "execute_result"
    }
   ],
   "source": [
    "adj_matrix.sum(axis=0)"
   ]
  },
  {
   "cell_type": "code",
   "execution_count": 56,
   "metadata": {},
   "outputs": [
    {
     "data": {
      "text/plain": [
       "4116.0"
      ]
     },
     "execution_count": 56,
     "metadata": {},
     "output_type": "execute_result"
    }
   ],
   "source": [
    "adj_matrix.sum()"
   ]
  },
  {
   "cell_type": "code",
   "execution_count": null,
   "metadata": {},
   "outputs": [],
   "source": [
    "save_file = Path('results/adj_matrix.npy')\n",
    "save_file.parent.mkdir(parents=True, exist_ok=True)\n",
    "np.save(save_file, adj_matrix)"
   ]
  },
  {
   "cell_type": "code",
   "execution_count": 61,
   "metadata": {},
   "outputs": [
    {
     "data": {
      "text/plain": [
       "{'node_id': 366367322, 'lat': 10.7991329, 'lon': 106.6571621}"
      ]
     },
     "execution_count": 61,
     "metadata": {},
     "output_type": "execute_result"
    }
   ],
   "source": [
    "node_data = [{\"node_id\": node, \"lat\": data['y'], \"lon\": data['x']} for node, data in G.nodes(data=True)]\n",
    "node_data[0]"
   ]
  },
  {
   "cell_type": "code",
   "execution_count": 66,
   "metadata": {},
   "outputs": [],
   "source": [
    "def reverse_geocode_osm(lat, lon):\n",
    "    url = f\"https://nominatim.openstreetmap.org/reverse?lat={lat}&lon={lon}&format=json\"\n",
    "    headers = {\n",
    "        'User-Agent': 'Mozilla/5.0 (Windows NT 10.0; Win64; x64) AppleWebKit/537.36 (KHTML, like Gecko) Chrome/91.0.4472.124 Safari/537.36',\n",
    "        'Accept-Language': 'en-US,en;q=0.9',\n",
    "        'Referer': 'https://nominatim.openstreetmap.org'\n",
    "    }\n",
    "\n",
    "    retries = 0\n",
    "\n",
    "    while True:\n",
    "        response = requests.get(url, headers=headers)\n",
    "        time.sleep(1)\n",
    "        \n",
    "        if response.status_code == 200:\n",
    "            data = response.json()\n",
    "            return data\n",
    "        else:\n",
    "            print(f\"Failed to reverse geocode. Status code: {response.status_code}. Retrying...\")\n",
    "            retries += 1\n",
    "            if retries >= 3:\n",
    "                return \"Not found\""
   ]
  },
  {
   "cell_type": "code",
   "execution_count": 67,
   "metadata": {},
   "outputs": [],
   "source": [
    "data = [None] * len(node_data) "
   ]
  },
  {
   "cell_type": "code",
   "execution_count": null,
   "metadata": {},
   "outputs": [
    {
     "name": "stdout",
     "output_type": "stream",
     "text": [
      "Get data ...\n"
     ]
    },
    {
     "name": "stderr",
     "output_type": "stream",
     "text": [
      "  0%|          | 0/1892 [00:00<?, ?it/s]"
     ]
    },
    {
     "name": "stderr",
     "output_type": "stream",
     "text": [
      "100%|██████████| 1892/1892 [58:40<00:00,  1.86s/it] \n"
     ]
    }
   ],
   "source": [
    "print(\"Get data ...\")\n",
    "\n",
    "for i, node_object in enumerate(tqdm(node_data)):\n",
    "    data[i] = reverse_geocode_osm(node_object['lat'], node_object['lon'])"
   ]
  },
  {
   "cell_type": "code",
   "execution_count": null,
   "metadata": {},
   "outputs": [],
   "source": [
    "dump_json('results/node_data.json', data)"
   ]
  },
  {
   "cell_type": "code",
   "execution_count": 81,
   "metadata": {},
   "outputs": [
    {
     "data": {
      "text/plain": [
       "['Hang Xanh Overpass, Ward 25, Binh Thanh District, Ho Chi Minh City, 72508, Vietnam',\n",
       " 'International Terminal, International Terminal Arrival Drive, Ward 2, Tan Binh District, Ho Chi Minh City, 72100, Vietnam',\n",
       " 'Ward 4, Tan Binh District, Ho Chi Minh City, 72106, Vietnam']"
      ]
     },
     "execution_count": 81,
     "metadata": {},
     "output_type": "execute_result"
    }
   ],
   "source": [
    "base_data = [reverse_geocode_osm(i[0], i[1]) for i in base_coords]\n",
    "[x[\"display_name\"] for x in base_data]"
   ]
  },
  {
   "cell_type": "code",
   "execution_count": 90,
   "metadata": {},
   "outputs": [
    {
     "data": {
      "text/plain": [
       "1892"
      ]
     },
     "execution_count": 90,
     "metadata": {},
     "output_type": "execute_result"
    }
   ],
   "source": [
    "full_data = data \n",
    "len(full_data) "
   ]
  },
  {
   "cell_type": "markdown",
   "metadata": {},
   "source": [
    "### Display data"
   ]
  },
  {
   "cell_type": "code",
   "execution_count": null,
   "metadata": {},
   "outputs": [
    {
     "data": {
      "text/html": [
       "<div>\n",
       "<style scoped>\n",
       "    .dataframe tbody tr th:only-of-type {\n",
       "        vertical-align: middle;\n",
       "    }\n",
       "\n",
       "    .dataframe tbody tr th {\n",
       "        vertical-align: top;\n",
       "    }\n",
       "\n",
       "    .dataframe thead th {\n",
       "        text-align: right;\n",
       "    }\n",
       "</style>\n",
       "<table border=\"1\" class=\"dataframe\">\n",
       "  <thead>\n",
       "    <tr style=\"text-align: right;\">\n",
       "      <th></th>\n",
       "      <th>place_id</th>\n",
       "      <th>licence</th>\n",
       "      <th>osm_type</th>\n",
       "      <th>osm_id</th>\n",
       "      <th>lat</th>\n",
       "      <th>lon</th>\n",
       "      <th>class</th>\n",
       "      <th>type</th>\n",
       "      <th>place_rank</th>\n",
       "      <th>importance</th>\n",
       "      <th>addresstype</th>\n",
       "      <th>name</th>\n",
       "      <th>display_name</th>\n",
       "      <th>address</th>\n",
       "      <th>boundingbox</th>\n",
       "    </tr>\n",
       "  </thead>\n",
       "  <tbody>\n",
       "    <tr>\n",
       "      <th>0</th>\n",
       "      <td>237475900</td>\n",
       "      <td>Data © OpenStreetMap contributors, ODbL 1.0. h...</td>\n",
       "      <td>way</td>\n",
       "      <td>668267736</td>\n",
       "      <td>10.7991329</td>\n",
       "      <td>106.6571621</td>\n",
       "      <td>highway</td>\n",
       "      <td>residential</td>\n",
       "      <td>26</td>\n",
       "      <td>0.053400</td>\n",
       "      <td>road</td>\n",
       "      <td>Hẻm 97 Nguyễn Thái Bình</td>\n",
       "      <td>Hẻm 97 Nguyễn Thái Bình, Ward 4, Tan Binh Dist...</td>\n",
       "      <td>{'road': 'Hẻm 97 Nguyễn Thái Bình', 'quarter':...</td>\n",
       "      <td>[10.7987347, 10.7991329, 106.6571580, 106.6573...</td>\n",
       "    </tr>\n",
       "    <tr>\n",
       "      <th>1</th>\n",
       "      <td>237823328</td>\n",
       "      <td>Data © OpenStreetMap contributors, ODbL 1.0. h...</td>\n",
       "      <td>way</td>\n",
       "      <td>32581480</td>\n",
       "      <td>10.8102713</td>\n",
       "      <td>106.6668589</td>\n",
       "      <td>highway</td>\n",
       "      <td>residential</td>\n",
       "      <td>26</td>\n",
       "      <td>0.053400</td>\n",
       "      <td>road</td>\n",
       "      <td>Cửu Long</td>\n",
       "      <td>Cửu Long, Ward 2, Tan Binh District, Ho Chi Mi...</td>\n",
       "      <td>{'road': 'Cửu Long', 'quarter': 'Ward 2', 'sub...</td>\n",
       "      <td>[10.8094886, 10.8108099, 106.6648221, 106.6682...</td>\n",
       "    </tr>\n",
       "    <tr>\n",
       "      <th>2</th>\n",
       "      <td>237620675</td>\n",
       "      <td>Data © OpenStreetMap contributors, ODbL 1.0. h...</td>\n",
       "      <td>way</td>\n",
       "      <td>806265451</td>\n",
       "      <td>10.7965385</td>\n",
       "      <td>106.6525594</td>\n",
       "      <td>highway</td>\n",
       "      <td>tertiary</td>\n",
       "      <td>26</td>\n",
       "      <td>0.053400</td>\n",
       "      <td>road</td>\n",
       "      <td>Nguyễn Thái Bình</td>\n",
       "      <td>Nguyễn Thái Bình, Ward 12, Tan Binh District, ...</td>\n",
       "      <td>{'road': 'Nguyễn Thái Bình', 'quarter': 'Ward ...</td>\n",
       "      <td>[10.7951914, 10.7965385, 106.6504457, 106.6525...</td>\n",
       "    </tr>\n",
       "    <tr>\n",
       "      <th>3</th>\n",
       "      <td>237620335</td>\n",
       "      <td>Data © OpenStreetMap contributors, ODbL 1.0. h...</td>\n",
       "      <td>node</td>\n",
       "      <td>4209332089</td>\n",
       "      <td>10.7961796</td>\n",
       "      <td>106.6643062</td>\n",
       "      <td>amenity</td>\n",
       "      <td>pharmacy</td>\n",
       "      <td>30</td>\n",
       "      <td>0.000067</td>\n",
       "      <td>amenity</td>\n",
       "      <td>Diệt Mối Phúc Anh</td>\n",
       "      <td>Diệt Mối Phúc Anh, 39, Pham Van Hai, Ward 1, T...</td>\n",
       "      <td>{'amenity': 'Diệt Mối Phúc Anh', 'house_number...</td>\n",
       "      <td>[10.7961296, 10.7962296, 106.6642562, 106.6643...</td>\n",
       "    </tr>\n",
       "    <tr>\n",
       "      <th>4</th>\n",
       "      <td>239485905</td>\n",
       "      <td>Data © OpenStreetMap contributors, ODbL 1.0. h...</td>\n",
       "      <td>way</td>\n",
       "      <td>503314829</td>\n",
       "      <td>10.8011312</td>\n",
       "      <td>106.6757184</td>\n",
       "      <td>highway</td>\n",
       "      <td>residential</td>\n",
       "      <td>26</td>\n",
       "      <td>0.053400</td>\n",
       "      <td>road</td>\n",
       "      <td>Hẻm 17 Hồ Văn Huê</td>\n",
       "      <td>Hẻm 17 Hồ Văn Huê, Ward 9, Phu Nhuan District,...</td>\n",
       "      <td>{'road': 'Hẻm 17 Hồ Văn Huê', 'quarter': 'Ward...</td>\n",
       "      <td>[10.8011312, 10.8017269, 106.6748503, 106.6757...</td>\n",
       "    </tr>\n",
       "  </tbody>\n",
       "</table>\n",
       "</div>"
      ],
      "text/plain": [
       "    place_id                                            licence osm_type  \\\n",
       "0  237475900  Data © OpenStreetMap contributors, ODbL 1.0. h...      way   \n",
       "1  237823328  Data © OpenStreetMap contributors, ODbL 1.0. h...      way   \n",
       "2  237620675  Data © OpenStreetMap contributors, ODbL 1.0. h...      way   \n",
       "3  237620335  Data © OpenStreetMap contributors, ODbL 1.0. h...     node   \n",
       "4  239485905  Data © OpenStreetMap contributors, ODbL 1.0. h...      way   \n",
       "\n",
       "       osm_id         lat          lon    class         type  place_rank  \\\n",
       "0   668267736  10.7991329  106.6571621  highway  residential          26   \n",
       "1    32581480  10.8102713  106.6668589  highway  residential          26   \n",
       "2   806265451  10.7965385  106.6525594  highway     tertiary          26   \n",
       "3  4209332089  10.7961796  106.6643062  amenity     pharmacy          30   \n",
       "4   503314829  10.8011312  106.6757184  highway  residential          26   \n",
       "\n",
       "   importance addresstype                     name  \\\n",
       "0    0.053400        road  Hẻm 97 Nguyễn Thái Bình   \n",
       "1    0.053400        road                 Cửu Long   \n",
       "2    0.053400        road         Nguyễn Thái Bình   \n",
       "3    0.000067     amenity        Diệt Mối Phúc Anh   \n",
       "4    0.053400        road        Hẻm 17 Hồ Văn Huê   \n",
       "\n",
       "                                        display_name  \\\n",
       "0  Hẻm 97 Nguyễn Thái Bình, Ward 4, Tan Binh Dist...   \n",
       "1  Cửu Long, Ward 2, Tan Binh District, Ho Chi Mi...   \n",
       "2  Nguyễn Thái Bình, Ward 12, Tan Binh District, ...   \n",
       "3  Diệt Mối Phúc Anh, 39, Pham Van Hai, Ward 1, T...   \n",
       "4  Hẻm 17 Hồ Văn Huê, Ward 9, Phu Nhuan District,...   \n",
       "\n",
       "                                             address  \\\n",
       "0  {'road': 'Hẻm 97 Nguyễn Thái Bình', 'quarter':...   \n",
       "1  {'road': 'Cửu Long', 'quarter': 'Ward 2', 'sub...   \n",
       "2  {'road': 'Nguyễn Thái Bình', 'quarter': 'Ward ...   \n",
       "3  {'amenity': 'Diệt Mối Phúc Anh', 'house_number...   \n",
       "4  {'road': 'Hẻm 17 Hồ Văn Huê', 'quarter': 'Ward...   \n",
       "\n",
       "                                         boundingbox  \n",
       "0  [10.7987347, 10.7991329, 106.6571580, 106.6573...  \n",
       "1  [10.8094886, 10.8108099, 106.6648221, 106.6682...  \n",
       "2  [10.7951914, 10.7965385, 106.6504457, 106.6525...  \n",
       "3  [10.7961296, 10.7962296, 106.6642562, 106.6643...  \n",
       "4  [10.8011312, 10.8017269, 106.6748503, 106.6757...  "
      ]
     },
     "execution_count": 91,
     "metadata": {},
     "output_type": "execute_result"
    }
   ],
   "source": [
    "df = pd.DataFrame(full_data)\n",
    "df.head()"
   ]
  },
  {
   "cell_type": "code",
   "execution_count": 92,
   "metadata": {},
   "outputs": [
    {
     "name": "stdout",
     "output_type": "stream",
     "text": [
      "<class 'pandas.core.frame.DataFrame'>\n",
      "RangeIndex: 1892 entries, 0 to 1891\n",
      "Data columns (total 15 columns):\n",
      " #   Column        Non-Null Count  Dtype  \n",
      "---  ------        --------------  -----  \n",
      " 0   place_id      1892 non-null   int64  \n",
      " 1   licence       1892 non-null   object \n",
      " 2   osm_type      1892 non-null   object \n",
      " 3   osm_id        1892 non-null   int64  \n",
      " 4   lat           1892 non-null   object \n",
      " 5   lon           1892 non-null   object \n",
      " 6   class         1892 non-null   object \n",
      " 7   type          1892 non-null   object \n",
      " 8   place_rank    1892 non-null   int64  \n",
      " 9   importance    1892 non-null   float64\n",
      " 10  addresstype   1892 non-null   object \n",
      " 11  name          1892 non-null   object \n",
      " 12  display_name  1892 non-null   object \n",
      " 13  address       1892 non-null   object \n",
      " 14  boundingbox   1892 non-null   object \n",
      "dtypes: float64(1), int64(3), object(11)\n",
      "memory usage: 221.8+ KB\n"
     ]
    }
   ],
   "source": [
    "df.info()"
   ]
  },
  {
   "cell_type": "markdown",
   "metadata": {},
   "source": [
    "### Adjacency matrix"
   ]
  },
  {
   "cell_type": "code",
   "execution_count": 88,
   "metadata": {},
   "outputs": [
    {
     "data": {
      "text/plain": [
       "(1892, 1892)"
      ]
     },
     "execution_count": 88,
     "metadata": {},
     "output_type": "execute_result"
    }
   ],
   "source": [
    "adj_matrix = np.load(\"results\\\\adj_matrix.npy\")\n",
    "adj_matrix.shape"
   ]
  },
  {
   "cell_type": "code",
   "execution_count": 94,
   "metadata": {},
   "outputs": [
    {
     "data": {
      "text/plain": [
       "array([[0., 0., 0., 0., 0., 0., 0., 0., 0., 0.],\n",
       "       [1., 0., 0., 0., 0., 0., 0., 0., 0., 0.],\n",
       "       [0., 0., 0., 0., 0., 0., 0., 0., 0., 0.],\n",
       "       [0., 0., 0., 0., 1., 0., 0., 0., 0., 0.],\n",
       "       [0., 0., 0., 1., 0., 1., 1., 0., 0., 0.],\n",
       "       [0., 0., 0., 0., 1., 0., 0., 0., 0., 0.],\n",
       "       [0., 0., 0., 0., 1., 0., 0., 0., 0., 0.],\n",
       "       [0., 0., 0., 0., 0., 0., 0., 0., 0., 0.],\n",
       "       [0., 0., 0., 0., 0., 0., 0., 0., 0., 0.],\n",
       "       [0., 0., 0., 0., 0., 0., 0., 0., 1., 0.]])"
      ]
     },
     "execution_count": 94,
     "metadata": {},
     "output_type": "execute_result"
    }
   ],
   "source": [
    "adj_matrix[-10:, -10:]"
   ]
  },
  {
   "cell_type": "code",
   "execution_count": 95,
   "metadata": {},
   "outputs": [
    {
     "data": {
      "text/plain": [
       "4116.0"
      ]
     },
     "execution_count": 95,
     "metadata": {},
     "output_type": "execute_result"
    }
   ],
   "source": [
    "np.sum(adj_matrix)"
   ]
  },
  {
   "cell_type": "code",
   "execution_count": 96,
   "metadata": {},
   "outputs": [
    {
     "data": {
      "text/plain": [
       "array([1., 1., 1., ..., 1., 1., 1.])"
      ]
     },
     "execution_count": 96,
     "metadata": {},
     "output_type": "execute_result"
    }
   ],
   "source": [
    "adj_matrix[adj_matrix == 1]"
   ]
  },
  {
   "cell_type": "code",
   "execution_count": 98,
   "metadata": {},
   "outputs": [
    {
     "data": {
      "text/plain": [
       "array([[   0,   10,    0,    0,    0],\n",
       "       [1555,    0,   15,    0,    0],\n",
       "       [   0,    0,    0,    0,    0],\n",
       "       [   0,    0,   80,    0,    9],\n",
       "       [   0,    0,    0,    0,    0]])"
      ]
     },
     "execution_count": 98,
     "metadata": {},
     "output_type": "execute_result"
    }
   ],
   "source": [
    "np.array([\n",
    "    [0,10,0,0,0],\n",
    "    [1555,0,15,0,0],\n",
    "    [0,0,0,0,0],\n",
    "    [0,0,80,0,9],\n",
    "    [0,0,0,0,0],\n",
    "])"
   ]
  },
  {
   "cell_type": "code",
   "execution_count": null,
   "metadata": {},
   "outputs": [],
   "source": [
    "lat1, lon1 = nodes[0]\n",
    "lat2, lon2 = nodes[1]\n",
    "n = 10 "
   ]
  },
  {
   "cell_type": "markdown",
   "metadata": {},
   "source": [
    "### Search for base nodes and \"Ngã ba, ngã tư, ...\""
   ]
  },
  {
   "cell_type": "code",
   "execution_count": 170,
   "metadata": {},
   "outputs": [],
   "source": [
    "airport_query = \"Tân Sơn Nhất Thành phố Hồ Chí Minh, Việt Nam\"\n",
    "hangxanh_query = \"ngã tư hàng xanh Thành phố Hồ Chí Minh, Việt Nam\"\n",
    "bayhien_query = \"ngã tư bảy hiền Thành phố Hồ Chí Minh, Việt Nam\"\n",
    "\n",
    "interested_keywords = [\n",
    "    \"ngã ba\", \n",
    "    \"ngã tư\", \n",
    "    \"nút giao\", \n",
    "    \"vòng xoay\", \n",
    "    \"ngã năm\", \n",
    "    \"ngã sáu\", \n",
    "    \"bùng binh\",\n",
    "    \"công trường dân chủ\",\n",
    "    \"giao lộ\",\n",
    "    \"trường đại học\",\n",
    "]\n",
    "interested_queries = [x + \" Thành phố Hồ Chí Minh, Việt Nam\" for x in interested_keywords]"
   ]
  },
  {
   "cell_type": "code",
   "execution_count": 171,
   "metadata": {},
   "outputs": [],
   "source": [
    "def search_osm(**params):\n",
    "    url = f\"https://nominatim.openstreetmap.org/search\"\n",
    "    headers = {\n",
    "        'User-Agent': 'Mozilla/5.0 (Windows NT 10.0; Win64; x64) AppleWebKit/537.36 (KHTML, like Gecko) Chrome/91.0.4472.124 Safari/537.36',\n",
    "        'Accept-Language': 'vi-VN,vi;q=0.9' ,\n",
    "        'Referer': 'https://nominatim.openstreetmap.org'\n",
    "    }\n",
    "\n",
    "    retries = 0\n",
    "\n",
    "    while True:\n",
    "        response = requests.get(url, params=params, headers=headers)\n",
    "        time.sleep(1)\n",
    "        \n",
    "        if response.status_code == 200:\n",
    "            data = response.json()\n",
    "            return data\n",
    "        else:\n",
    "            print(f\"Search failed. Status code: {response.status_code}. Retrying...\")\n",
    "            retries += 1\n",
    "            if retries >= 3:\n",
    "                return \"Not found\""
   ]
  },
  {
   "cell_type": "code",
   "execution_count": 144,
   "metadata": {},
   "outputs": [],
   "source": [
    "def dedupe_list_by_key(input_list, key):\n",
    "    seen = set()\n",
    "    result = []\n",
    "    \n",
    "    for obj in input_list:\n",
    "        key_value = obj[key]\n",
    "        if key_value not in seen:\n",
    "            seen.add(key_value)\n",
    "            result.append(obj)\n",
    "    \n",
    "    return result"
   ]
  },
  {
   "cell_type": "code",
   "execution_count": 173,
   "metadata": {},
   "outputs": [],
   "source": [
    "def get_data(query, kpi=10):\n",
    "    data = []\n",
    "\n",
    "    while len(data) < kpi:\n",
    "        params = {\n",
    "            \"q\": query,\n",
    "            \"format\": \"json\",\n",
    "            \"limit\": kpi,\n",
    "        }\n",
    "\n",
    "        batch_data = search_osm(**params)\n",
    "        data.extend(batch_data)\n",
    "\n",
    "    data = dedupe_list_by_key(data, \"osm_id\")\n",
    "    return data"
   ]
  },
  {
   "cell_type": "code",
   "execution_count": 174,
   "metadata": {},
   "outputs": [
    {
     "data": {
      "text/plain": [
       "7"
      ]
     },
     "execution_count": 174,
     "metadata": {},
     "output_type": "execute_result"
    }
   ],
   "source": [
    "airport_data = get_data(airport_query)\n",
    "len(airport_data)"
   ]
  },
  {
   "cell_type": "code",
   "execution_count": 175,
   "metadata": {},
   "outputs": [
    {
     "data": {
      "text/plain": [
       "6"
      ]
     },
     "execution_count": 175,
     "metadata": {},
     "output_type": "execute_result"
    }
   ],
   "source": [
    "filtered_airport_data = [airport for airport in airport_data if \"Tân Sơn Nhất\" in airport['name']]\n",
    "len(filtered_airport_data)"
   ]
  },
  {
   "cell_type": "code",
   "execution_count": 176,
   "metadata": {},
   "outputs": [
    {
     "data": {
      "text/plain": [
       "5"
      ]
     },
     "execution_count": 176,
     "metadata": {},
     "output_type": "execute_result"
    }
   ],
   "source": [
    "hangxanh_data = get_data(hangxanh_query)\n",
    "len(hangxanh_data)"
   ]
  },
  {
   "cell_type": "code",
   "execution_count": 177,
   "metadata": {},
   "outputs": [
    {
     "data": {
      "text/plain": [
       "2"
      ]
     },
     "execution_count": 177,
     "metadata": {},
     "output_type": "execute_result"
    }
   ],
   "source": [
    "bayhien_data = get_data(bayhien_query)\n",
    "len(bayhien_data)"
   ]
  },
  {
   "cell_type": "code",
   "execution_count": 178,
   "metadata": {},
   "outputs": [
    {
     "data": {
      "text/plain": [
       "194"
      ]
     },
     "execution_count": 178,
     "metadata": {},
     "output_type": "execute_result"
    }
   ],
   "source": [
    "additional_data = []\n",
    "\n",
    "for keyword, query in zip(interested_keywords, interested_queries):\n",
    "    _data = get_data(query, 100)\n",
    "    _data = [_data for _data in _data if _data['name'].lower().startswith(keyword)]\n",
    "    additional_data.extend(_data)\n",
    "\n",
    "len(additional_data)"
   ]
  },
  {
   "cell_type": "code",
   "execution_count": 179,
   "metadata": {},
   "outputs": [
    {
     "data": {
      "text/plain": [
       "204"
      ]
     },
     "execution_count": 179,
     "metadata": {},
     "output_type": "execute_result"
    }
   ],
   "source": [
    "node_data = additional_data + airport_data + hangxanh_data + bayhien_data\n",
    "node_data = dedupe_list_by_key(node_data, \"osm_id\")\n",
    "len(node_data)"
   ]
  },
  {
   "cell_type": "code",
   "execution_count": 180,
   "metadata": {},
   "outputs": [],
   "source": [
    "dump_json(\"results/node_data2.json\", node_data)"
   ]
  },
  {
   "cell_type": "markdown",
   "metadata": {},
   "source": [
    "## Load graph to calculate distance"
   ]
  },
  {
   "cell_type": "code",
   "execution_count": 19,
   "metadata": {},
   "outputs": [],
   "source": [
    "with open(\"results/test_graph.pkl\", \"rb\") as f:\n",
    "    graph = pickle.load(f)"
   ]
  },
  {
   "cell_type": "code",
   "execution_count": 5,
   "metadata": {},
   "outputs": [
    {
     "data": {
      "text/plain": [
       "(366225951, {'y': 10.6277126, 'x': 106.7368656, 'street_count': 3})"
      ]
     },
     "execution_count": 5,
     "metadata": {},
     "output_type": "execute_result"
    }
   ],
   "source": [
    "list(graph.nodes(data=True))[0]"
   ]
  },
  {
   "cell_type": "code",
   "execution_count": 56,
   "metadata": {},
   "outputs": [
    {
     "data": {
      "text/plain": [
       "17247"
      ]
     },
     "execution_count": 56,
     "metadata": {},
     "output_type": "execute_result"
    }
   ],
   "source": [
    "intersect_points = [data for data in graph.nodes(data=True) if data[1]['street_count'] >= 4]\n",
    "len(intersect_points)"
   ]
  },
  {
   "cell_type": "code",
   "execution_count": 30,
   "metadata": {},
   "outputs": [],
   "source": [
    "def get_k_closest_nodes(lat, lon, nodes, kpi=100):\n",
    "    distances = []\n",
    "    \n",
    "    for node, data in tqdm(nodes):\n",
    "        node_lat = data['y']\n",
    "        node_lon = data['x']\n",
    "        \n",
    "        # Calculate the geographical distance between the base and graph node\n",
    "        distance = geopy.distance.distance((lat, lon), (node_lat, node_lon)).km\n",
    "        \n",
    "        # Append the distance and the node ID\n",
    "        distances.append((distance, node))\n",
    "    \n",
    "    # Sort the nodes by distance and return the nearest ones\n",
    "    distances.sort(key=lambda x: x[0])  # Sort by distance (ascending)\n",
    "    return [node for _, node in distances[:kpi]]  # Get the 200 closest nodes"
   ]
  },
  {
   "cell_type": "code",
   "execution_count": 258,
   "metadata": {},
   "outputs": [
    {
     "name": "stderr",
     "output_type": "stream",
     "text": [
      "  0%|          | 0/136834 [00:00<?, ?it/s]"
     ]
    },
    {
     "name": "stderr",
     "output_type": "stream",
     "text": [
      "100%|██████████| 136834/136834 [00:59<00:00, 2296.23it/s]\n"
     ]
    },
    {
     "data": {
      "text/plain": [
       "100"
      ]
     },
     "execution_count": 258,
     "metadata": {},
     "output_type": "execute_result"
    }
   ],
   "source": [
    "hangxanh_closest_nodes = get_k_closest_nodes(*base_coords[0], intersect_points)\n",
    "len(hangxanh_closest_nodes)"
   ]
  },
  {
   "cell_type": "code",
   "execution_count": 260,
   "metadata": {},
   "outputs": [
    {
     "data": {
      "text/plain": [
       "{'y': 10.8016017, 'x': 106.7115512, 'street_count': 3}"
      ]
     },
     "execution_count": 260,
     "metadata": {},
     "output_type": "execute_result"
    }
   ],
   "source": [
    "graph.nodes()[hangxanh_closest_nodes[0]]"
   ]
  },
  {
   "cell_type": "code",
   "execution_count": 266,
   "metadata": {},
   "outputs": [
    {
     "name": "stderr",
     "output_type": "stream",
     "text": [
      "100%|██████████| 136834/136834 [01:00<00:00, 2262.08it/s]\n"
     ]
    },
    {
     "data": {
      "text/plain": [
       "100"
      ]
     },
     "execution_count": 266,
     "metadata": {},
     "output_type": "execute_result"
    }
   ],
   "source": [
    "base_coords[1] = (10.81245, 106.66506)\n",
    "tansonnhat_closest_nodes = get_k_closest_nodes(*base_coords[1], intersect_points)\n",
    "len(tansonnhat_closest_nodes)"
   ]
  },
  {
   "cell_type": "code",
   "execution_count": 267,
   "metadata": {},
   "outputs": [
    {
     "data": {
      "text/plain": [
       "{'y': 10.8124437, 'x': 106.6651622, 'street_count': 3}"
      ]
     },
     "execution_count": 267,
     "metadata": {},
     "output_type": "execute_result"
    }
   ],
   "source": [
    "graph.nodes()[tansonnhat_closest_nodes[0]]"
   ]
  },
  {
   "cell_type": "code",
   "execution_count": null,
   "metadata": {},
   "outputs": [
    {
     "name": "stderr",
     "output_type": "stream",
     "text": [
      "100%|██████████| 136834/136834 [01:01<00:00, 2234.64it/s]\n"
     ]
    },
    {
     "data": {
      "text/plain": [
       "100"
      ]
     },
     "execution_count": 264,
     "metadata": {},
     "output_type": "execute_result"
    }
   ],
   "source": [
    "bayhien_closest_nodes = get_k_closest_nodes(*base_coords[2], intersect_points)\n",
    "len(bayhien_closest_nodes)"
   ]
  },
  {
   "cell_type": "code",
   "execution_count": 265,
   "metadata": {},
   "outputs": [
    {
     "data": {
      "text/plain": [
       "{'y': 10.7929415, 'x': 106.6533454, 'street_count': 3}"
      ]
     },
     "execution_count": 265,
     "metadata": {},
     "output_type": "execute_result"
    }
   ],
   "source": [
    "graph.nodes()[bayhien_closest_nodes[0]]"
   ]
  },
  {
   "cell_type": "code",
   "execution_count": 305,
   "metadata": {},
   "outputs": [
    {
     "data": {
      "text/plain": [
       "300"
      ]
     },
     "execution_count": 305,
     "metadata": {},
     "output_type": "execute_result"
    }
   ],
   "source": [
    "all_nodes = set(hangxanh_closest_nodes + tansonnhat_closest_nodes + bayhien_closest_nodes)\n",
    "all_nodes = list(all_nodes)\n",
    "len(all_nodes)"
   ]
  },
  {
   "cell_type": "code",
   "execution_count": 297,
   "metadata": {},
   "outputs": [
    {
     "data": {
      "text/plain": [
       "561"
      ]
     },
     "execution_count": 297,
     "metadata": {},
     "output_type": "execute_result"
    }
   ],
   "source": [
    "adj_matrix = nx.to_numpy_array(graph.subgraph(all_nodes))\n",
    "adj_matrix = (adj_matrix > 0).astype(int)\n",
    "adj_matrix.sum()"
   ]
  },
  {
   "cell_type": "code",
   "execution_count": 298,
   "metadata": {},
   "outputs": [
    {
     "data": {
      "text/plain": [
       "0    89439\n",
       "1      561\n",
       "Name: count, dtype: int64"
      ]
     },
     "execution_count": 298,
     "metadata": {},
     "output_type": "execute_result"
    }
   ],
   "source": [
    "edges = pd.Series(adj_matrix.ravel())\n",
    "edges.value_counts()"
   ]
  },
  {
   "cell_type": "code",
   "execution_count": 32,
   "metadata": {},
   "outputs": [],
   "source": [
    "def get_node_data(node):\n",
    "    data = graph.nodes(data=True)[node]\n",
    "    return {\n",
    "        \"node_id\": node,\n",
    "        \"lat\": data['y'],\n",
    "        \"lon\": data['x'],\n",
    "    }"
   ]
  },
  {
   "cell_type": "code",
   "execution_count": null,
   "metadata": {},
   "outputs": [],
   "source": [
    "node_data3 = [get_node_data(node) for node in all_nodes]\n",
    "dump_json(\"results/node_data3.json\", node_data3)"
   ]
  },
  {
   "cell_type": "code",
   "execution_count": 158,
   "metadata": {},
   "outputs": [],
   "source": [
    "def est_capacity(adj_value, row, col, node_data, est_width=20): \n",
    "    if int(adj_value) == 0:\n",
    "        return 0\n",
    "    \n",
    "    row_node = node_data[row]\n",
    "    col_node = node_data[col]\n",
    "    row_lat, row_lon = row_node['lat'], row_node['lon']\n",
    "    col_lat, col_lon = col_node['lat'], col_node['lon']\n",
    "    distance = geopy.distance.distance((row_lat, row_lon), (col_lat, col_lon)).m\n",
    "    capacity = adj_value * distance * est_width\n",
    "    if capacity <= 0:\n",
    "        print(adj_value, distance)\n",
    "    return capacity"
   ]
  },
  {
   "cell_type": "code",
   "execution_count": null,
   "metadata": {},
   "outputs": [
    {
     "name": "stdout",
     "output_type": "stream",
     "text": [
      "1 0.0\n",
      "1 0.0\n"
     ]
    },
    {
     "data": {
      "text/plain": [
       "(300, 300)"
      ]
     },
     "execution_count": 311,
     "metadata": {},
     "output_type": "execute_result"
    }
   ],
   "source": [
    "updated_adj_matrix = np.vectorize(est_capacity, node_data=node_data3)(adj_matrix, np.indices(adj_matrix.shape)[0], np.indices(adj_matrix.shape)[1])\n",
    "updated_adj_matrix.shape"
   ]
  },
  {
   "cell_type": "code",
   "execution_count": 312,
   "metadata": {},
   "outputs": [
    {
     "data": {
      "text/plain": [
       "count     90000.000000\n",
       "mean        271.035833\n",
       "std        5206.882448\n",
       "min           0.000000\n",
       "25%           0.000000\n",
       "50%           0.000000\n",
       "75%           0.000000\n",
       "max      134019.000000\n",
       "dtype: float64"
      ]
     },
     "execution_count": 312,
     "metadata": {},
     "output_type": "execute_result"
    }
   ],
   "source": [
    "capacities = pd.Series(updated_adj_matrix.ravel())\n",
    "capacities.describe()"
   ]
  },
  {
   "cell_type": "code",
   "execution_count": 313,
   "metadata": {},
   "outputs": [
    {
     "data": {
      "text/plain": [
       "559"
      ]
     },
     "execution_count": 313,
     "metadata": {},
     "output_type": "execute_result"
    }
   ],
   "source": [
    "len(capacities[capacities > 0])"
   ]
  },
  {
   "cell_type": "code",
   "execution_count": 314,
   "metadata": {},
   "outputs": [],
   "source": [
    "np.save(\"results/adj_matrix3.npy\", updated_adj_matrix)"
   ]
  },
  {
   "cell_type": "markdown",
   "metadata": {},
   "source": [
    "## Load data and save edges data"
   ]
  },
  {
   "cell_type": "code",
   "execution_count": 5,
   "metadata": {},
   "outputs": [
    {
     "name": "stdout",
     "output_type": "stream",
     "text": [
      "(300, 300) 300\n"
     ]
    }
   ],
   "source": [
    "from file import load_json, dump_json\n",
    "import numpy as np\n",
    "\n",
    "adj_matrix = np.load(\"results/adj_matrix3.npy\")\n",
    "node_data = load_json(\"results/node_data3.json\")\n",
    "\n",
    "print(adj_matrix.shape, len(node_data))"
   ]
  },
  {
   "cell_type": "code",
   "execution_count": 9,
   "metadata": {},
   "outputs": [
    {
     "data": {
      "text/plain": [
       "559"
      ]
     },
     "execution_count": 9,
     "metadata": {},
     "output_type": "execute_result"
    }
   ],
   "source": [
    "n = len(node_data)\n",
    "edges = []\n",
    "\n",
    "for i in range(n):\n",
    "    node_i = node_data[i]\n",
    "    for j in range(n):\n",
    "        node_j = node_data[j]\n",
    "        if adj_matrix[i, j] > 0:\n",
    "            edges.append({\n",
    "                \"src\": node_i['node_id'],\n",
    "                \"dst\": node_j['node_id'],\n",
    "                \"capacity\": int(adj_matrix[i, j]),\n",
    "            })\n",
    "\n",
    "len(edges)"
   ]
  },
  {
   "cell_type": "code",
   "execution_count": 10,
   "metadata": {},
   "outputs": [],
   "source": [
    "dump_json(\"results/edge_data.json\", edges)"
   ]
  },
  {
   "cell_type": "markdown",
   "metadata": {},
   "source": [
    "## Get data by radius"
   ]
  },
  {
   "cell_type": "code",
   "execution_count": 29,
   "metadata": {},
   "outputs": [
    {
     "data": {
      "text/plain": [
       "[971692819, 54242195, 11468863430]"
      ]
     },
     "execution_count": 29,
     "metadata": {},
     "output_type": "execute_result"
    }
   ],
   "source": [
    "BASE_OSM_IDS"
   ]
  },
  {
   "cell_type": "code",
   "execution_count": 26,
   "metadata": {},
   "outputs": [],
   "source": [
    "def find_node_by_id(nodes, id):\n",
    "    node = [node for node in nodes if str(node[0]) == str(id)]\n",
    "    return node[0] if node else None"
   ]
  },
  {
   "cell_type": "code",
   "execution_count": 27,
   "metadata": {},
   "outputs": [
    {
     "data": {
      "text/plain": [
       "(366225951, {'y': 10.6277126, 'x': 106.7368656, 'street_count': 3})"
      ]
     },
     "execution_count": 27,
     "metadata": {},
     "output_type": "execute_result"
    }
   ],
   "source": [
    "intersect_points[0]"
   ]
  },
  {
   "cell_type": "code",
   "execution_count": 57,
   "metadata": {},
   "outputs": [
    {
     "data": {
      "text/plain": [
       "[{'node_id': 366225970, 'lat': 10.6320189, 'lon': 106.7358981},\n",
       " {'node_id': 366226758, 'lat': 10.603076, 'lon': 106.7415048},\n",
       " {'node_id': 366229107, 'lat': 10.6445295, 'lon': 106.734385},\n",
       " {'node_id': 366229111, 'lat': 10.6457173, 'lon': 106.7362049},\n",
       " {'node_id': 366256866, 'lat': 10.6328361, 'lon': 106.7381591},\n",
       " {'node_id': 366367242, 'lat': 10.7093371, 'lon': 106.7371895},\n",
       " {'node_id': 366368084, 'lat': 10.743485, 'lon': 106.7137062},\n",
       " {'node_id': 366368861, 'lat': 10.8081057, 'lon': 106.7290197},\n",
       " {'node_id': 366369406, 'lat': 10.6769783, 'lon': 106.704976},\n",
       " {'node_id': 366369944, 'lat': 10.815605, 'lon': 106.6926927},\n",
       " {'node_id': 366370580, 'lat': 10.8079821, 'lon': 106.8602909},\n",
       " {'node_id': 366370619, 'lat': 10.7424897, 'lon': 106.713704},\n",
       " {'node_id': 366370764, 'lat': 10.7474712, 'lon': 106.7071505},\n",
       " {'node_id': 366370857, 'lat': 10.8224515, 'lon': 106.7608464},\n",
       " {'node_id': 366372608, 'lat': 10.6763455, 'lon': 106.7342918},\n",
       " {'node_id': 366373365, 'lat': 10.819052, 'lon': 106.7712947},\n",
       " {'node_id': 366374203, 'lat': 10.7486256, 'lon': 106.7353049},\n",
       " {'node_id': 366375264, 'lat': 10.7434935, 'lon': 106.7158727},\n",
       " {'node_id': 366375698, 'lat': 10.747456, 'lon': 106.705995},\n",
       " {'node_id': 366376129, 'lat': 10.8076276, 'lon': 106.7163669},\n",
       " {'node_id': 366376465, 'lat': 10.7434478, 'lon': 106.7101547},\n",
       " {'node_id': 366376490, 'lat': 10.7382629, 'lon': 106.7066716},\n",
       " {'node_id': 366376560, 'lat': 10.8060519, 'lon': 106.7312019},\n",
       " {'node_id': 366376779, 'lat': 10.7403693, 'lon': 106.7081199},\n",
       " {'node_id': 366377433, 'lat': 10.742486, 'lon': 106.7158742},\n",
       " {'node_id': 366378008, 'lat': 10.8141687, 'lon': 106.7263224},\n",
       " {'node_id': 366378327, 'lat': 10.7475261, 'lon': 106.7158634},\n",
       " {'node_id': 366378712, 'lat': 10.7283498, 'lon': 106.706785},\n",
       " {'node_id': 366379775, 'lat': 10.7409977, 'lon': 106.7070858},\n",
       " {'node_id': 366380708, 'lat': 10.7555081, 'lon': 106.7091793},\n",
       " {'node_id': 366381001, 'lat': 10.7619609, 'lon': 106.7018856},\n",
       " {'node_id': 366381031, 'lat': 10.7265886, 'lon': 106.7141784},\n",
       " {'node_id': 366381336, 'lat': 10.7986147, 'lon': 106.7111156},\n",
       " {'node_id': 366381624, 'lat': 10.8034106, 'lon': 106.7152825},\n",
       " {'node_id': 366381855, 'lat': 10.8020196, 'lon': 106.778895},\n",
       " {'node_id': 366383148, 'lat': 10.8007086, 'lon': 106.6972653},\n",
       " {'node_id': 366384221, 'lat': 10.732254, 'lon': 106.7253971},\n",
       " {'node_id': 366384879, 'lat': 10.7893649, 'lon': 106.7085295},\n",
       " {'node_id': 366386609, 'lat': 10.7532245, 'lon': 106.7400477},\n",
       " {'node_id': 366386635, 'lat': 10.7660406, 'lon': 106.7798059},\n",
       " {'node_id': 366386678, 'lat': 10.7459485, 'lon': 106.7071604},\n",
       " {'node_id': 366386708, 'lat': 10.7256149, 'lon': 106.7236757},\n",
       " {'node_id': 366387542, 'lat': 10.7434766, 'lon': 106.7126898},\n",
       " {'node_id': 366387687, 'lat': 10.6810642, 'lon': 106.7000797},\n",
       " {'node_id': 366387791, 'lat': 10.7474756, 'lon': 106.7087132},\n",
       " {'node_id': 366387986, 'lat': 10.8036436, 'lon': 106.7144154},\n",
       " {'node_id': 366388025, 'lat': 10.6600887, 'lon': 106.6913098},\n",
       " {'node_id': 366388085, 'lat': 10.8088819, 'lon': 106.8601501},\n",
       " {'node_id': 366388248, 'lat': 10.7493524, 'lon': 106.7168472},\n",
       " {'node_id': 366388784, 'lat': 10.7493575, 'lon': 106.7176812},\n",
       " {'node_id': 366388789, 'lat': 10.7400748, 'lon': 106.7069373},\n",
       " {'node_id': 366389295, 'lat': 10.7175917, 'lon': 106.7367673},\n",
       " {'node_id': 366389762, 'lat': 10.7927261, 'lon': 106.7074335},\n",
       " {'node_id': 366390039, 'lat': 10.7443973, 'lon': 106.712677},\n",
       " {'node_id': 366390353, 'lat': 10.6686993, 'lon': 106.7244386},\n",
       " {'node_id': 366390596, 'lat': 10.6422262, 'lon': 106.7296843},\n",
       " {'node_id': 366390965, 'lat': 10.799887, 'lon': 106.7218647},\n",
       " {'node_id': 366391834, 'lat': 10.7273354, 'lon': 106.7068239},\n",
       " {'node_id': 366392424, 'lat': 10.7301002, 'lon': 106.7432759},\n",
       " {'node_id': 366392670, 'lat': 10.7909051, 'lon': 106.7099441},\n",
       " {'node_id': 366393399, 'lat': 10.7296823, 'lon': 106.7211648},\n",
       " {'node_id': 366397092, 'lat': 10.6952578, 'lon': 106.7048717},\n",
       " {'node_id': 366397273, 'lat': 10.7273734, 'lon': 106.7086075},\n",
       " {'node_id': 366397549, 'lat': 10.7411355, 'lon': 106.7158906},\n",
       " {'node_id': 366398129, 'lat': 10.7946376, 'lon': 106.737384},\n",
       " {'node_id': 366398155, 'lat': 10.7629875, 'lon': 106.7064484},\n",
       " {'node_id': 366398306, 'lat': 10.7237226, 'lon': 106.7205492},\n",
       " {'node_id': 366398632, 'lat': 10.7564324, 'lon': 106.7434379},\n",
       " {'node_id': 366398719, 'lat': 10.8167705, 'lon': 106.7713163},\n",
       " {'node_id': 366399577, 'lat': 10.8102273, 'lon': 106.6995305},\n",
       " {'node_id': 366399770, 'lat': 10.7462737, 'lon': 106.7167802},\n",
       " {'node_id': 366400019, 'lat': 10.7549021, 'lon': 106.7422013},\n",
       " {'node_id': 366400198, 'lat': 10.8111873, 'lon': 106.6910212},\n",
       " {'node_id': 366400308, 'lat': 10.8024345, 'lon': 106.7156494},\n",
       " {'node_id': 366400941, 'lat': 10.7263996, 'lon': 106.7068265},\n",
       " {'node_id': 366401137, 'lat': 10.8145045, 'lon': 106.7686098},\n",
       " {'node_id': 366401219, 'lat': 10.8151158, 'lon': 106.719851},\n",
       " {'node_id': 366401462, 'lat': 10.7504462, 'lon': 106.7158567},\n",
       " {'node_id': 366402204, 'lat': 10.7406719, 'lon': 106.7158926},\n",
       " {'node_id': 366402783, 'lat': 10.8164864, 'lon': 106.7689936},\n",
       " {'node_id': 366403574, 'lat': 10.8043261, 'lon': 106.7158856},\n",
       " {'node_id': 366404002, 'lat': 10.7620755, 'lon': 106.7843805},\n",
       " {'node_id': 366404080, 'lat': 10.6955275, 'lon': 106.7182213},\n",
       " {'node_id': 366404558, 'lat': 10.8028457, 'lon': 106.7294937},\n",
       " {'node_id': 366404685, 'lat': 10.8171307, 'lon': 106.7188262},\n",
       " {'node_id': 366404688, 'lat': 10.7493528, 'lon': 106.7164002},\n",
       " {'node_id': 366404697, 'lat': 10.7275055, 'lon': 106.7141331},\n",
       " {'node_id': 366405380, 'lat': 10.743901, 'lon': 106.7101575},\n",
       " {'node_id': 366405606, 'lat': 10.7394041, 'lon': 106.7113083},\n",
       " {'node_id': 366405747, 'lat': 10.7439257, 'lon': 106.7136989},\n",
       " {'node_id': 366405873, 'lat': 10.8120492, 'lon': 106.7329155},\n",
       " {'node_id': 366406064, 'lat': 10.7285945, 'lon': 106.7262401},\n",
       " {'node_id': 366406069, 'lat': 10.7520977, 'lon': 106.7400859},\n",
       " {'node_id': 366407040, 'lat': 10.7832062, 'lon': 106.7739324},\n",
       " {'node_id': 366407975, 'lat': 10.7893073, 'lon': 106.7375311},\n",
       " {'node_id': 366409109, 'lat': 10.7420266, 'lon': 106.7137114},\n",
       " {'node_id': 366409349, 'lat': 10.8273779, 'lon': 106.7368808},\n",
       " {'node_id': 366409489, 'lat': 10.8147221, 'lon': 106.7327875},\n",
       " {'node_id': 366409925, 'lat': 10.8029052, 'lon': 106.745764},\n",
       " {'node_id': 366411416, 'lat': 10.7265509, 'lon': 106.7123115},\n",
       " {'node_id': 366411584, 'lat': 10.7407717, 'lon': 106.7054708},\n",
       " {'node_id': 366411920, 'lat': 10.7407884, 'lon': 106.7367709},\n",
       " {'node_id': 366412298, 'lat': 10.7469009, 'lon': 106.7101394},\n",
       " {'node_id': 366412441, 'lat': 10.7290391, 'lon': 106.7200704},\n",
       " {'node_id': 366412537, 'lat': 10.7402884, 'lon': 106.7054133},\n",
       " {'node_id': 366412574, 'lat': 10.7479464, 'lon': 106.7087082},\n",
       " {'node_id': 366412828, 'lat': 10.8023507, 'lon': 106.8126413},\n",
       " {'node_id': 366412917, 'lat': 10.8195724, 'lon': 106.7711686},\n",
       " {'node_id': 366412967, 'lat': 10.7502132, 'lon': 106.7307257},\n",
       " {'node_id': 366413021, 'lat': 10.641777, 'lon': 106.7317012},\n",
       " {'node_id': 366413153, 'lat': 10.8170947, 'lon': 106.7701702},\n",
       " {'node_id': 366413639, 'lat': 10.7643284, 'lon': 106.7053404},\n",
       " {'node_id': 366413688, 'lat': 10.687763, 'lon': 106.7439995},\n",
       " {'node_id': 366414360, 'lat': 10.7875175, 'lon': 106.7500161},\n",
       " {'node_id': 366414596, 'lat': 10.7580296, 'lon': 106.6997619},\n",
       " {'node_id': 366414661, 'lat': 10.7479423, 'lon': 106.7071401},\n",
       " {'node_id': 366415437, 'lat': 10.8129614, 'lon': 106.7342537},\n",
       " {'node_id': 366415484, 'lat': 10.807838, 'lon': 106.7337629},\n",
       " {'node_id': 366415505, 'lat': 10.7284919, 'lon': 106.7122865},\n",
       " {'node_id': 366416144, 'lat': 10.7008616, 'lon': 106.704229},\n",
       " {'node_id': 366417336, 'lat': 10.7920001, 'lon': 106.7088467},\n",
       " {'node_id': 366417459, 'lat': 10.8074243, 'lon': 106.7378479},\n",
       " {'node_id': 366417633, 'lat': 10.7953381, 'lon': 106.7099065},\n",
       " {'node_id': 366417938, 'lat': 10.8099275, 'lon': 106.7126155},\n",
       " {'node_id': 366418620, 'lat': 10.803787, 'lon': 106.7114553},\n",
       " {'node_id': 366418649, 'lat': 10.6907497, 'lon': 106.747742},\n",
       " {'node_id': 366418970, 'lat': 10.6872279, 'lon': 106.7432654},\n",
       " {'node_id': 366419012, 'lat': 10.7659002, 'lon': 106.7046365},\n",
       " {'node_id': 366419043, 'lat': 10.8125697, 'lon': 106.7125846},\n",
       " {'node_id': 366419346, 'lat': 10.8028692, 'lon': 106.7114139},\n",
       " {'node_id': 366419419, 'lat': 10.7915264, 'lon': 106.7478094},\n",
       " {'node_id': 366419616, 'lat': 10.7279912, 'lon': 106.7207229},\n",
       " {'node_id': 366419743, 'lat': 10.8121485, 'lon': 106.6927947},\n",
       " {'node_id': 366420314, 'lat': 10.7274229, 'lon': 106.7104639},\n",
       " {'node_id': 366421302, 'lat': 10.7604373, 'lon': 106.7131484},\n",
       " {'node_id': 366421460, 'lat': 10.8139573, 'lon': 106.7712947},\n",
       " {'node_id': 366421496, 'lat': 10.7319038, 'lon': 106.7315617},\n",
       " {'node_id': 366421700, 'lat': 10.7443967, 'lon': 106.7136943},\n",
       " {'node_id': 366423116, 'lat': 10.7609859, 'lon': 106.7042895},\n",
       " {'node_id': 366423300, 'lat': 10.8072297, 'lon': 106.6919704},\n",
       " {'node_id': 366423506, 'lat': 10.7380078, 'lon': 106.7082815},\n",
       " {'node_id': 366423565, 'lat': 10.8026325, 'lon': 106.6986377},\n",
       " {'node_id': 366424896, 'lat': 10.7014904, 'lon': 106.7382433},\n",
       " {'node_id': 366424953, 'lat': 10.8134868, 'lon': 106.7727731},\n",
       " {'node_id': 366425211, 'lat': 10.7245302, 'lon': 106.7105314},\n",
       " {'node_id': 366426408, 'lat': 10.8141762, 'lon': 106.7697642},\n",
       " {'node_id': 366426949, 'lat': 10.6410957, 'lon': 106.730244},\n",
       " {'node_id': 366427377, 'lat': 10.7274609, 'lon': 106.712288},\n",
       " {'node_id': 366427588, 'lat': 10.6403429, 'lon': 106.7286934},\n",
       " {'node_id': 366427593, 'lat': 10.8185073, 'lon': 106.7714344},\n",
       " {'node_id': 366428061, 'lat': 10.7125215, 'lon': 106.7369968},\n",
       " {'node_id': 366428097, 'lat': 10.7914707, 'lon': 106.8008566},\n",
       " {'node_id': 366428309, 'lat': 10.8022693, 'lon': 106.7161639},\n",
       " {'node_id': 366428312, 'lat': 10.8129217, 'lon': 106.7728488},\n",
       " {'node_id': 366428982, 'lat': 10.8168486, 'lon': 106.7201084},\n",
       " {'node_id': 366429048, 'lat': 10.7297055, 'lon': 106.7354454},\n",
       " {'node_id': 366429455, 'lat': 10.6997766, 'lon': 106.7383891},\n",
       " {'node_id': 366429474, 'lat': 10.819768, 'lon': 106.7784333},\n",
       " {'node_id': 366429493, 'lat': 10.7459756, 'lon': 106.7087362},\n",
       " {'node_id': 366429642, 'lat': 10.746867, 'lon': 106.7071531},\n",
       " {'node_id': 366430301, 'lat': 10.6897144, 'lon': 106.7419683},\n",
       " {'node_id': 366430474, 'lat': 10.7645102, 'lon': 106.7010118},\n",
       " {'node_id': 366431310, 'lat': 10.7655145, 'lon': 106.7831835},\n",
       " {'node_id': 366431691, 'lat': 10.8145067, 'lon': 106.7713101},\n",
       " {'node_id': 366431697, 'lat': 10.8123349, 'lon': 106.7298902},\n",
       " {'node_id': 366432300, 'lat': 10.8058787, 'lon': 106.6973621},\n",
       " {'node_id': 366432761, 'lat': 10.8211056, 'lon': 106.701829},\n",
       " {'node_id': 366433084, 'lat': 10.7463931, 'lon': 106.7071581},\n",
       " {'node_id': 366433576, 'lat': 10.8110073, 'lon': 106.7011018},\n",
       " {'node_id': 366433677, 'lat': 10.74988, 'lon': 106.7168313},\n",
       " {'node_id': 366434009, 'lat': 10.7956867, 'lon': 106.7337993},\n",
       " {'node_id': 366434273, 'lat': 10.7975552, 'lon': 106.8588435},\n",
       " {'node_id': 366434313, 'lat': 10.7625179, 'lon': 106.7083242},\n",
       " {'node_id': 366435111, 'lat': 10.7566901, 'lon': 106.7277877},\n",
       " {'node_id': 366435365, 'lat': 10.8031859, 'lon': 106.6923933},\n",
       " {'node_id': 366436018, 'lat': 10.7254579, 'lon': 106.7105088},\n",
       " {'node_id': 366436284, 'lat': 10.7402888, 'lon': 106.7086523},\n",
       " {'node_id': 366436544, 'lat': 10.8058487, 'lon': 106.7159686},\n",
       " {'node_id': 366437210, 'lat': 10.825305, 'lon': 106.8297507},\n",
       " {'node_id': 366437234, 'lat': 10.811754, 'lon': 106.7730234},\n",
       " {'node_id': 366437344, 'lat': 10.7916195, 'lon': 106.7303648},\n",
       " {'node_id': 366439978, 'lat': 10.8194929, 'lon': 106.7026918},\n",
       " {'node_id': 366440271, 'lat': 10.7440026, 'lon': 106.7275538},\n",
       " {'node_id': 366440375, 'lat': 10.743943, 'lon': 106.7158659},\n",
       " {'node_id': 366440405, 'lat': 10.8092144, 'lon': 106.7092345},\n",
       " {'node_id': 366440522, 'lat': 10.8112315, 'lon': 106.7731137},\n",
       " {'node_id': 366440760, 'lat': 10.7429617, 'lon': 106.7137125},\n",
       " {'node_id': 366440881, 'lat': 10.7926866, 'lon': 106.6959108},\n",
       " {'node_id': 366442113, 'lat': 10.7557562, 'lon': 106.7311675},\n",
       " {'node_id': 366442473, 'lat': 10.8026202, 'lon': 106.7200473},\n",
       " {'node_id': 366442606, 'lat': 10.8129011, 'lon': 106.7247499},\n",
       " {'node_id': 366442799, 'lat': 10.7259956, 'lon': 106.7219461},\n",
       " {'node_id': 366443071, 'lat': 10.7910963, 'lon': 106.7147531},\n",
       " {'node_id': 366443203, 'lat': 10.8136303, 'lon': 106.769632},\n",
       " {'node_id': 366443254, 'lat': 10.7917851, 'lon': 106.7532732},\n",
       " {'node_id': 366443394, 'lat': 10.8086855, 'lon': 106.6990154},\n",
       " {'node_id': 366443579, 'lat': 10.7444106, 'lon': 106.7158562},\n",
       " {'node_id': 366443631, 'lat': 10.7662288, 'lon': 106.74459},\n",
       " {'node_id': 366444970, 'lat': 10.7454906, 'lon': 106.7087486},\n",
       " {'node_id': 366444984, 'lat': 10.8007823, 'lon': 106.7326399},\n",
       " {'node_id': 366445809, 'lat': 10.6946589, 'lon': 106.7402237},\n",
       " {'node_id': 366445900, 'lat': 10.8150415, 'lon': 106.6952053},\n",
       " {'node_id': 366446050, 'lat': 10.6411973, 'lon': 106.732005},\n",
       " {'node_id': 366446467, 'lat': 10.7254133, 'lon': 106.7086907},\n",
       " {'node_id': 366446528, 'lat': 10.7910028, 'lon': 106.7074376},\n",
       " {'node_id': 366446679, 'lat': 10.8172693, 'lon': 106.7712891},\n",
       " {'node_id': 366446819, 'lat': 10.7951783, 'lon': 106.7348206},\n",
       " {'node_id': 366447012, 'lat': 10.7560773, 'lon': 106.7024544},\n",
       " {'node_id': 366447844, 'lat': 10.7317164, 'lon': 106.7198728},\n",
       " {'node_id': 366447855, 'lat': 10.7965054, 'lon': 106.8589331},\n",
       " {'node_id': 366448472, 'lat': 10.8164697, 'lon': 106.772675},\n",
       " {'node_id': 366448494, 'lat': 10.7283976, 'lon': 106.7085836},\n",
       " {'node_id': 366448642, 'lat': 10.8033333, 'lon': 106.700317},\n",
       " {'node_id': 366448708, 'lat': 10.805215, 'lon': 106.7362389},\n",
       " {'node_id': 366449577, 'lat': 10.7464243, 'lon': 106.7087283},\n",
       " {'node_id': 366450105, 'lat': 10.8045675, 'lon': 106.7146462},\n",
       " {'node_id': 366450163, 'lat': 10.7966411, 'lon': 106.6962541},\n",
       " {'node_id': 366450380, 'lat': 10.74873, 'lon': 106.7176993},\n",
       " {'node_id': 366451519, 'lat': 10.8165613, 'lon': 106.7701422},\n",
       " {'node_id': 366451565, 'lat': 10.8086207, 'lon': 106.7001616},\n",
       " {'node_id': 366452276, 'lat': 10.7529812, 'lon': 106.7340218},\n",
       " {'node_id': 366452877, 'lat': 10.7940937, 'lon': 106.7047025},\n",
       " {'node_id': 366453421, 'lat': 10.7650732, 'lon': 106.7071505},\n",
       " {'node_id': 366453613, 'lat': 10.8102137, 'lon': 106.6974712},\n",
       " {'node_id': 366454490, 'lat': 10.8074025, 'lon': 106.6993125},\n",
       " {'node_id': 366455478, 'lat': 10.7916001, 'lon': 106.709985},\n",
       " {'node_id': 366455581, 'lat': 10.8159675, 'lon': 106.7728051},\n",
       " {'node_id': 366455984, 'lat': 10.8048766, 'lon': 106.7453922},\n",
       " {'node_id': 366455999, 'lat': 10.7573488, 'lon': 106.7323249},\n",
       " {'node_id': 366456146, 'lat': 10.7858612, 'lon': 106.7752297},\n",
       " {'node_id': 366456219, 'lat': 10.7266494, 'lon': 106.7230274},\n",
       " {'node_id': 366456302, 'lat': 10.8117045, 'lon': 106.7066789},\n",
       " {'node_id': 366457400, 'lat': 10.8197275, 'lon': 106.7961794},\n",
       " {'node_id': 366457988, 'lat': 10.8138131, 'lon': 106.7319265},\n",
       " {'node_id': 366458077, 'lat': 10.7420916, 'lon': 106.7297018},\n",
       " {'node_id': 366458277, 'lat': 10.8156669, 'lon': 106.7713249},\n",
       " {'node_id': 366458339, 'lat': 10.8104721, 'lon': 106.7106139},\n",
       " {'node_id': 366458462, 'lat': 10.8040213, 'lon': 106.6982434},\n",
       " {'node_id': 366458577, 'lat': 10.8163047, 'lon': 106.7193855},\n",
       " {'node_id': 366458586, 'lat': 10.8083791, 'lon': 106.8631323},\n",
       " {'node_id': 366458988, 'lat': 10.7468805, 'lon': 106.7087201},\n",
       " {'node_id': 366459005, 'lat': 10.7439344, 'lon': 106.712684},\n",
       " {'node_id': 366459376, 'lat': 10.8042518, 'lon': 106.7335111},\n",
       " {'node_id': 366459390, 'lat': 10.813074, 'lon': 106.8601202},\n",
       " {'node_id': 366459948, 'lat': 10.7420409, 'lon': 106.7158706},\n",
       " {'node_id': 366460066, 'lat': 10.796244, 'lon': 106.7231656},\n",
       " {'node_id': 366460312, 'lat': 10.8112736, 'lon': 106.7003626},\n",
       " {'node_id': 366460380, 'lat': 10.7475232, 'lon': 106.7196117},\n",
       " {'node_id': 366460981, 'lat': 10.7270057, 'lon': 106.7213406},\n",
       " {'node_id': 366461154, 'lat': 10.8055443, 'lon': 106.8010959},\n",
       " {'node_id': 366461723, 'lat': 10.7578773, 'lon': 106.7183756},\n",
       " {'node_id': 366461809, 'lat': 10.7999851, 'lon': 106.722732},\n",
       " {'node_id': 366461990, 'lat': 10.8139291, 'lon': 106.7051635},\n",
       " {'node_id': 366462304, 'lat': 10.7487259, 'lon': 106.7168566},\n",
       " {'node_id': 366462428, 'lat': 10.7644837, 'lon': 106.7431995},\n",
       " {'node_id': 366463438, 'lat': 10.7377273, 'lon': 106.7261117},\n",
       " {'node_id': 366463521, 'lat': 10.7579723, 'lon': 106.744666},\n",
       " {'node_id': 366463842, 'lat': 10.8030825, 'lon': 106.7466908},\n",
       " {'node_id': 366464057, 'lat': 10.8152652, 'lon': 106.7077638},\n",
       " {'node_id': 366464635, 'lat': 10.7487237, 'lon': 106.7164105},\n",
       " {'node_id': 366464860, 'lat': 10.7265142, 'lon': 106.7104896},\n",
       " {'node_id': 366466197, 'lat': 10.7911519, 'lon': 106.7538262},\n",
       " {'node_id': 366466618, 'lat': 10.8093278, 'lon': 106.8633213},\n",
       " {'node_id': 366467187, 'lat': 10.7588427, 'lon': 106.7111456},\n",
       " {'node_id': 366467596, 'lat': 10.7054546, 'lon': 106.7395246},\n",
       " {'node_id': 366467615, 'lat': 10.81148, 'lon': 106.7144701},\n",
       " {'node_id': 366468735, 'lat': 10.8053875, 'lon': 106.7115299},\n",
       " {'node_id': 366469125, 'lat': 10.8102113, 'lon': 106.6989949},\n",
       " {'node_id': 366469151, 'lat': 10.7640813, 'lon': 106.7388912},\n",
       " {'node_id': 366469410, 'lat': 10.7640384, 'lon': 106.7046798},\n",
       " {'node_id': 366469457, 'lat': 10.7415734, 'lon': 106.7158895},\n",
       " {'node_id': 366469508, 'lat': 10.8038157, 'lon': 106.701596},\n",
       " {'node_id': 366470043, 'lat': 10.8140701, 'lon': 106.7315445},\n",
       " {'node_id': 366471391, 'lat': 10.7405454, 'lon': 106.7070097},\n",
       " {'node_id': 366471614, 'lat': 10.7443726, 'lon': 106.7101539},\n",
       " {'node_id': 366472126, 'lat': 10.7972576, 'lon': 106.7081239},\n",
       " {'node_id': 366472617, 'lat': 10.7917747, 'lon': 106.7332124},\n",
       " {'node_id': 366473153, 'lat': 10.8131081, 'lon': 106.7694941},\n",
       " {'node_id': 366473487, 'lat': 10.8047219, 'lon': 106.7997531},\n",
       " {'node_id': 366473590, 'lat': 10.7498837, 'lon': 106.717258},\n",
       " {'node_id': 366473779, 'lat': 10.8179981, 'lon': 106.7715549},\n",
       " {'node_id': 366474021, 'lat': 10.7493525, 'lon': 106.7172722},\n",
       " {'node_id': 366474871, 'lat': 10.812786, 'lon': 106.7712759},\n",
       " {'node_id': 366475252, 'lat': 10.7449756, 'lon': 106.7117146},\n",
       " {'node_id': 366475452, 'lat': 10.7291219, 'lon': 106.7085685},\n",
       " {'node_id': 366475568, 'lat': 10.7487211, 'lon': 106.7158731},\n",
       " {'node_id': 366476912, 'lat': 10.8112469, 'lon': 106.6954833},\n",
       " {'node_id': 366478064, 'lat': 10.7503035, 'lon': 106.7321394},\n",
       " {'node_id': 366478257, 'lat': 10.8145652, 'lon': 106.7265391},\n",
       " {'node_id': 366478536, 'lat': 10.8102553, 'lon': 106.7123041},\n",
       " {'node_id': 366478755, 'lat': 10.8067035, 'lon': 106.7055278},\n",
       " {'node_id': 366478799, 'lat': 10.8170118, 'lon': 106.7725401},\n",
       " {'node_id': 366478866, 'lat': 10.8116563, 'lon': 106.7270122},\n",
       " {'node_id': 366478989, 'lat': 10.7371947, 'lon': 106.7065092},\n",
       " {'node_id': 366479034, 'lat': 10.8008576, 'lon': 106.6988826},\n",
       " {'node_id': 373544359, 'lat': 10.7992972, 'lon': 106.7334679},\n",
       " {'node_id': 403556180, 'lat': 10.7978383, 'lon': 106.7214559},\n",
       " {'node_id': 403597060, 'lat': 10.7451971, 'lon': 106.7017991},\n",
       " {'node_id': 411917836, 'lat': 10.7706475, 'lon': 106.704554},\n",
       " {'node_id': 411917837, 'lat': 10.770821, 'lon': 106.7012188},\n",
       " {'node_id': 411917839, 'lat': 10.7711389, 'lon': 106.701082},\n",
       " {'node_id': 411918348, 'lat': 10.7670484, 'lon': 106.6960346},\n",
       " {'node_id': 411918577, 'lat': 10.7786557, 'lon': 106.7053153},\n",
       " {'node_id': 411918659, 'lat': 10.7874841, 'lon': 106.6915718},\n",
       " {'node_id': 411918853, 'lat': 10.7875352, 'lon': 106.6947432},\n",
       " {'node_id': 411918860, 'lat': 10.7710773, 'lon': 106.7024222},\n",
       " {'node_id': 411918863, 'lat': 10.7707369, 'lon': 106.7025753},\n",
       " {'node_id': 411918866, 'lat': 10.7796409, 'lon': 106.6968156},\n",
       " {'node_id': 411918867, 'lat': 10.7710294, 'lon': 106.7033721},\n",
       " {'node_id': 411918904, 'lat': 10.7793833, 'lon': 106.6929191},\n",
       " {'node_id': 411918912, 'lat': 10.7864515, 'lon': 106.6976719},\n",
       " {'node_id': 411918913, 'lat': 10.7889195, 'lon': 106.6980433},\n",
       " {'node_id': 411918914, 'lat': 10.789874, 'lon': 106.6970381},\n",
       " {'node_id': 411918916, 'lat': 10.7894041, 'lon': 106.6975233},\n",
       " {'node_id': 411919033, 'lat': 10.7736186, 'lon': 106.6944794},\n",
       " {'node_id': 411919038, 'lat': 10.7746878, 'lon': 106.6932328},\n",
       " {'node_id': 411919051, 'lat': 10.7926284, 'lon': 106.697328},\n",
       " {'node_id': 411919062, 'lat': 10.7695606, 'lon': 106.6926934},\n",
       " {'node_id': 411919179, 'lat': 10.7694201, 'lon': 106.6999243},\n",
       " {'node_id': 411919193, 'lat': 10.7768018, 'lon': 106.6999227},\n",
       " {'node_id': 411919215, 'lat': 10.7756638, 'lon': 106.7004291},\n",
       " {'node_id': 411919306, 'lat': 10.777776, 'lon': 106.6988723},\n",
       " {'node_id': 411919358, 'lat': 10.7731147, 'lon': 106.7000909},\n",
       " {'node_id': 411919405, 'lat': 10.7741609, 'lon': 106.7010766},\n",
       " {'node_id': 411919580, 'lat': 10.7749051, 'lon': 106.7043426},\n",
       " {'node_id': 411920169, 'lat': 10.7615876, 'lon': 106.6931487},\n",
       " {'node_id': 411920459, 'lat': 10.7645757, 'lon': 106.6966015},\n",
       " {'node_id': 411920460, 'lat': 10.764809, 'lon': 106.6964664},\n",
       " {'node_id': 411920463, 'lat': 10.7649737, 'lon': 106.6963625},\n",
       " {'node_id': 411920464, 'lat': 10.7650397, 'lon': 106.6963209},\n",
       " {'node_id': 411920467, 'lat': 10.7651898, 'lon': 106.6962261},\n",
       " {'node_id': 411920469, 'lat': 10.7648774, 'lon': 106.6966069},\n",
       " {'node_id': 411920472, 'lat': 10.7650456, 'lon': 106.6965092},\n",
       " {'node_id': 411920473, 'lat': 10.7651133, 'lon': 106.6964699},\n",
       " {'node_id': 411920476, 'lat': 10.7652774, 'lon': 106.6963753},\n",
       " {'node_id': 411920479, 'lat': 10.7653974, 'lon': 106.6963038},\n",
       " {'node_id': 411920496, 'lat': 10.7653037, 'lon': 106.6961541},\n",
       " {'node_id': 411920542, 'lat': 10.7649617, 'lon': 106.6967458},\n",
       " {'node_id': 411920799, 'lat': 10.7651885, 'lon': 106.6966107},\n",
       " {'node_id': 411921324, 'lat': 10.7654926, 'lon': 106.6947416},\n",
       " {'node_id': 411921451, 'lat': 10.7931572, 'lon': 106.693581},\n",
       " {'node_id': 411921534, 'lat': 10.7803853, 'lon': 106.7032908},\n",
       " {'node_id': 411921921, 'lat': 10.7681608, 'lon': 106.6928429},\n",
       " {'node_id': 411921925, 'lat': 10.7672989, 'lon': 106.6932175},\n",
       " {'node_id': 411922068, 'lat': 10.7645825, 'lon': 106.694464},\n",
       " {'node_id': 411922310, 'lat': 10.787933, 'lon': 106.6971395},\n",
       " {'node_id': 411922550, 'lat': 10.7660974, 'lon': 106.6947789},\n",
       " {'node_id': 411922587, 'lat': 10.7610717, 'lon': 106.6925614},\n",
       " {'node_id': 411922588, 'lat': 10.7671097, 'lon': 106.6932906},\n",
       " {'node_id': 411922606, 'lat': 10.7706637, 'lon': 106.6895739},\n",
       " {'node_id': 411922655, 'lat': 10.7626162, 'lon': 106.6925737},\n",
       " {'node_id': 411923060, 'lat': 10.7841076, 'lon': 106.7031002},\n",
       " {'node_id': 411923503, 'lat': 10.7647151, 'lon': 106.6946318},\n",
       " {'node_id': 411923567, 'lat': 10.7916328, 'lon': 106.7044385},\n",
       " {'node_id': 411923568, 'lat': 10.7915198, 'lon': 106.704315},\n",
       " {'node_id': 411924053, 'lat': 10.7781848, 'lon': 106.6917672},\n",
       " {'node_id': 411925445, 'lat': 10.7680964, 'lon': 106.7007414},\n",
       " {'node_id': 411925463, 'lat': 10.768215, 'lon': 106.6990126},\n",
       " {'node_id': 411925603, 'lat': 10.7680176, 'lon': 106.6984201},\n",
       " {'node_id': 411925830, 'lat': 10.7784491, 'lon': 106.6939566},\n",
       " {'node_id': 411925891, 'lat': 10.7900834, 'lon': 106.6991415},\n",
       " {'node_id': 411925919, 'lat': 10.7769384, 'lon': 106.6906189},\n",
       " {'node_id': 411925922, 'lat': 10.7757835, 'lon': 106.6895559},\n",
       " {'node_id': 411925934, 'lat': 10.7781081, 'lon': 106.7047964},\n",
       " {'node_id': 411925935, 'lat': 10.784656, 'lon': 106.6978569},\n",
       " {'node_id': 411925937, 'lat': 10.7736801, 'lon': 106.7056516},\n",
       " {'node_id': 411925939, 'lat': 10.7783352, 'lon': 106.7045538},\n",
       " {'node_id': 411925942, 'lat': 10.781467, 'lon': 106.6948334},\n",
       " {'node_id': 411925945, 'lat': 10.7818313, 'lon': 106.7045966},\n",
       " {'node_id': 411925946, 'lat': 10.7816783, 'lon': 106.6969506},\n",
       " {'node_id': 411925956, 'lat': 10.7813583, 'lon': 106.7053602},\n",
       " {'node_id': 411925963, 'lat': 10.7918102, 'lon': 106.6958718},\n",
       " {'node_id': 411925982, 'lat': 10.7903362, 'lon': 106.6965272},\n",
       " {'node_id': 411925984, 'lat': 10.7904945, 'lon': 106.7015127},\n",
       " {'node_id': 411925985, 'lat': 10.7886056, 'lon': 106.7035437},\n",
       " {'node_id': 411925987, 'lat': 10.78457, 'lon': 106.6996774},\n",
       " {'node_id': 411926019, 'lat': 10.79194, 'lon': 106.6914398},\n",
       " {'node_id': 411926028, 'lat': 10.791466, 'lon': 106.7004476},\n",
       " {'node_id': 411926034, 'lat': 10.7823516, 'lon': 106.7004492},\n",
       " {'node_id': 411926043, 'lat': 10.7805129, 'lon': 106.7069926},\n",
       " {'node_id': 411926051, 'lat': 10.7860633, 'lon': 106.6933018},\n",
       " {'node_id': 411926065, 'lat': 10.7748182, 'lon': 106.6961505},\n",
       " {'node_id': 411926066, 'lat': 10.7748121, 'lon': 106.6959718},\n",
       " {'node_id': 411926069, 'lat': 10.7704406, 'lon': 106.6993107},\n",
       " {'node_id': 411926072, 'lat': 10.7587531, 'lon': 106.6924052},\n",
       " {'node_id': 411926153, 'lat': 10.7732529, 'lon': 106.7031424},\n",
       " {'node_id': 411926157, 'lat': 10.7772338, 'lon': 106.7017981},\n",
       " {'node_id': 411926164, 'lat': 10.7814734, 'lon': 106.6929429},\n",
       " {'node_id': 411926174, 'lat': 10.7682965, 'lon': 106.6968883},\n",
       " {'node_id': 411926196, 'lat': 10.7728438, 'lon': 106.702606},\n",
       " {'node_id': 411926197, 'lat': 10.7723028, 'lon': 106.7018947},\n",
       " {'node_id': 411926209, 'lat': 10.7635148, 'lon': 106.6931694},\n",
       " {'node_id': 411926212, 'lat': 10.7805422, 'lon': 106.6939507},\n",
       " {'node_id': 411926243, 'lat': 10.7696265, 'lon': 106.7030192},\n",
       " {'node_id': 411926245, 'lat': 10.7699703, 'lon': 106.7038154},\n",
       " {'node_id': 411926247, 'lat': 10.7691427, 'lon': 106.7019437},\n",
       " {'node_id': 411926265, 'lat': 10.7899509, 'lon': 106.6961459},\n",
       " {'node_id': 411926344, 'lat': 10.78789, 'lon': 106.6919402},\n",
       " {'node_id': 411926369, 'lat': 10.7670008, 'lon': 106.6959458},\n",
       " {'node_id': 411926378, 'lat': 10.7773934, 'lon': 106.7041193},\n",
       " {'node_id': 411926380, 'lat': 10.7779416, 'lon': 106.7010248},\n",
       " {'node_id': 411926393, 'lat': 10.7765349, 'lon': 106.7050971},\n",
       " {'node_id': 411926412, 'lat': 10.7748371, 'lon': 106.6981499},\n",
       " {'node_id': 411926419, 'lat': 10.78553, 'lon': 106.6927956},\n",
       " {'node_id': 411926437, 'lat': 10.7720998, 'lon': 106.696004},\n",
       " {'node_id': 411926446, 'lat': 10.7873909, 'lon': 106.6966403},\n",
       " {'node_id': 411926455, 'lat': 10.7732605, 'lon': 106.7014575},\n",
       " {'node_id': 411926457, 'lat': 10.7865655, 'lon': 106.6957919},\n",
       " {'node_id': 411926458, 'lat': 10.790659, 'lon': 106.6996967},\n",
       " {'node_id': 411926477, 'lat': 10.7864896, 'lon': 106.6937109},\n",
       " {'node_id': 411926496, 'lat': 10.7803604, 'lon': 106.6918856},\n",
       " {'node_id': 411926503, 'lat': 10.7648363, 'lon': 106.6925294},\n",
       " {'node_id': 411926523, 'lat': 10.7846634, 'lon': 106.6959835},\n",
       " {'node_id': 411926532, 'lat': 10.7834491, 'lon': 106.6907522},\n",
       " {'node_id': 411926533, 'lat': 10.7685425, 'lon': 106.6971744},\n",
       " {'node_id': 411926537, 'lat': 10.7740726, 'lon': 106.6990186},\n",
       " {'node_id': 411926538, 'lat': 10.7855867, 'lon': 106.6968504},\n",
       " {'node_id': 411926545, 'lat': 10.774706, 'lon': 106.6995506},\n",
       " {'node_id': 411926547, 'lat': 10.7814762, 'lon': 106.6996356},\n",
       " {'node_id': 411926554, 'lat': 10.78238, 'lon': 106.6938041},\n",
       " {'node_id': 411926559, 'lat': 10.7843492, 'lon': 106.691669},\n",
       " {'node_id': 411926577, 'lat': 10.7684134, 'lon': 106.6988516},\n",
       " {'node_id': 411926578, 'lat': 10.7837928, 'lon': 106.6970271},\n",
       " {'node_id': 411926580, 'lat': 10.7828823, 'lon': 106.6980764},\n",
       " {'node_id': 411926585, 'lat': 10.7883712, 'lon': 106.6955625},\n",
       " {'node_id': 411926591, 'lat': 10.7616266, 'lon': 106.6897192},\n",
       " {'node_id': 411926594, 'lat': 10.7791968, 'lon': 106.702175},\n",
       " {'node_id': 411926596, 'lat': 10.7797806, 'lon': 106.7040024},\n",
       " {'node_id': 411926597, 'lat': 10.783582, 'lon': 106.694946},\n",
       " {'node_id': 411926604, 'lat': 10.7805243, 'lon': 106.6958645},\n",
       " {'node_id': 411926613, 'lat': 10.772787, 'lon': 106.6954284},\n",
       " {'node_id': 411926617, 'lat': 10.7739958, 'lon': 106.697121},\n",
       " {'node_id': 411926622, 'lat': 10.7668561, 'lon': 106.6942946},\n",
       " {'node_id': 411926624, 'lat': 10.7801873, 'lon': 106.7010602},\n",
       " {'node_id': 411926632, 'lat': 10.7704446, 'lon': 106.6920153},\n",
       " {'node_id': 411926638, 'lat': 10.7658757, 'lon': 106.6981643},\n",
       " {'node_id': 411926694, 'lat': 10.7763635, 'lon': 106.6984594},\n",
       " {'node_id': 411926696, 'lat': 10.7767991, 'lon': 106.6979831},\n",
       " {'node_id': 411926701, 'lat': 10.778525, 'lon': 106.7029239},\n",
       " {'node_id': 411926702, 'lat': 10.7776192, 'lon': 106.7038862},\n",
       " {'node_id': 411926704, 'lat': 10.7894352, 'lon': 106.6985385},\n",
       " {'node_id': 411926705, 'lat': 10.7903996, 'lon': 106.6974842},\n",
       " {'node_id': 411926712, 'lat': 10.7693766, 'lon': 106.6981019},\n",
       " {'node_id': 571355903, 'lat': 10.7342737, 'lon': 106.7084589},\n",
       " {'node_id': 571360922, 'lat': 10.7578565, 'lon': 106.692835},\n",
       " {'node_id': 696860129, 'lat': 10.8111654, 'lon': 106.7076832},\n",
       " {'node_id': 696860133, 'lat': 10.8116403, 'lon': 106.7077134},\n",
       " {'node_id': 696860134, 'lat': 10.8115749, 'lon': 106.7085835},\n",
       " {'node_id': 696860135, 'lat': 10.8106032, 'lon': 106.7091811},\n",
       " {'node_id': 696860140, 'lat': 10.8124997, 'lon': 106.7077921},\n",
       " {'node_id': 696860142, 'lat': 10.8120799, 'lon': 106.7077613},\n",
       " {'node_id': 696860153, 'lat': 10.8133163, 'lon': 106.7095349},\n",
       " {'node_id': 701671549, 'lat': 10.7947643, 'lon': 106.7015669},\n",
       " {'node_id': 706286177, 'lat': 10.7587035, 'lon': 106.7006505},\n",
       " {'node_id': 714480330, 'lat': 10.7376578, 'lon': 106.730382},\n",
       " {'node_id': 714480368, 'lat': 10.7721064, 'lon': 106.7722425},\n",
       " {'node_id': 714480389, 'lat': 10.7420455, 'lon': 106.7323696},\n",
       " {'node_id': 714480394, 'lat': 10.7873764, 'lon': 106.7498748},\n",
       " {'node_id': 714480411, 'lat': 10.7418548, 'lon': 106.7338659},\n",
       " {'node_id': 714480470, 'lat': 10.7875864, 'lon': 106.7496734},\n",
       " {'node_id': 714480500, 'lat': 10.7436031, 'lon': 106.7320138},\n",
       " {'node_id': 714480513, 'lat': 10.7379007, 'lon': 106.7230967},\n",
       " {'node_id': 714480597, 'lat': 10.7628911, 'lon': 106.7679278},\n",
       " {'node_id': 714480621, 'lat': 10.741153, 'lon': 106.7365685},\n",
       " {'node_id': 715729851, 'lat': 10.7447644, 'lon': 106.7331702},\n",
       " {'node_id': 715729869, 'lat': 10.7437282, 'lon': 106.7294532},\n",
       " {'node_id': 715729875, 'lat': 10.7382677, 'lon': 106.718052},\n",
       " {'node_id': 715729878, 'lat': 10.7445297, 'lon': 106.7351022},\n",
       " {'node_id': 715729886, 'lat': 10.7442067, 'lon': 106.7330964},\n",
       " {'node_id': 715729899, 'lat': 10.7439566, 'lon': 106.7350374},\n",
       " {'node_id': 728690586, 'lat': 10.7990096, 'lon': 106.7236739},\n",
       " {'node_id': 728705748, 'lat': 10.7991105, 'lon': 106.7236762},\n",
       " {'node_id': 729523408, 'lat': 10.8010848, 'lon': 106.7151566},\n",
       " {'node_id': 734894511, 'lat': 10.7449824, 'lon': 106.7043303},\n",
       " {'node_id': 734894522, 'lat': 10.7331871, 'lon': 106.7189358},\n",
       " {'node_id': 735998140, 'lat': 10.7328865, 'lon': 106.7085033},\n",
       " {'node_id': 735998143, 'lat': 10.7333565, 'lon': 106.7084886},\n",
       " {'node_id': 735998166, 'lat': 10.7971723, 'lon': 106.69249},\n",
       " {'node_id': 735998169, 'lat': 10.7959501, 'lon': 106.6927751},\n",
       " {'node_id': 735998172, 'lat': 10.7290807, 'lon': 106.7067606},\n",
       " {'node_id': 735998179, 'lat': 10.7319458, 'lon': 106.7066733},\n",
       " {'node_id': 735998181, 'lat': 10.7338251, 'lon': 106.7084836},\n",
       " {'node_id': 735998185, 'lat': 10.7301895, 'lon': 106.7104203},\n",
       " {'node_id': 735998186, 'lat': 10.7324353, 'lon': 106.7085222},\n",
       " {'node_id': 735998188, 'lat': 10.7971476, 'lon': 106.6930979},\n",
       " {'node_id': 735998190, 'lat': 10.7320241, 'lon': 106.7103579},\n",
       " {'node_id': 735998195, 'lat': 10.7301377, 'lon': 106.7085635},\n",
       " {'node_id': 735998196, 'lat': 10.7310567, 'lon': 106.7085621},\n",
       " {'node_id': 735998202, 'lat': 10.7966991, 'lon': 106.6937418},\n",
       " {'node_id': 737167529, 'lat': 10.8045775, 'lon': 106.7315525},\n",
       " {'node_id': 738217342, 'lat': 10.7396479, 'lon': 106.7098284},\n",
       " {'node_id': 738217343, 'lat': 10.7400915, 'lon': 106.709904},\n",
       " {'node_id': 738217347, 'lat': 10.7454601, 'lon': 106.7056803},\n",
       " {'node_id': 738217350, 'lat': 10.7579593, 'lon': 106.6991546},\n",
       " {'node_id': 738217351, 'lat': 10.7574648, 'lon': 106.6995533},\n",
       " {'node_id': 745747049, 'lat': 10.7923744, 'lon': 106.7515448},\n",
       " {'node_id': 746617459, 'lat': 10.7599344, 'lon': 106.6997529},\n",
       " {'node_id': 746617465, 'lat': 10.7578187, 'lon': 106.7013058},\n",
       " {'node_id': 746617486, 'lat': 10.7583164, 'lon': 106.7001417},\n",
       " {'node_id': 760844031, 'lat': 10.8068331, 'lon': 106.7094158},\n",
       " {'node_id': 762368929, 'lat': 10.8112718, 'lon': 106.7066404},\n",
       " {'node_id': 763321205, 'lat': 10.7881937, 'lon': 106.6934699},\n",
       " {'node_id': 763321221, 'lat': 10.7877506, 'lon': 106.6945323},\n",
       " {'node_id': 763321229, 'lat': 10.7878637, 'lon': 106.693793},\n",
       " {'node_id': 763321258, 'lat': 10.7889286, 'lon': 106.6933269},\n",
       " {'node_id': 842051606, 'lat': 10.7223644, 'lon': 106.7171797},\n",
       " {'node_id': 842051616, 'lat': 10.7240378, 'lon': 106.7161431},\n",
       " {'node_id': 842051627, 'lat': 10.7233836, 'lon': 106.7165466},\n",
       " {'node_id': 842051638, 'lat': 10.7227433, 'lon': 106.7155493},\n",
       " {'node_id': 842051642, 'lat': 10.7212558, 'lon': 106.7164673},\n",
       " {'node_id': 1271148299, 'lat': 10.8167738, 'lon': 106.7063868},\n",
       " {'node_id': 1271148303, 'lat': 10.7993861, 'lon': 106.7367594},\n",
       " {'node_id': 1271148387, 'lat': 10.7983574, 'lon': 106.7414856},\n",
       " {'node_id': 1271148406, 'lat': 10.7942773, 'lon': 106.7410432},\n",
       " {'node_id': 1271148410, 'lat': 10.7983868, 'lon': 106.7426666},\n",
       " {'node_id': 1271148420, 'lat': 10.794979, 'lon': 106.7430594},\n",
       " {'node_id': 1271148428, 'lat': 10.7999022, 'lon': 106.7366611},\n",
       " {'node_id': 1271148447, 'lat': 10.7917207, 'lon': 106.7361858},\n",
       " {'node_id': 1271148448, 'lat': 10.7957696, 'lon': 106.7445363},\n",
       " {'node_id': 1275842554, 'lat': 10.7995023, 'lon': 106.7400272},\n",
       " {'node_id': 1275842579, 'lat': 10.7985621, 'lon': 106.7402153},\n",
       " {'node_id': 1275842605, 'lat': 10.7987498, 'lon': 106.7434019},\n",
       " {'node_id': 1275848305, 'lat': 10.7988402, 'lon': 106.7424293},\n",
       " {'node_id': 1276696871, 'lat': 10.8166665, 'lon': 106.7094689},\n",
       " {'node_id': 1276696880, 'lat': 10.8170718, 'lon': 106.7086233},\n",
       " {'node_id': 1276696883, 'lat': 10.8087694, 'lon': 106.708297},\n",
       " {'node_id': 1276696892, 'lat': 10.8162841, 'lon': 106.708984},\n",
       " {'node_id': 1276696909, 'lat': 10.797935, 'lon': 106.741715},\n",
       " {'node_id': 1276696913, 'lat': 10.7988667, 'lon': 106.7368483},\n",
       " {'node_id': 1276696938, 'lat': 10.8082807, 'lon': 106.7083191},\n",
       " {'node_id': 1276696951, 'lat': 10.799888, 'lon': 106.7199897},\n",
       " {'node_id': 1276983100, 'lat': 10.7904145, 'lon': 106.7460133},\n",
       " {'node_id': 1496094381, 'lat': 10.8080081, 'lon': 106.7053651},\n",
       " {'node_id': 1497255714, 'lat': 10.8095231, 'lon': 106.692566},\n",
       " {'node_id': 1497276512, 'lat': 10.8010709, 'lon': 106.7109864},\n",
       " {'node_id': 1497312738, 'lat': 10.7954388, 'lon': 106.7311474},\n",
       " {'node_id': 1497312762, 'lat': 10.7972816, 'lon': 106.7314687},\n",
       " {'node_id': 1497312813, 'lat': 10.7977775, 'lon': 106.721121},\n",
       " {'node_id': 1497312816, 'lat': 10.7977449, 'lon': 106.7241969},\n",
       " {'node_id': 1497312869, 'lat': 10.7981381, 'lon': 106.7302795},\n",
       " {'node_id': 1497313065, 'lat': 10.7999445, 'lon': 106.7222695},\n",
       " {'node_id': 1497313075, 'lat': 10.800213, 'lon': 106.7201063},\n",
       " {'node_id': 1497313079, 'lat': 10.8003398, 'lon': 106.73257},\n",
       " {'node_id': 1497313086, 'lat': 10.8004571, 'lon': 106.7194992},\n",
       " {'node_id': 1497313090, 'lat': 10.8006935, 'lon': 106.719596},\n",
       " {'node_id': 1497313091, 'lat': 10.800731, 'lon': 106.7188182},\n",
       " {'node_id': 1497313092, 'lat': 10.8008, 'lon': 106.7203379},\n",
       " {'node_id': 1497313098, 'lat': 10.8010272, 'lon': 106.7197215},\n",
       " {'node_id': 1497313126, 'lat': 10.8015544, 'lon': 106.719934},\n",
       " {'node_id': 1497313130, 'lat': 10.8016477, 'lon': 106.7206695},\n",
       " {'node_id': 1497313138, 'lat': 10.8018955, 'lon': 106.7200926},\n",
       " {'node_id': 1497313141, 'lat': 10.8020811, 'lon': 106.7196764},\n",
       " {'node_id': 1497313150, 'lat': 10.8028936, 'lon': 106.7193233},\n",
       " {'node_id': 1497324789, 'lat': 10.8032235, 'lon': 106.7142977},\n",
       " {'node_id': 1512708246, 'lat': 10.8159631, 'lon': 106.6992916},\n",
       " {'node_id': 1597983325, 'lat': 10.7612608, 'lon': 106.6972114},\n",
       " {'node_id': 1605322299, 'lat': 10.8103773, 'lon': 106.8313521},\n",
       " {'node_id': 1605322437, 'lat': 10.8041641, 'lon': 106.8399662},\n",
       " {'node_id': 1605322449, 'lat': 10.8033285, 'lon': 106.8406113},\n",
       " {'node_id': 1605322490, 'lat': 10.8040675, 'lon': 106.8398367},\n",
       " {'node_id': 1605322494, 'lat': 10.8080146, 'lon': 106.8318372},\n",
       " {'node_id': 1605322516, 'lat': 10.8035329, 'lon': 106.8388863},\n",
       " {'node_id': 1606817636, 'lat': 10.7357633, 'lon': 106.6896458},\n",
       " {'node_id': 1606817780, 'lat': 10.7356907, 'lon': 106.6934274},\n",
       " {'node_id': 1628403164, 'lat': 10.7131351, 'lon': 106.7315201},\n",
       " {'node_id': 1628403171, 'lat': 10.7133128, 'lon': 106.7322575},\n",
       " {'node_id': 1628403183, 'lat': 10.7138813, 'lon': 106.735131},\n",
       " {'node_id': 1628403184, 'lat': 10.7139764, 'lon': 106.7351098},\n",
       " {'node_id': 1628403206, 'lat': 10.7148686, 'lon': 106.7344116},\n",
       " {'node_id': 1628403207, 'lat': 10.714952, 'lon': 106.734413},\n",
       " {'node_id': 1628403208, 'lat': 10.7149747, 'lon': 106.7348761},\n",
       " {'node_id': 1628403225, 'lat': 10.7154374, 'lon': 106.7268714},\n",
       " {'node_id': 1628403240, 'lat': 10.7160969, 'lon': 106.7279584},\n",
       " {'node_id': 1628403261, 'lat': 10.7163563, 'lon': 106.735041},\n",
       " {'node_id': 1628403278, 'lat': 10.7164644, 'lon': 106.7340843},\n",
       " {'node_id': 1628403289, 'lat': 10.7165138, 'lon': 106.7286421},\n",
       " {'node_id': 1628403298, 'lat': 10.7167997, 'lon': 106.7291151},\n",
       " {'node_id': 1628403304, 'lat': 10.7171643, 'lon': 106.7319051},\n",
       " {'node_id': 1628403319, 'lat': 10.7178709, 'lon': 106.7284517},\n",
       " {'node_id': 1628403324, 'lat': 10.7183735, 'lon': 106.7317097},\n",
       " {'node_id': 1628403335, 'lat': 10.7189495, 'lon': 106.7277865},\n",
       " {'node_id': 1628403340, 'lat': 10.7193647, 'lon': 106.733362},\n",
       " {'node_id': 1628403345, 'lat': 10.7197637, 'lon': 106.7315743},\n",
       " {'node_id': 1628403347, 'lat': 10.7200349, 'lon': 106.727115},\n",
       " {'node_id': 1628403353, 'lat': 10.7203724, 'lon': 106.7276999},\n",
       " {'node_id': 1628403363, 'lat': 10.7211162, 'lon': 106.7289345},\n",
       " {'node_id': 1628403375, 'lat': 10.721772, 'lon': 106.7318786},\n",
       " {'node_id': 1628403380, 'lat': 10.7221933, 'lon': 106.7282722},\n",
       " {'node_id': 1628403403, 'lat': 10.7235121, 'lon': 106.7279866},\n",
       " {'node_id': 1628403406, 'lat': 10.7236542, 'lon': 106.7307172},\n",
       " {'node_id': 1628403446, 'lat': 10.731033, 'lon': 106.7203087},\n",
       " {'node_id': 1628403452, 'lat': 10.7347818, 'lon': 106.7181408},\n",
       " {'node_id': 1628403454, 'lat': 10.7347828, 'lon': 106.7180369},\n",
       " {'node_id': 1628403462, 'lat': 10.7353262, 'lon': 106.7158809},\n",
       " {'node_id': 1628403465, 'lat': 10.7354519, 'lon': 106.7191096},\n",
       " {'node_id': 1628403468, 'lat': 10.7357133, 'lon': 106.7159093},\n",
       " {'node_id': 1628403474, 'lat': 10.7359222, 'lon': 106.7191434},\n",
       " {'node_id': 1628403495, 'lat': 10.7369433, 'lon': 106.7182479},\n",
       " {'node_id': 1628403499, 'lat': 10.737096, 'lon': 106.7160089},\n",
       " {'node_id': 1671468531, 'lat': 10.8014201, 'lon': 106.6950752},\n",
       " {'node_id': 1671468544, 'lat': 10.8018053, 'lon': 106.6951078},\n",
       " {'node_id': 1671468604, 'lat': 10.8053636, 'lon': 106.7005298},\n",
       " {'node_id': 1671468671, 'lat': 10.8074385, 'lon': 106.7054494},\n",
       " {'node_id': 1671468675, 'lat': 10.8076298, 'lon': 106.7071566},\n",
       " {'node_id': 1671468686, 'lat': 10.8083272, 'lon': 106.7023751},\n",
       " {'node_id': 1671468688, 'lat': 10.8084002, 'lon': 106.7028962},\n",
       " {'node_id': 1671468691, 'lat': 10.8086492, 'lon': 106.704913},\n",
       " {'node_id': 1671468712, 'lat': 10.8097267, 'lon': 106.7015387},\n",
       " {'node_id': 1671468739, 'lat': 10.8118836, 'lon': 106.7055256},\n",
       " {'node_id': 1671468740, 'lat': 10.8121483, 'lon': 106.7067184},\n",
       " {'node_id': 1671468777, 'lat': 10.8156651, 'lon': 106.6952417},\n",
       " {'node_id': 1708915818, 'lat': 10.7272781, 'lon': 106.7050856},\n",
       " {'node_id': 1710174709, 'lat': 10.7223279, 'lon': 106.7124335},\n",
       " {'node_id': 1756323429, 'lat': 10.7320688, 'lon': 106.7122486},\n",
       " {'node_id': 1767169483, 'lat': 10.7552595, 'lon': 106.6923265},\n",
       " {'node_id': 1767203801, 'lat': 10.7672511, 'lon': 106.6997734},\n",
       " {'node_id': 1767821170, 'lat': 10.7344684, 'lon': 106.7218827},\n",
       " {'node_id': 1767909393, 'lat': 10.7665511, 'lon': 106.7016057},\n",
       " {'node_id': 1768271030, 'lat': 10.7236603, 'lon': 106.7142521},\n",
       " {'node_id': 1768271033, 'lat': 10.723621, 'lon': 106.7124082},\n",
       " {'node_id': 1768281368, 'lat': 10.725515, 'lon': 106.7126217},\n",
       " {'node_id': 1768281377, 'lat': 10.7255033, 'lon': 106.7123599},\n",
       " {'node_id': 1768281378, 'lat': 10.7251843, 'lon': 106.7139081},\n",
       " {'node_id': 1768281384, 'lat': 10.7261624, 'lon': 106.7141907},\n",
       " {'node_id': 1768302611, 'lat': 10.724615, 'lon': 106.7142331},\n",
       " {'node_id': 1768313270, 'lat': 10.7267492, 'lon': 106.7209076},\n",
       " {'node_id': 1768313276, 'lat': 10.7287352, 'lon': 106.7196801},\n",
       " {'node_id': 1768341190, 'lat': 10.7314619, 'lon': 106.736508},\n",
       " {'node_id': 1768341193, 'lat': 10.7315249, 'lon': 106.7378574},\n",
       " {'node_id': 1768341194, 'lat': 10.7281652, 'lon': 106.7220932},\n",
       " {'node_id': 1768341197, 'lat': 10.7307983, 'lon': 106.7319535},\n",
       " {'node_id': 1768341201, 'lat': 10.7315018, 'lon': 106.735321},\n",
       " {'node_id': 1768376030, 'lat': 10.7582065, 'lon': 106.7010204},\n",
       " {'node_id': 1768376035, 'lat': 10.7576083, 'lon': 106.7010037},\n",
       " {'node_id': 1768376037, 'lat': 10.7580115, 'lon': 106.7011639},\n",
       " {'node_id': 1768404047, 'lat': 10.7602265, 'lon': 106.7001872},\n",
       " {'node_id': 1768404055, 'lat': 10.7609052, 'lon': 106.6994389},\n",
       " {'node_id': 1768404060, 'lat': 10.75905, 'lon': 106.7003995},\n",
       " {'node_id': 1768404071, 'lat': 10.7612564, 'lon': 106.6979406},\n",
       " {'node_id': 1768404129, 'lat': 10.7545672, 'lon': 106.7004678},\n",
       " {'node_id': 1768404172, 'lat': 10.7612044, 'lon': 106.699242},\n",
       " {'node_id': 1768404179, 'lat': 10.7603399, 'lon': 106.697986},\n",
       " {'node_id': 1768404190, 'lat': 10.7557367, 'lon': 106.7008649},\n",
       " {'node_id': 1769173838, 'lat': 10.7704284, 'lon': 106.7063723},\n",
       " {'node_id': 1769173843, 'lat': 10.7694232, 'lon': 106.7051609},\n",
       " {'node_id': 1769173868, 'lat': 10.7671654, 'lon': 106.7013838},\n",
       " {'node_id': 1769277420, 'lat': 10.7735128, 'lon': 106.7001792},\n",
       " {'node_id': 1769277447, 'lat': 10.7731909, 'lon': 106.7000059},\n",
       " {'node_id': 1769277472, 'lat': 10.7765708, 'lon': 106.7012198},\n",
       " {'node_id': 1769456910, 'lat': 10.7602991, 'lon': 106.712049},\n",
       " {'node_id': 1769496227, 'lat': 10.7908711, 'lon': 106.714991},\n",
       " {'node_id': 1769692389, 'lat': 10.7865567, 'lon': 106.7016456},\n",
       " {'node_id': 1771088742, 'lat': 10.7872347, 'lon': 106.7022445},\n",
       " {'node_id': 1771302992, 'lat': 10.7794178, 'lon': 106.6997751},\n",
       " {'node_id': 1779408273, 'lat': 10.753023, 'lon': 106.6916152},\n",
       " {'node_id': 1779408296, 'lat': 10.7627383, 'lon': 106.7029757},\n",
       " {'node_id': 1780010929, 'lat': 10.7549186, 'lon': 106.6944527},\n",
       " {'node_id': 1793489505, 'lat': 10.7231544, 'lon': 106.7124173},\n",
       " {'node_id': 1793489507, 'lat': 10.7245725, 'lon': 106.7123802},\n",
       " {'node_id': 1793489511, 'lat': 10.728992, 'lon': 106.7032853},\n",
       " {'node_id': 1832031166, 'lat': 10.7613241, 'lon': 106.7695245},\n",
       " {'node_id': 1832031359, 'lat': 10.7666836, 'lon': 106.7723962},\n",
       " {'node_id': 1833100755, 'lat': 10.7545427, 'lon': 106.7530121},\n",
       " {'node_id': 1833101039, 'lat': 10.7637613, 'lon': 106.7568533},\n",
       " {'node_id': 1833101051, 'lat': 10.7639323, 'lon': 106.7592993},\n",
       " {'node_id': 1833101052, 'lat': 10.7640049, 'lon': 106.7587809},\n",
       " {'node_id': 1833101054, 'lat': 10.7640876, 'lon': 106.7582401},\n",
       " {'node_id': 1833101056, 'lat': 10.7642857, 'lon': 106.756937},\n",
       " {'node_id': 1833101073, 'lat': 10.7651461, 'lon': 106.7589612},\n",
       " {'node_id': 1833101074, 'lat': 10.7652271, 'lon': 106.7584191},\n",
       " {'node_id': 1833101078, 'lat': 10.7654293, 'lon': 106.7571152},\n",
       " {'node_id': 1833101106, 'lat': 10.7660474, 'lon': 106.7607441},\n",
       " {'node_id': 1833101303, 'lat': 10.7678646, 'lon': 106.7612676},\n",
       " {'node_id': 1833101310, 'lat': 10.7689695, 'lon': 106.7595533},\n",
       " {'node_id': 1833101314, 'lat': 10.7693062, 'lon': 106.759888},\n",
       " {'node_id': 1833101320, 'lat': 10.7698218, 'lon': 106.7551573},\n",
       " {'node_id': 1833101322, 'lat': 10.7698882, 'lon': 106.7605306},\n",
       " {'node_id': 1833101328, 'lat': 10.7702599, 'lon': 106.7609351},\n",
       " {'node_id': 1833101334, 'lat': 10.7704587, 'lon': 106.758785},\n",
       " {'node_id': 1833101336, 'lat': 10.7706021, 'lon': 106.7559436},\n",
       " {'node_id': 1833101341, 'lat': 10.7708421, 'lon': 106.7570373},\n",
       " {'node_id': 1833101347, 'lat': 10.7710547, 'lon': 106.7594309},\n",
       " {'node_id': 1833101378, 'lat': 10.7713016, 'lon': 106.7540842},\n",
       " {'node_id': 1833101391, 'lat': 10.7716407, 'lon': 106.7562896},\n",
       " {'node_id': 1833101412, 'lat': 10.771993, 'lon': 106.7566818},\n",
       " {'node_id': 1833101414, 'lat': 10.7721024, 'lon': 106.7591775},\n",
       " {'node_id': 1833101458, 'lat': 10.7725639, 'lon': 106.7529375},\n",
       " {'node_id': 1833101480, 'lat': 10.7725442, 'lon': 106.7614834},\n",
       " {'node_id': 1833101501, 'lat': 10.7730377, 'lon': 106.7541946},\n",
       " {'node_id': 1833101548, 'lat': 10.7732657, 'lon': 106.7580679},\n",
       " {'node_id': 1833101554, 'lat': 10.7733607, 'lon': 106.7521655},\n",
       " {'node_id': 1833101556, 'lat': 10.7733998, 'lon': 106.7538494},\n",
       " {'node_id': 1833101560, 'lat': 10.7734381, 'lon': 106.7606366},\n",
       " {'node_id': 1833101568, 'lat': 10.7735859, 'lon': 106.7519578},\n",
       " {'node_id': 1833101638, 'lat': 10.7740374, 'lon': 106.7612782},\n",
       " {'node_id': 1833101644, 'lat': 10.7741299, 'lon': 106.7546264},\n",
       " {'node_id': 1833101654, 'lat': 10.7741948, 'lon': 106.7571817},\n",
       " {'node_id': 1833101660, 'lat': 10.7743801, 'lon': 106.7511807},\n",
       " {'node_id': 1833101743, 'lat': 10.77523, 'lon': 106.7520663},\n",
       " {'node_id': 1833101747, 'lat': 10.7754016, 'lon': 106.750213},\n",
       " {'node_id': 1833101765, 'lat': 10.7754173, 'lon': 106.7560156},\n",
       " {'node_id': 1833101767, 'lat': 10.7755336, 'lon': 106.7604115},\n",
       " {'node_id': 1833101805, 'lat': 10.7755851, 'lon': 106.7517682},\n",
       " {'node_id': 1833101828, 'lat': 10.7758047, 'lon': 106.7498241},\n",
       " {'node_id': 1833101830, 'lat': 10.7759844, 'lon': 106.7528888},\n",
       " {'node_id': 1833101885, 'lat': 10.776997, 'lon': 106.7519372},\n",
       " {'node_id': 1833101895, 'lat': 10.7772794, 'lon': 106.7543002},\n",
       " {'node_id': 1833101957, 'lat': 10.7782877, 'lon': 106.7533415},\n",
       " {'node_id': 1833101974, 'lat': 10.7784096, 'lon': 106.7574379},\n",
       " {'node_id': 1833102013, 'lat': 10.778699, 'lon': 106.7537788},\n",
       " {'node_id': 1833102033, 'lat': 10.7791683, 'lon': 106.7516628},\n",
       " {'node_id': 1833102039, 'lat': 10.7790944, 'lon': 106.751743},\n",
       " {'node_id': 1833102080, 'lat': 10.7796389, 'lon': 106.7520865},\n",
       " {'node_id': 1833102095, 'lat': 10.7796741, 'lon': 106.7528123},\n",
       " {'node_id': 1833102111, 'lat': 10.7801025, 'lon': 106.7524427},\n",
       " {'node_id': 1833102112, 'lat': 10.7801136, 'lon': 106.7540482},\n",
       " {'node_id': 1833102158, 'lat': 10.7804349, 'lon': 106.7527536},\n",
       " {'node_id': 1833102166, 'lat': 10.7804774, 'lon': 106.753684},\n",
       " {'node_id': 1833102168, 'lat': 10.7806973, 'lon': 106.749509},\n",
       " {'node_id': 1833102178, 'lat': 10.7806518, 'lon': 106.7509789},\n",
       " {'node_id': 1833102186, 'lat': 10.7807645, 'lon': 106.7510824},\n",
       " {'node_id': 1833102209, 'lat': 10.7811127, 'lon': 106.7514716},\n",
       " {'node_id': 1833102283, 'lat': 10.782101, 'lon': 106.7526217},\n",
       " {'node_id': 1833102295, 'lat': 10.7824225, 'lon': 106.752992},\n",
       " {'node_id': 1833372948, 'lat': 10.7545627, 'lon': 106.7540921},\n",
       " {'node_id': 1833372984, 'lat': 10.7557658, 'lon': 106.7523828},\n",
       " {'node_id': 1833373020, 'lat': 10.7558208, 'lon': 106.7541961},\n",
       " {'node_id': 1833373064, 'lat': 10.7566478, 'lon': 106.7542152},\n",
       " {'node_id': 1833373068, 'lat': 10.7569718, 'lon': 106.781404},\n",
       " {'node_id': 1833373107, 'lat': 10.7575136, 'lon': 106.7802858},\n",
       " {'node_id': 1833373169, 'lat': 10.7582508, 'lon': 106.7665178},\n",
       " {'node_id': 1833373194, 'lat': 10.759016, 'lon': 106.7822704},\n",
       " {'node_id': 1833373221, 'lat': 10.7598888, 'lon': 106.7710494},\n",
       " {'node_id': 1833373253, 'lat': 10.7602422, 'lon': 106.7864414},\n",
       " {'node_id': 1833373280, 'lat': 10.7628658, 'lon': 106.7834763},\n",
       " {'node_id': 1833373282, 'lat': 10.7630238, 'lon': 106.7833009},\n",
       " {'node_id': 1833373286, 'lat': 10.7639241, 'lon': 106.7806269},\n",
       " {'node_id': 1833373321, 'lat': 10.7687363, 'lon': 106.7679745},\n",
       " {'node_id': 1833373322, 'lat': 10.768864, 'lon': 106.7657335},\n",
       " {'node_id': 1833373324, 'lat': 10.7690264, 'lon': 106.7676741},\n",
       " {'node_id': 1833373327, 'lat': 10.7691535, 'lon': 106.7654364},\n",
       " {'node_id': 1833373333, 'lat': 10.7694718, 'lon': 106.7651096},\n",
       " {'node_id': 1833373337, 'lat': 10.7696356, 'lon': 106.7670399},\n",
       " {'node_id': 1833373358, 'lat': 10.769916, 'lon': 106.7667484},\n",
       " {'node_id': 1833373373, 'lat': 10.7701922, 'lon': 106.7687803},\n",
       " {'node_id': 1833373377, 'lat': 10.7702026, 'lon': 106.7664506},\n",
       " {'node_id': 1833373394, 'lat': 10.7704822, 'lon': 106.7661601},\n",
       " {'node_id': 1833373402, 'lat': 10.7706502, 'lon': 106.7706903},\n",
       " {'node_id': 1833373403, 'lat': 10.770776, 'lon': 106.7681582},\n",
       " {'node_id': 1833373406, 'lat': 10.7709588, 'lon': 106.7722142},\n",
       " {'node_id': 1833373411, 'lat': 10.7710752, 'lon': 106.7702175},\n",
       " {'node_id': 1833373415, 'lat': 10.7711823, 'lon': 106.7685277},\n",
       " {'node_id': 1833373424, 'lat': 10.771344, 'lon': 106.7675541},\n",
       " {'node_id': 1833373463, 'lat': 10.772328, 'lon': 106.7631337},\n",
       " {'node_id': 1833373467, 'lat': 10.7724574, 'lon': 106.7648199},\n",
       " {'node_id': 1833373480, 'lat': 10.7728194, 'lon': 106.7707227},\n",
       " {'node_id': 1833373498, 'lat': 10.7731407, 'lon': 106.7710452},\n",
       " {'node_id': 1833373518, 'lat': 10.7756021, 'lon': 106.7275466},\n",
       " {'node_id': 1833373520, 'lat': 10.7758823, 'lon': 106.7274012},\n",
       " {'node_id': 1833373577, 'lat': 10.7833358, 'lon': 106.7467024},\n",
       " {'node_id': 1833373586, 'lat': 10.7836621, 'lon': 106.7489322},\n",
       " {'node_id': 1833373603, 'lat': 10.7840914, 'lon': 106.7487909},\n",
       " {'node_id': 1833373606, 'lat': 10.7841379, 'lon': 106.74633},\n",
       " {'node_id': 1833373607, 'lat': 10.7841879, 'lon': 106.7475645},\n",
       " {'node_id': 1833373616, 'lat': 10.7845241, 'lon': 106.7486505},\n",
       " {'node_id': 1833373626, 'lat': 10.7847357, 'lon': 106.7505788},\n",
       " {'node_id': 1833373627, 'lat': 10.7847575, 'lon': 106.7502455},\n",
       " {'node_id': 1833373628, 'lat': 10.7847677, 'lon': 106.7498092},\n",
       " {'node_id': 1833373666, 'lat': 10.7877612, 'lon': 106.749826},\n",
       " {'node_id': 1833407704, 'lat': 10.7719627, 'lon': 106.789462},\n",
       " {'node_id': 1834116135, 'lat': 10.7815121, 'lon': 106.7587461},\n",
       " {'node_id': 1834116272, 'lat': 10.7850413, 'lon': 106.7523024},\n",
       " {'node_id': 1834116366, 'lat': 10.7859696, 'lon': 106.7534784},\n",
       " {'node_id': 1834116410, 'lat': 10.7865307, 'lon': 106.751779},\n",
       " {'node_id': 1834116493, 'lat': 10.7873342, 'lon': 106.7529254},\n",
       " {'node_id': 1834116577, 'lat': 10.7898038, 'lon': 106.7530045},\n",
       " {'node_id': 1834116588, 'lat': 10.7909359, 'lon': 106.7539501},\n",
       " {'node_id': 1834116624, 'lat': 10.7986261, 'lon': 106.8121442},\n",
       " {'node_id': 1834116640, 'lat': 10.7986588, 'lon': 106.8126239},\n",
       " {'node_id': 1834116658, 'lat': 10.7988268, 'lon': 106.8146455},\n",
       " {'node_id': 1834116667, 'lat': 10.799302, 'lon': 106.8089418},\n",
       " {'node_id': 1834116723, 'lat': 10.8009564, 'lon': 106.8127545},\n",
       " {'node_id': 1834116731, 'lat': 10.8013002, 'lon': 106.8143542},\n",
       " {'node_id': 1834116733, 'lat': 10.8013499, 'lon': 106.8127388},\n",
       " {'node_id': 1834116740, 'lat': 10.8018348, 'lon': 106.8143212},\n",
       " {'node_id': 1834116788, 'lat': 10.8027445, 'lon': 106.7483741},\n",
       " {'node_id': 1834407772, 'lat': 10.758215, 'lon': 106.7872604},\n",
       " {'node_id': 1834407904, 'lat': 10.7600465, 'lon': 106.7867477},\n",
       " {'node_id': 1834407918, 'lat': 10.760378, 'lon': 106.7881953},\n",
       " {'node_id': 1834407956, 'lat': 10.7606901, 'lon': 106.7859184},\n",
       " {'node_id': 1834407992, 'lat': 10.7609401, 'lon': 106.7947908},\n",
       " {'node_id': 1834408028, 'lat': 10.7609067, 'lon': 106.7902288},\n",
       " {'node_id': 1834408065, 'lat': 10.7613473, 'lon': 106.7851667},\n",
       " {'node_id': 1834408080, 'lat': 10.7613399, 'lon': 106.7899878},\n",
       " {'node_id': 1834408717, 'lat': 10.7624551, 'lon': 106.7979777},\n",
       " {'node_id': 1834408894, 'lat': 10.7633056, 'lon': 106.7996337},\n",
       " {'node_id': 1834409135, 'lat': 10.7638667, 'lon': 106.7942217},\n",
       " {'node_id': 1834409503, 'lat': 10.7649501, 'lon': 106.7965631},\n",
       " {'node_id': 1834409516, 'lat': 10.7657748, 'lon': 106.7982247},\n",
       " {'node_id': 1834409673, 'lat': 10.7671207, 'lon': 106.785893},\n",
       " {'node_id': 1834409769, 'lat': 10.7674305, 'lon': 106.7855535},\n",
       " {'node_id': 1834409787, 'lat': 10.7675461, 'lon': 106.787471},\n",
       " {'node_id': 1834409804, 'lat': 10.7677438, 'lon': 106.7852112},\n",
       " {'node_id': 1834409829, 'lat': 10.7679971, 'lon': 106.7902987},\n",
       " {'node_id': 1834409844, 'lat': 10.7681324, 'lon': 106.7868964},\n",
       " {'node_id': 1834409857, 'lat': 10.7682688, 'lon': 106.8008557},\n",
       " {'node_id': 1834409873, 'lat': 10.7683026, 'lon': 106.7825588},\n",
       " {'node_id': 1834409943, 'lat': 10.7688374, 'lon': 106.7875922},\n",
       " {'node_id': 1834409978, 'lat': 10.7690184, 'lon': 106.7839635},\n",
       " {'node_id': 1834410011, 'lat': 10.7691367, 'lon': 106.8011296},\n",
       " {'node_id': 1834410025, 'lat': 10.7693347, 'lon': 106.7986313},\n",
       " {'node_id': 1834410027, 'lat': 10.7691925, 'lon': 106.7929303},\n",
       " {'node_id': 1834410041, 'lat': 10.7693247, 'lon': 106.7892351},\n",
       " {'node_id': 1834410050, 'lat': 10.7694765, 'lon': 106.8012611},\n",
       " {'node_id': 1834410056, 'lat': 10.7696026, 'lon': 106.7889359},\n",
       " {'node_id': 1834410063, 'lat': 10.7696884, 'lon': 106.8005795},\n",
       " {'node_id': 1834410077, 'lat': 10.7699021, 'lon': 106.7886449},\n",
       " {'node_id': 1834410098, 'lat': 10.7701904, 'lon': 106.7883331},\n",
       " {'node_id': 1834410118, 'lat': 10.7703762, 'lon': 106.7847075},\n",
       " {'node_id': 1834410123, 'lat': 10.7704768, 'lon': 106.7879136},\n",
       " {'node_id': 1834410131, 'lat': 10.7705736, 'lon': 106.7880347},\n",
       " {'node_id': 1834410165, 'lat': 10.7711562, 'lon': 106.7855035},\n",
       " {'node_id': 1834410168, 'lat': 10.7712566, 'lon': 106.7936659},\n",
       " {'node_id': 1834410173, 'lat': 10.7714929, 'lon': 106.7906332},\n",
       " {'node_id': 1834410180, 'lat': 10.7716649, 'lon': 106.7867064},\n",
       " {'node_id': 1834410181, 'lat': 10.7717724, 'lon': 106.7868093},\n",
       " {'node_id': 1834410184, 'lat': 10.7719446, 'lon': 106.7929488},\n",
       " {'node_id': 1834410189, 'lat': 10.7721717, 'lon': 106.7945589},\n",
       " {'node_id': 1834410190, 'lat': 10.7722447, 'lon': 106.7932533},\n",
       " {'node_id': 1834410196, 'lat': 10.7724985, 'lon': 106.7934904},\n",
       " {'node_id': 1834410198, 'lat': 10.7727082, 'lon': 106.7963574},\n",
       " {'node_id': 1834410199, 'lat': 10.7728502, 'lon': 106.7938185},\n",
       " {'node_id': 1834410201, 'lat': 10.7730103, 'lon': 106.7960319},\n",
       " {'node_id': 1834410202, 'lat': 10.7731497, 'lon': 106.7922917},\n",
       " {'node_id': 1834410206, 'lat': 10.7733436, 'lon': 106.7956631},\n",
       " {'node_id': 1834410207, 'lat': 10.7733787, 'lon': 106.7924906},\n",
       " {'node_id': 1834410211, 'lat': 10.7736597, 'lon': 106.7953169},\n",
       " {'node_id': 1834410215, 'lat': 10.77402, 'lon': 106.794925},\n",
       " {'node_id': 1834410218, 'lat': 10.7743466, 'lon': 106.7945622},\n",
       " {'node_id': 1834410221, 'lat': 10.7746452, 'lon': 106.7942312},\n",
       " {'node_id': 1834410230, 'lat': 10.7750718, 'lon': 106.7959421},\n",
       " {'node_id': 1834881075, 'lat': 10.7871079, 'lon': 106.7594382},\n",
       " {'node_id': 1835411167, 'lat': 10.7781181, 'lon': 106.7613196},\n",
       " {'node_id': 1835411369, 'lat': 10.7839172, 'lon': 106.7533252},\n",
       " {'node_id': 1835411374, 'lat': 10.7841834, 'lon': 106.7543595},\n",
       " {'node_id': 1835411396, 'lat': 10.7850349, 'lon': 106.7572977},\n",
       " {'node_id': 1847175988, 'lat': 10.736796, 'lon': 106.7049757},\n",
       " {'node_id': 1847175989, 'lat': 10.7372223, 'lon': 106.7048004},\n",
       " {'node_id': 1847176002, 'lat': 10.7383314, 'lon': 106.7062328},\n",
       " {'node_id': 1847176003, 'lat': 10.738462, 'lon': 106.7053378},\n",
       " {'node_id': 1852879340, 'lat': 10.8146812, 'lon': 106.7213082},\n",
       " {'node_id': 1852879424, 'lat': 10.817223, 'lon': 106.7213686},\n",
       " {'node_id': 1854295577, 'lat': 10.8114847, 'lon': 106.7654849},\n",
       " {'node_id': 1854295631, 'lat': 10.8154148, 'lon': 106.7652558},\n",
       " {'node_id': 1854295635, 'lat': 10.8156265, 'lon': 106.7599876},\n",
       " {'node_id': 1854295641, 'lat': 10.8158761, 'lon': 106.7654382},\n",
       " {'node_id': 1854295642, 'lat': 10.8159361, 'lon': 106.7640382},\n",
       " {'node_id': 1854295657, 'lat': 10.8169359, 'lon': 106.76539},\n",
       " {'node_id': 1854295687, 'lat': 10.8183594, 'lon': 106.7650817},\n",
       " {'node_id': 1894607682, 'lat': 10.7277223, 'lon': 106.7202961},\n",
       " {'node_id': 1894611104, 'lat': 10.7681678, 'lon': 106.773278},\n",
       " {'node_id': 1970245394, 'lat': 10.7755197, 'lon': 106.7067016},\n",
       " {'node_id': 1970245478, 'lat': 10.7876142, 'lon': 106.7025996},\n",
       " {'node_id': 1985832607, 'lat': 10.7596977, 'lon': 106.6970722},\n",
       " {'node_id': 1987339020, 'lat': 10.7543451, 'lon': 106.7084385},\n",
       " {'node_id': 1987339149, 'lat': 10.7599808, 'lon': 106.709374},\n",
       " {'node_id': 1987339537, 'lat': 10.757053, 'lon': 106.7026679},\n",
       " {'node_id': 1987339571, 'lat': 10.7576377, 'lon': 106.7189557},\n",
       " {'node_id': 1987339677, 'lat': 10.7541484, 'lon': 106.7147893},\n",
       " {'node_id': 1987339682, 'lat': 10.7559303, 'lon': 106.7156963},\n",
       " {'node_id': 1987339742, 'lat': 10.7576787, 'lon': 106.7203692},\n",
       " {'node_id': 1987339778, 'lat': 10.756435, 'lon': 106.7064677},\n",
       " {'node_id': 1987339817, 'lat': 10.7618543, 'lon': 106.7007783},\n",
       " {'node_id': 1987340163, 'lat': 10.7537253, 'lon': 106.7102036},\n",
       " {'node_id': 1987943090, 'lat': 10.7631467, 'lon': 106.7022337},\n",
       " {'node_id': 1987943110, 'lat': 10.7569183, 'lon': 106.6986349},\n",
       " {'node_id': 1987943122, 'lat': 10.7639048, 'lon': 106.7015483},\n",
       " {'node_id': 1987943154, 'lat': 10.7553693, 'lon': 106.6991739},\n",
       " {'node_id': 1992606616, 'lat': 10.7543413, 'lon': 106.702904},\n",
       " {'node_id': 1992606638, 'lat': 10.7558998, 'lon': 106.7024888},\n",
       " {'node_id': 1992606688, 'lat': 10.7573355, 'lon': 106.7020043},\n",
       " {'node_id': 1992606691, 'lat': 10.7561058, 'lon': 106.7038949},\n",
       " {'node_id': 1992606696, 'lat': 10.7553644, 'lon': 106.7039239},\n",
       " {'node_id': 1992606730, 'lat': 10.7560926, 'lon': 106.7032276},\n",
       " {'node_id': 1992606746, 'lat': 10.7565976, 'lon': 106.7040297},\n",
       " {'node_id': 1992606750, 'lat': 10.7555347, 'lon': 106.7035229},\n",
       " {'node_id': 1992606760, 'lat': 10.7565849, 'lon': 106.7033993},\n",
       " {'node_id': 1992606762, 'lat': 10.7555183, 'lon': 106.7025196},\n",
       " {'node_id': 1992606776, 'lat': 10.7555426, 'lon': 106.703917},\n",
       " {'node_id': 1992606795, 'lat': 10.7569102, 'lon': 106.7028911},\n",
       " {'node_id': 1992606815, 'lat': 10.7561154, 'lon': 106.7043784},\n",
       " {'node_id': 1992606829, 'lat': 10.7567348, 'lon': 106.703492},\n",
       " {'node_id': 1992606841, 'lat': 10.7555455, 'lon': 106.7041853},\n",
       " {'node_id': 1992606849, 'lat': 10.7556958, 'lon': 106.7025156},\n",
       " {'node_id': 1992606866, 'lat': 10.7563917, 'lon': 106.7038921},\n",
       " {'node_id': 1996654360, 'lat': 10.7639857, 'lon': 106.6980282},\n",
       " {'node_id': 1996655282, 'lat': 10.7652201, 'lon': 106.7002293},\n",
       " {'node_id': 1996655496, 'lat': 10.763832, 'lon': 106.6981126},\n",
       " {'node_id': 1996745051, 'lat': 10.770438, 'lon': 106.7103898},\n",
       " {'node_id': 1996745310, 'lat': 10.7697604, 'lon': 106.7106476},\n",
       " {'node_id': 1996745689, 'lat': 10.758645, 'lon': 106.6924512},\n",
       " {'node_id': 1997244037, 'lat': 10.7605779, 'lon': 106.7037287},\n",
       " {'node_id': 1997301710, 'lat': 10.7303976, 'lon': 106.7223038},\n",
       " {'node_id': 1997301713, 'lat': 10.7412504, 'lon': 106.6960748},\n",
       " {'node_id': 1997301737, 'lat': 10.7450655, 'lon': 106.6978958},\n",
       " {'node_id': 1997301750, 'lat': 10.7301069, 'lon': 106.7253074},\n",
       " {'node_id': 1997301756, 'lat': 10.7288732, 'lon': 106.7232648},\n",
       " {'node_id': 1997301760, 'lat': 10.7450453, 'lon': 106.7016785},\n",
       " {'node_id': 1997301762, 'lat': 10.7294677, 'lon': 106.7228881},\n",
       " {'node_id': 1997301769, 'lat': 10.7452159, 'lon': 106.6958207},\n",
       " {'node_id': 1997301789, 'lat': 10.7294931, 'lon': 106.7242911},\n",
       " {'node_id': 1997301791, 'lat': 10.7269646, 'lon': 106.7258548},\n",
       " {'node_id': 1997301793, 'lat': 10.7300869, 'lon': 106.7239095},\n",
       " {'node_id': 1997301795, 'lat': 10.727972, 'lon': 106.7252175},\n",
       " {'node_id': 1998235253, 'lat': 10.7939308, 'lon': 106.7006512},\n",
       " {'node_id': 1998235306, 'lat': 10.7935387, 'lon': 106.7014922},\n",
       " {'node_id': 1998781538, 'lat': 10.7709258, 'lon': 106.7034182},\n",
       " {'node_id': 1998781616, 'lat': 10.7709739, 'lon': 106.7024697},\n",
       " {'node_id': 2022548952, 'lat': 10.7952757, 'lon': 106.7115362},\n",
       " {'node_id': 2022549876, 'lat': 10.7938697, 'lon': 106.7099503},\n",
       " {'node_id': 2024973309, 'lat': 10.8025396, 'lon': 106.7463907},\n",
       " {'node_id': 2025938531, 'lat': 10.764404, 'lon': 106.6989721},\n",
       " {'node_id': 2026783516, 'lat': 10.7546023, 'lon': 106.70561},\n",
       " {'node_id': 2026783561, 'lat': 10.7541634, 'lon': 106.706086},\n",
       " {'node_id': 2026783585, 'lat': 10.7579511, 'lon': 106.7078512},\n",
       " {'node_id': 2026783624, 'lat': 10.7556165, 'lon': 106.707575},\n",
       " {'node_id': 2026783680, 'lat': 10.7569597, 'lon': 106.7042782},\n",
       " {'node_id': 2026783742, 'lat': 10.757177, 'lon': 106.703964},\n",
       " {'node_id': 2026783844, 'lat': 10.7595004, 'lon': 106.7069443},\n",
       " {'node_id': 2026783894, 'lat': 10.7543364, 'lon': 106.7061166},\n",
       " {'node_id': 2026783964, 'lat': 10.7546345, 'lon': 106.7062226},\n",
       " {'node_id': 2026784045, 'lat': 10.7607881, 'lon': 106.7033218},\n",
       " {'node_id': 2026784054, 'lat': 10.754763, 'lon': 106.7056502},\n",
       " {'node_id': 2026784107, 'lat': 10.7568341, 'lon': 106.7045035},\n",
       " {'node_id': 2026784113, 'lat': 10.7580079, 'lon': 106.7022869},\n",
       " {'node_id': 2026784137, 'lat': 10.7600869, 'lon': 106.7034003},\n",
       " {'node_id': 2026784140, 'lat': 10.7554967, 'lon': 106.7052618},\n",
       " {'node_id': 2026784160, 'lat': 10.7547839, 'lon': 106.7062658},\n",
       " {'node_id': 2026784201, 'lat': 10.7544671, 'lon': 106.7055727},\n",
       " {'node_id': 2026784213, 'lat': 10.7607578, 'lon': 106.7021425},\n",
       " {'node_id': 2026784253, 'lat': 10.7602138, 'lon': 106.7033007},\n",
       " {'node_id': 2026784293, 'lat': 10.75791, 'lon': 106.7067895},\n",
       " {'node_id': 2026784299, 'lat': 10.758918, 'lon': 106.7024839},\n",
       " {'node_id': 2026784309, 'lat': 10.7580017, 'lon': 106.7065156},\n",
       " {'node_id': 2026784319, 'lat': 10.7544838, 'lon': 106.7061812},\n",
       " {'node_id': 2026784438, 'lat': 10.7595783, 'lon': 106.704728},\n",
       " {'node_id': 2026784513, 'lat': 10.754836, 'lon': 106.7015236},\n",
       " {'node_id': 2026784607, 'lat': 10.7605096, 'lon': 106.7017997},\n",
       " {'node_id': 2026784637, 'lat': 10.7577359, 'lon': 106.7025279},\n",
       " {'node_id': 2026784744, 'lat': 10.7538963, 'lon': 106.6995779},\n",
       " {'node_id': 2026784764, 'lat': 10.7546506, 'lon': 106.6991676},\n",
       " {'node_id': 2026784766, 'lat': 10.7570754, 'lon': 106.7041149},\n",
       " {'node_id': 2027430774, 'lat': 10.7568286, 'lon': 106.6933998},\n",
       " {'node_id': 2027430861, 'lat': 10.756403, 'lon': 106.6949809},\n",
       " {'node_id': 2027431062, 'lat': 10.7584012, 'lon': 106.6950302},\n",
       " {'node_id': 2027772693, 'lat': 10.7599285, 'lon': 106.6973976},\n",
       " {'node_id': 2027772700, 'lat': 10.7535146, 'lon': 106.6973853},\n",
       " {'node_id': 2027772764, 'lat': 10.7600918, 'lon': 106.6996327},\n",
       " {'node_id': 2027772844, 'lat': 10.7596156, 'lon': 106.696977},\n",
       " {'node_id': 2027773021, 'lat': 10.7578395, 'lon': 106.7024316},\n",
       " {'node_id': 2027773113, 'lat': 10.7573202, 'lon': 106.7056908},\n",
       " {'node_id': 2027773239, 'lat': 10.759545, 'lon': 106.6963862},\n",
       " {'node_id': 2027773241, 'lat': 10.7600648, 'lon': 106.7061178},\n",
       " {'node_id': 2027773487, 'lat': 10.7549768, 'lon': 106.6991616},\n",
       " {'node_id': 2027773579, 'lat': 10.7553856, 'lon': 106.698195},\n",
       " {'node_id': 2028465685, 'lat': 10.7935133, 'lon': 106.7181547},\n",
       " {'node_id': 2028465815, 'lat': 10.8024262, 'lon': 106.7459061},\n",
       " {'node_id': 2028465827, 'lat': 10.7935098, 'lon': 106.718263},\n",
       " {'node_id': 2028465833, 'lat': 10.7971193, 'lon': 106.7203362},\n",
       " {'node_id': 2028465897, 'lat': 10.8097229, 'lon': 106.7564225},\n",
       " {'node_id': 2028465981, 'lat': 10.7981048, 'lon': 106.7200517},\n",
       " {'node_id': 2030638499, 'lat': 10.8144789, 'lon': 106.7128144},\n",
       " {'node_id': 2030638581, 'lat': 10.8102406, 'lon': 106.7164005},\n",
       " {'node_id': 2030638609, 'lat': 10.7960839, 'lon': 106.7111534},\n",
       " {'node_id': 2030638626, 'lat': 10.7946084, 'lon': 106.7017934},\n",
       " {'node_id': 2030638665, 'lat': 10.8050167, 'lon': 106.7147482},\n",
       " {'node_id': 2030638704, 'lat': 10.8124909, 'lon': 106.715523},\n",
       " {'node_id': 2030638743, 'lat': 10.8015922, 'lon': 106.7122063},\n",
       " {'node_id': 2030638846, 'lat': 10.8056042, 'lon': 106.7148828},\n",
       " {'node_id': 2030638853, 'lat': 10.7969808, 'lon': 106.7106277},\n",
       " {'node_id': 2030638859, 'lat': 10.7995815, 'lon': 106.7246225},\n",
       " {'node_id': 2030638900, 'lat': 10.8171528, 'lon': 106.7119466},\n",
       " {'node_id': 2030639084, 'lat': 10.7995942, 'lon': 106.7153737},\n",
       " {'node_id': 2030639193, 'lat': 10.8106043, 'lon': 106.7134188},\n",
       " {'node_id': 2030639513, 'lat': 10.8012607, 'lon': 106.7127424},\n",
       " {'node_id': 2030639585, 'lat': 10.7993755, 'lon': 106.7116822},\n",
       " {'node_id': 2030639639, 'lat': 10.8001925, 'lon': 106.714046},\n",
       " {'node_id': 2030639681, 'lat': 10.8040964, 'lon': 106.7145314},\n",
       " {'node_id': 2032267104, 'lat': 10.7620282, 'lon': 106.7018128},\n",
       " {'node_id': 2032267113, 'lat': 10.7708498, 'lon': 106.7025205},\n",
       " {'node_id': 2032267174, 'lat': 10.7706822, 'lon': 106.7059748},\n",
       " {'node_id': 2032267208, 'lat': 10.7701272, 'lon': 106.6941025},\n",
       " {'node_id': 2032267290, 'lat': 10.7654923, 'lon': 106.6933354},\n",
       " {'node_id': 2032267371, 'lat': 10.7634297, 'lon': 106.7037286},\n",
       " {'node_id': 2032267383, 'lat': 10.7644396, 'lon': 106.6924232},\n",
       " {'node_id': 2032267453, 'lat': 10.770807, 'lon': 106.7059778},\n",
       " {'node_id': 2032267460, 'lat': 10.7709076, 'lon': 106.7059818},\n",
       " {'node_id': 2032267522, 'lat': 10.7705817, 'lon': 106.70597},\n",
       " {'node_id': 2034589258, 'lat': 10.7641137, 'lon': 106.7046036},\n",
       " {'node_id': 2034589308, 'lat': 10.7626093, 'lon': 106.7026531},\n",
       " ...]"
      ]
     },
     "execution_count": 57,
     "metadata": {},
     "output_type": "execute_result"
    }
   ],
   "source": [
    "node_data4 = [get_node_data(x[0]) for x in intersect_points]\n",
    "node_data4"
   ]
  },
  {
   "cell_type": "code",
   "execution_count": 58,
   "metadata": {},
   "outputs": [
    {
     "name": "stderr",
     "output_type": "stream",
     "text": [
      "100%|██████████| 17247/17247 [00:02<00:00, 6427.90it/s]\n",
      "100%|██████████| 17247/17247 [00:02<00:00, 6550.77it/s]\n",
      "100%|██████████| 17247/17247 [00:02<00:00, 6590.68it/s]\n"
     ]
    },
    {
     "data": {
      "text/plain": [
       "[9415490893, 4936385088, 10960824994]"
      ]
     },
     "execution_count": 58,
     "metadata": {},
     "output_type": "execute_result"
    }
   ],
   "source": [
    "base_nodes = [\n",
    "    get_k_closest_nodes(*base_coord, intersect_points, kpi=1)[0]\n",
    "    for base_coord in base_coords\n",
    "]\n",
    "base_nodes"
   ]
  },
  {
   "cell_type": "code",
   "execution_count": 33,
   "metadata": {},
   "outputs": [
    {
     "data": {
      "text/plain": [
       "[{'node_id': 1497276525, 'lat': 10.8016017, 'lon': 106.7115512},\n",
       " {'node_id': 2072605244, 'lat': 10.8134736, 'lon': 106.6654239},\n",
       " {'node_id': 3806810442, 'lat': 10.7929415, 'lon': 106.6533454}]"
      ]
     },
     "execution_count": 33,
     "metadata": {},
     "output_type": "execute_result"
    }
   ],
   "source": [
    "base_nodes_data = [get_node_data(node) for node in base_nodes]\n",
    "base_nodes_data"
   ]
  },
  {
   "cell_type": "code",
   "execution_count": 34,
   "metadata": {},
   "outputs": [
    {
     "data": {
      "text/plain": [
       "[1497276525, 2072605244, 3806810442]"
      ]
     },
     "execution_count": 34,
     "metadata": {},
     "output_type": "execute_result"
    }
   ],
   "source": [
    "BASE_NODE_IDS = [x[\"node_id\"] for x in base_nodes_data]\n",
    "BASE_NODE_IDS"
   ]
  },
  {
   "cell_type": "code",
   "execution_count": 37,
   "metadata": {},
   "outputs": [
    {
     "data": {
      "text/plain": [
       "[(10.8016017, 106.7115512),\n",
       " (10.8134736, 106.6654239),\n",
       " (10.7929415, 106.6533454)]"
      ]
     },
     "execution_count": 37,
     "metadata": {},
     "output_type": "execute_result"
    }
   ],
   "source": [
    "nodes_ = [(x[\"lat\"], x[\"lon\"]) for x in base_nodes_data]\n",
    "nodes_"
   ]
  },
  {
   "cell_type": "code",
   "execution_count": 38,
   "metadata": {},
   "outputs": [
    {
     "data": {
      "text/plain": [
       "(10.802672266666667, 106.67677350000001)"
      ]
     },
     "execution_count": 38,
     "metadata": {},
     "output_type": "execute_result"
    }
   ],
   "source": [
    "center_lat = [x[\"lat\"] for x in base_nodes_data]\n",
    "center_lat = sum(center_lat) / len(center_lat)\n",
    "center_lon = [x[\"lon\"] for x in base_nodes_data]\n",
    "center_lon = sum(center_lon) / len(center_lon)\n",
    "\n",
    "center_node = (center_lat, center_lon)\n",
    "center_node"
   ]
  },
  {
   "cell_type": "code",
   "execution_count": 39,
   "metadata": {},
   "outputs": [
    {
     "data": {
      "text/plain": [
       "[3805.12530269731, 1722.7799622023097, 2779.035436855482]"
      ]
     },
     "execution_count": 39,
     "metadata": {},
     "output_type": "execute_result"
    }
   ],
   "source": [
    "from geopy.distance import geodesic \n",
    "\n",
    "distances = [geodesic(center_node, node).meters for node in nodes_]\n",
    "distances"
   ]
  },
  {
   "cell_type": "code",
   "execution_count": 70,
   "metadata": {},
   "outputs": [
    {
     "data": {
      "text/plain": [
       "3806.12530269731"
      ]
     },
     "execution_count": 70,
     "metadata": {},
     "output_type": "execute_result"
    }
   ],
   "source": [
    "radius = max(distances) + 1\n",
    "radius"
   ]
  },
  {
   "cell_type": "code",
   "execution_count": null,
   "metadata": {},
   "outputs": [],
   "source": [
    "def get_nodes_within_circle(node_data, center, radius, num_nodes):\n",
    "    # Step 1: Filter nodes within the radius from the center\n",
    "    nodes_within_radius = []\n",
    "    for node in node_data:\n",
    "        node_coord = (node['lat'], node['lon'])  # assumes nodes have 'lat' and 'lon' attributes\n",
    "        distance = geodesic(center, node_coord).meters\n",
    "        if distance <= radius:\n",
    "            nodes_within_radius.append((node[\"node_id\"], node_coord, distance))\n",
    "    \n",
    "    # Step 2: Sort nodes based on distance for optional prioritization\n",
    "    nodes_within_radius.sort(key=lambda x: x[2])\n",
    "\n",
    "    # Step 3: Distribute nodes as evenly as possible around the center\n",
    "    if len(nodes_within_radius) <= num_nodes:\n",
    "        # If there are fewer nodes than required, return all nodes\n",
    "        selected_nodes = nodes_within_radius\n",
    "    else:\n",
    "        # Convert coordinates to polar angles for even angular distribution\n",
    "        angles = []\n",
    "        for node_id, (lat, lon), _ in nodes_within_radius:\n",
    "            angle = np.arctan2(lon - center[1], lat - center[0])  # calculate angle from center\n",
    "            angles.append((node_id, angle))\n",
    "\n",
    "        # Sort nodes by angle to facilitate even selection\n",
    "        angles.sort(key=lambda x: x[1])\n",
    "\n",
    "        # Select nodes at approximately equal angular intervals\n",
    "        selected_nodes = [nodes_within_radius[i] for i in np.linspace(0, len(angles) - 1, num_nodes, dtype=int)]\n",
    "\n",
    "    # Return the selected nodes\n",
    "    return selected_nodes"
   ]
  },
  {
   "cell_type": "code",
   "execution_count": 59,
   "metadata": {},
   "outputs": [
    {
     "data": {
      "text/plain": [
       "[{'node_id': 6351667359, 'lat': 10.8032425, 'lon': 106.6765717},\n",
       " {'node_id': 3654067017, 'lat': 10.8054302, 'lon': 106.6781307},\n",
       " {'node_id': 710640651, 'lat': 10.8064487, 'lon': 106.6765126},\n",
       " {'node_id': 1409433755, 'lat': 10.8024894, 'lon': 106.6721943},\n",
       " {'node_id': 366424962, 'lat': 10.8029255, 'lon': 106.671607},\n",
       " {'node_id': 10196538951, 'lat': 10.799487, 'lon': 106.6812311},\n",
       " {'node_id': 366479106, 'lat': 10.803412, 'lon': 106.6709499},\n",
       " {'node_id': 5727064135, 'lat': 10.7999559, 'lon': 106.6710835},\n",
       " {'node_id': 9404173935, 'lat': 10.7973678, 'lon': 106.6726623},\n",
       " {'node_id': 3654066956, 'lat': 10.8039578, 'lon': 106.6837894},\n",
       " {'node_id': 2813676778, 'lat': 10.8099458, 'lon': 106.6760553},\n",
       " {'node_id': 1394527893, 'lat': 10.8099862, 'lon': 106.6796054},\n",
       " {'node_id': 4627910366, 'lat': 10.8106816, 'lon': 106.6750658},\n",
       " {'node_id': 4627910372, 'lat': 10.8108251, 'lon': 106.6748927},\n",
       " {'node_id': 4627910369, 'lat': 10.8111479, 'lon': 106.6754884},\n",
       " {'node_id': 6729952658, 'lat': 10.7941247, 'lon': 106.6785613},\n",
       " {'node_id': 741838644, 'lat': 10.8112386, 'lon': 106.6741192},\n",
       " {'node_id': 5765073611, 'lat': 10.7982007, 'lon': 106.6686262},\n",
       " {'node_id': 741838677, 'lat': 10.8116847, 'lon': 106.6742231},\n",
       " {'node_id': 366370636, 'lat': 10.79561, 'lon': 106.6697446},\n",
       " {'node_id': 723876650, 'lat': 10.8002648, 'lon': 106.6668156},\n",
       " {'node_id': 10731867877, 'lat': 10.8099418, 'lon': 106.6694591},\n",
       " {'node_id': 2899908125, 'lat': 10.8052455, 'lon': 106.6870708},\n",
       " {'node_id': 6720471769, 'lat': 10.7918912, 'lon': 106.6771245},\n",
       " {'node_id': 9900051178, 'lat': 10.8133182, 'lon': 106.6736809},\n",
       " {'node_id': 9900051156, 'lat': 10.8135035, 'lon': 106.6734687},\n",
       " {'node_id': 366429536, 'lat': 10.7974272, 'lon': 106.6870617},\n",
       " {'node_id': 11434275748, 'lat': 10.8142608, 'lon': 106.6760328},\n",
       " {'node_id': 5765073605, 'lat': 10.7937336, 'lon': 106.6690162},\n",
       " {'node_id': 11774805663, 'lat': 10.8145634, 'lon': 106.6788609},\n",
       " {'node_id': 706286226, 'lat': 10.8000125, 'lon': 106.6889831},\n",
       " {'node_id': 2408534569, 'lat': 10.7982542, 'lon': 106.6886765},\n",
       " {'node_id': 411922294, 'lat': 10.7917445, 'lon': 106.683321},\n",
       " {'node_id': 411921582, 'lat': 10.7899576, 'lon': 106.6795085},\n",
       " {'node_id': 11363982568, 'lat': 10.7969986, 'lon': 106.6646123},\n",
       " {'node_id': 2366641586, 'lat': 10.8117807, 'lon': 106.6666851},\n",
       " {'node_id': 3463112627, 'lat': 10.7918748, 'lon': 106.6680769},\n",
       " {'node_id': 5763234105, 'lat': 10.8010653, 'lon': 106.690769},\n",
       " {'node_id': 4001737133, 'lat': 10.8141294, 'lon': 106.6685491},\n",
       " {'node_id': 2164853951, 'lat': 10.7886547, 'lon': 106.674244},\n",
       " {'node_id': 5769486904, 'lat': 10.7905608, 'lon': 106.6690475},\n",
       " {'node_id': 411923546, 'lat': 10.7889278, 'lon': 106.6720471},\n",
       " {'node_id': 2332691244, 'lat': 10.7922221, 'lon': 106.6662734},\n",
       " {'node_id': 5737956357, 'lat': 10.8172576, 'lon': 106.6802048},\n",
       " {'node_id': 5767300484, 'lat': 10.8000712, 'lon': 106.6917849},\n",
       " {'node_id': 2408534554, 'lat': 10.7973965, 'lon': 106.6913063},\n",
       " {'node_id': 12210238720, 'lat': 10.7992996, 'lon': 106.6614268},\n",
       " {'node_id': 411922945, 'lat': 10.7902169, 'lon': 106.6863677},\n",
       " {'node_id': 366446937, 'lat': 10.8093105, 'lon': 106.6913345},\n",
       " {'node_id': 411919634, 'lat': 10.794872, 'lon': 106.6908995},\n",
       " {'node_id': 411926232, 'lat': 10.7925368, 'lon': 106.6896904},\n",
       " {'node_id': 5725018966, 'lat': 10.8124315, 'lon': 106.6634193},\n",
       " {'node_id': 11365637656, 'lat': 10.7996018, 'lon': 106.6603347},\n",
       " {'node_id': 2230987703, 'lat': 10.7933775, 'lon': 106.6908229},\n",
       " {'node_id': 366428968, 'lat': 10.8179681, 'lon': 106.6840258},\n",
       " {'node_id': 5725018931, 'lat': 10.8150385, 'lon': 106.664932},\n",
       " {'node_id': 10945593410, 'lat': 10.7959519, 'lon': 106.6926882},\n",
       " {'node_id': 5725018932, 'lat': 10.8148228, 'lon': 106.6643567},\n",
       " {'node_id': 7806207808, 'lat': 10.7869106, 'lon': 106.6843573},\n",
       " {'node_id': 5738008460, 'lat': 10.817321, 'lon': 106.6866477},\n",
       " {'node_id': 1401875335, 'lat': 10.8186091, 'lon': 106.684751},\n",
       " {'node_id': 2663911229, 'lat': 10.814034, 'lon': 106.6626376},\n",
       " {'node_id': 1671468544, 'lat': 10.8018053, 'lon': 106.6951078},\n",
       " {'node_id': 2078950311, 'lat': 10.8023398, 'lon': 106.658339},\n",
       " {'node_id': 11414869205, 'lat': 10.8011252, 'lon': 106.6582506},\n",
       " {'node_id': 11361224553, 'lat': 10.7841255, 'lon': 106.6768875},\n",
       " {'node_id': 11361818074, 'lat': 10.7977018, 'lon': 106.6585206},\n",
       " {'node_id': 1671468765, 'lat': 10.8146005, 'lon': 106.6914811},\n",
       " {'node_id': 2081881347, 'lat': 10.7967601, 'lon': 106.658613},\n",
       " {'node_id': 11361818131, 'lat': 10.7977245, 'lon': 106.6581949},\n",
       " {'node_id': 5108957170, 'lat': 10.7886617, 'lon': 106.6634936},\n",
       " {'node_id': 4903038181, 'lat': 10.8220606, 'lon': 106.6754825},\n",
       " {'node_id': 11360463214, 'lat': 10.7936754, 'lon': 106.6591453},\n",
       " {'node_id': 411919410, 'lat': 10.7838746, 'lon': 106.6703309},\n",
       " {'node_id': 5733213064, 'lat': 10.8138129, 'lon': 106.6937155},\n",
       " {'node_id': 5350664366, 'lat': 10.7956935, 'lon': 106.6960729},\n",
       " {'node_id': 11360491498, 'lat': 10.7935081, 'lon': 106.6582036},\n",
       " {'node_id': 3642303437, 'lat': 10.8192661, 'lon': 106.6896798},\n",
       " {'node_id': 411918659, 'lat': 10.7874841, 'lon': 106.6915718},\n",
       " {'node_id': 5782013092, 'lat': 10.8203658, 'lon': 106.6885905},\n",
       " {'node_id': 9570440988, 'lat': 10.7984257, 'lon': 106.6978496},\n",
       " {'node_id': 366440881, 'lat': 10.7926866, 'lon': 106.6959108},\n",
       " {'node_id': 2955893078, 'lat': 10.8021053, 'lon': 106.6984885},\n",
       " {'node_id': 11414718296, 'lat': 10.8011152, 'lon': 106.6549608},\n",
       " {'node_id': 5769514765, 'lat': 10.8117526, 'lon': 106.6968393},\n",
       " {'node_id': 7931441462, 'lat': 10.7982813, 'lon': 106.6985908},\n",
       " {'node_id': 5799069520, 'lat': 10.8246039, 'lon': 106.6813921},\n",
       " {'node_id': 366408464, 'lat': 10.8105543, 'lon': 106.655405},\n",
       " {'node_id': 6049158712, 'lat': 10.7894748, 'lon': 106.6579948},\n",
       " {'node_id': 411925982, 'lat': 10.7903362, 'lon': 106.6965272},\n",
       " {'node_id': 411926508, 'lat': 10.782002, 'lon': 106.6876354},\n",
       " {'node_id': 3631205814, 'lat': 10.8115551, 'lon': 106.6988242},\n",
       " {'node_id': 5737980839, 'lat': 10.7964194, 'lon': 106.6999081},\n",
       " {'node_id': 411926628, 'lat': 10.7807024, 'lon': 106.6863035},\n",
       " {'node_id': 4415663717, 'lat': 10.7795925, 'lon': 106.6698182},\n",
       " {'node_id': 5738446608, 'lat': 10.8194961, 'lon': 106.6945088},\n",
       " {'node_id': 2078950571, 'lat': 10.7989302, 'lon': 106.6524025},\n",
       " {'node_id': 5738217751, 'lat': 10.8168016, 'lon': 106.6969953},\n",
       " {'node_id': 2351201592, 'lat': 10.803925, 'lon': 106.7016015},\n",
       " {'node_id': 5767156791, 'lat': 10.8001149, 'lon': 106.7016572},\n",
       " {'node_id': 4901048437, 'lat': 10.8271857, 'lon': 106.6808388},\n",
       " {'node_id': 10960847006, 'lat': 10.7929623, 'lon': 106.6535128},\n",
       " {'node_id': 2487524458, 'lat': 10.8277177, 'lon': 106.6779895},\n",
       " {'node_id': 5298119693, 'lat': 10.7850711, 'lon': 106.6585372},\n",
       " {'node_id': 10960825001, 'lat': 10.7928662, 'lon': 106.6531665},\n",
       " {'node_id': 1671468712, 'lat': 10.8097267, 'lon': 106.7015387},\n",
       " {'node_id': 2210912782, 'lat': 10.8282358, 'lon': 106.6748788},\n",
       " {'node_id': 366388443, 'lat': 10.7995707, 'lon': 106.6509174},\n",
       " {'node_id': 4462008206, 'lat': 10.8236909, 'lon': 106.6920409},\n",
       " {'node_id': 2030638626, 'lat': 10.7946084, 'lon': 106.7017934},\n",
       " {'node_id': 4903050743, 'lat': 10.8266703, 'lon': 106.6876112},\n",
       " {'node_id': 5059499666, 'lat': 10.7762427, 'lon': 106.677464},\n",
       " {'node_id': 5092125147, 'lat': 10.7841528, 'lon': 106.6574227},\n",
       " {'node_id': 5738447148, 'lat': 10.8207723, 'lon': 106.6966057},\n",
       " {'node_id': 411926496, 'lat': 10.7803604, 'lon': 106.6918856},\n",
       " {'node_id': 11953547351, 'lat': 10.7766301, 'lon': 106.6837683},\n",
       " {'node_id': 4869145132, 'lat': 10.8282878, 'lon': 106.6854957},\n",
       " {'node_id': 6728906454, 'lat': 10.777861, 'lon': 106.6655403},\n",
       " {'node_id': 411925926, 'lat': 10.7791401, 'lon': 106.6907264},\n",
       " {'node_id': 5777274368, 'lat': 10.8074278, 'lon': 106.7040646},\n",
       " {'node_id': 4615058615, 'lat': 10.7753858, 'lon': 106.6731826},\n",
       " {'node_id': 2925962342, 'lat': 10.810556, 'lon': 106.703587},\n",
       " {'node_id': 11494677838, 'lat': 10.7827316, 'lon': 106.6963468},\n",
       " {'node_id': 3011828034, 'lat': 10.7867657, 'lon': 106.653566},\n",
       " {'node_id': 411926428, 'lat': 10.7758979, 'lon': 106.6852565},\n",
       " {'node_id': 366376494, 'lat': 10.830897, 'lon': 106.6775863},\n",
       " {'node_id': 411926609, 'lat': 10.7767699, 'lon': 106.6884634},\n",
       " {'node_id': 4444934859, 'lat': 10.8303376, 'lon': 106.6698968},\n",
       " {'node_id': 4432379442, 'lat': 10.8313565, 'lon': 106.6762592},\n",
       " {'node_id': 366469233, 'lat': 10.8311696, 'lon': 106.6811255},\n",
       " {'node_id': 6794489381, 'lat': 10.7737664, 'lon': 106.6777761},\n",
       " {'node_id': 411926493, 'lat': 10.7752884, 'lon': 106.6863923},\n",
       " {'node_id': 411926604, 'lat': 10.7805243, 'lon': 106.6958645},\n",
       " {'node_id': 1525911386, 'lat': 10.7836457, 'lon': 106.654378},\n",
       " {'node_id': 6786732271, 'lat': 10.7751095, 'lon': 106.6867267},\n",
       " {'node_id': 4554750024, 'lat': 10.8319591, 'lon': 106.6745612},\n",
       " {'node_id': 8995301285, 'lat': 10.7872355, 'lon': 106.7021505},\n",
       " {'node_id': 411924637, 'lat': 10.773655, 'lon': 106.6824656},\n",
       " {'node_id': 5719110608, 'lat': 10.8296228, 'lon': 106.664232},\n",
       " {'node_id': 2403044878, 'lat': 10.7882186, 'lon': 106.7030795},\n",
       " {'node_id': 5733023067, 'lat': 10.8060211, 'lon': 106.706848},\n",
       " {'node_id': 5671815999, 'lat': 10.8035059, 'lon': 106.7072153},\n",
       " {'node_id': 5737980785, 'lat': 10.8193657, 'lon': 106.7022992},\n",
       " {'node_id': 3138809956, 'lat': 10.8329228, 'lon': 106.678891},\n",
       " {'node_id': 411921053, 'lat': 10.7734636, 'lon': 106.6853472},\n",
       " {'node_id': 4441523970, 'lat': 10.8327764, 'lon': 106.6721198},\n",
       " {'node_id': 5671815998, 'lat': 10.8034669, 'lon': 106.7076637},\n",
       " {'node_id': 366439978, 'lat': 10.8194929, 'lon': 106.7026918},\n",
       " {'node_id': 762368929, 'lat': 10.8112718, 'lon': 106.7066404},\n",
       " {'node_id': 411922709, 'lat': 10.7722677, 'lon': 106.6821993},\n",
       " {'node_id': 12000475404, 'lat': 10.7749394, 'lon': 106.6906202},\n",
       " {'node_id': 2974077439, 'lat': 10.7854521, 'lon': 106.7028245},\n",
       " {'node_id': 11414718170, 'lat': 10.802204, 'lon': 106.6453847},\n",
       " {'node_id': 2079964542, 'lat': 10.8088101, 'lon': 106.6459392},\n",
       " {'node_id': 11845290114, 'lat': 10.7776094, 'lon': 106.6954826},\n",
       " {'node_id': 11283671967, 'lat': 10.785125, 'lon': 106.7029298},\n",
       " {'node_id': 10991234693, 'lat': 10.7852943, 'lon': 106.7030967},\n",
       " {'node_id': 6793708669, 'lat': 10.7714686, 'lon': 106.6738899},\n",
       " {'node_id': 11329589685, 'lat': 10.785306, 'lon': 106.7032311},\n",
       " {'node_id': 5886777930, 'lat': 10.8330377, 'lon': 106.6683685},\n",
       " {'node_id': 411921946, 'lat': 10.7721095, 'lon': 106.6847981},\n",
       " {'node_id': 1276696938, 'lat': 10.8082807, 'lon': 106.7083191},\n",
       " {'node_id': 1276696883, 'lat': 10.8087694, 'lon': 106.708297},\n",
       " {'node_id': 2403042635, 'lat': 10.7927757, 'lon': 106.7073842},\n",
       " {'node_id': 366389762, 'lat': 10.7927261, 'lon': 106.7074335},\n",
       " {'node_id': 4646816752, 'lat': 10.7709221, 'lon': 106.6729713},\n",
       " {'node_id': 5792540595, 'lat': 10.8272352, 'lon': 106.6976161},\n",
       " {'node_id': 411922630, 'lat': 10.7727672, 'lon': 106.6885409},\n",
       " {'node_id': 6372499824, 'lat': 10.7778539, 'lon': 106.6561296},\n",
       " {'node_id': 10118771783, 'lat': 10.8029343, 'lon': 106.7093708},\n",
       " {'node_id': 2079964647, 'lat': 10.8094601, 'lon': 106.6448384},\n",
       " {'node_id': 5073779388, 'lat': 10.7737452, 'lon': 106.6620888},\n",
       " {'node_id': 11846562715, 'lat': 10.7882936, 'lon': 106.7062044},\n",
       " {'node_id': 7514003711, 'lat': 10.7793306, 'lon': 106.6996977},\n",
       " {'node_id': 411921106, 'lat': 10.7701272, 'lon': 106.6789276},\n",
       " {'node_id': 5716655305, 'lat': 10.8347777, 'lon': 106.6704024},\n",
       " {'node_id': 11871195738, 'lat': 10.7739544, 'lon': 106.6927418},\n",
       " {'node_id': 5073779389, 'lat': 10.7733282, 'lon': 106.6617751},\n",
       " {'node_id': 5716655831, 'lat': 10.8354947, 'lon': 106.6740434},\n",
       " {'node_id': 366446583, 'lat': 10.7935512, 'lon': 106.6446826},\n",
       " {'node_id': 411918937, 'lat': 10.769598, 'lon': 106.6758057},\n",
       " {'node_id': 11846562759, 'lat': 10.7873856, 'lon': 106.7064846},\n",
       " {'node_id': 4067989169, 'lat': 10.8230675, 'lon': 106.7032218},\n",
       " {'node_id': 2495737096, 'lat': 10.7831349, 'lon': 106.64959},\n",
       " {'node_id': 11851112463, 'lat': 10.7876075, 'lon': 106.7067926},\n",
       " {'node_id': 6791416070, 'lat': 10.8231315, 'lon': 106.7034514},\n",
       " {'node_id': 11851112503, 'lat': 10.7873736, 'lon': 106.7068877},\n",
       " {'node_id': 3462932153, 'lat': 10.7691543, 'lon': 106.678113},\n",
       " {'node_id': 2364059996, 'lat': 10.7704509, 'lon': 106.6863885},\n",
       " {'node_id': 6327564830, 'lat': 10.7859999, 'lon': 106.6471677},\n",
       " {'node_id': 11543493238, 'lat': 10.7736946, 'lon': 106.6943908},\n",
       " {'node_id': 9545371733, 'lat': 10.8360566, 'lon': 106.6708522},\n",
       " {'node_id': 2022549876, 'lat': 10.7938697, 'lon': 106.7099503},\n",
       " {'node_id': 5892018288, 'lat': 10.8338718, 'lon': 106.6629812},\n",
       " {'node_id': 11468751154, 'lat': 10.8244934, 'lon': 106.7033132},\n",
       " {'node_id': 6791416067, 'lat': 10.8233614, 'lon': 106.7043126},\n",
       " {'node_id': 366419346, 'lat': 10.8028692, 'lon': 106.7114139},\n",
       " {'node_id': 411925710, 'lat': 10.7690686, 'lon': 106.6838626},\n",
       " {'node_id': 11537242381, 'lat': 10.7773983, 'lon': 106.7004118},\n",
       " {'node_id': 11540373964, 'lat': 10.7768402, 'lon': 106.6998817}]"
      ]
     },
     "execution_count": 59,
     "metadata": {},
     "output_type": "execute_result"
    }
   ],
   "source": [
    "selected_nodes = get_nodes_within_circle(node_data4, center_node, radius, num_nodes=200)\n",
    "selected_nodes = [{\"node_id\": x[0], \"lat\": x[1][0], \"lon\": x[1][1]} for x in selected_nodes]\n",
    "selected_nodes"
   ]
  },
  {
   "cell_type": "code",
   "execution_count": 61,
   "metadata": {},
   "outputs": [],
   "source": [
    "dump_json(\"results/node_data4.json\", base_nodes_data + selected_nodes)\n",
    "dump_json(\"results/base_node_data.json\", base_nodes_data)"
   ]
  },
  {
   "cell_type": "markdown",
   "metadata": {},
   "source": [
    "## Get main nodes being intersection of main roads only"
   ]
  },
  {
   "cell_type": "code",
   "execution_count": 89,
   "metadata": {},
   "outputs": [],
   "source": [
    "with open(\"./results/test_graph.pkl\", \"rb\") as f:\n",
    "    G = pickle.load(f)"
   ]
  },
  {
   "cell_type": "code",
   "execution_count": 90,
   "metadata": {},
   "outputs": [
    {
     "data": {
      "text/plain": [
       "99562"
      ]
     },
     "execution_count": 90,
     "metadata": {},
     "output_type": "execute_result"
    }
   ],
   "source": [
    "len(list(G.nodes()))"
   ]
  },
  {
   "cell_type": "code",
   "execution_count": 117,
   "metadata": {},
   "outputs": [],
   "source": [
    "# node = 366469454\n",
    "def is_in_circle(node, G, center, radius):\n",
    "    node_data = G.nodes(data=True)[node]\n",
    "    node_coord = (node_data['y'], node_data['x'])  # assumes nodes have 'lat' and 'lon' attributes\n",
    "    distance = geodesic(center_node, node_coord).meters\n",
    "    return distance <= radius "
   ]
  },
  {
   "cell_type": "code",
   "execution_count": 150,
   "metadata": {},
   "outputs": [
    {
     "data": {
      "text/plain": [
       "(5755175894, 4)"
      ]
     },
     "execution_count": 150,
     "metadata": {},
     "output_type": "execute_result"
    }
   ],
   "source": [
    "main_road_types = [\"primary\", \"secondary\"]\n",
    "main_edges = [(u, v, k) for u, v, k, d in G.edges(keys=True, data=True)\n",
    "              if d.get(\"highway\") in main_road_types\n",
    "            ]\n",
    "G_main = G.edge_subgraph(main_edges).copy()\n",
    "intersect_points = []\n",
    "\n",
    "for node in G_main.nodes():\n",
    "    # Get all neighboring edges for this node\n",
    "    neighbors = G_main.edges(node, keys=True, data=True)\n",
    "    \n",
    "    # Check if all connected edges are main roads\n",
    "    all_main_roads = all(edge[3].get(\"highway\") in main_road_types for edge in neighbors)\n",
    "    \n",
    "    # If true, this node is an intersection of only main roads\n",
    "    if all_main_roads and len(neighbors) >= 2:  # Ensure at least 2 roads meet\n",
    "        if is_in_circle(node, G_main, center_node, radius):\n",
    "          intersect_points.append((node, len(list(neighbors))))\n",
    "\n",
    "intersect_points.sort(key=lambda x: x[1], reverse=True)\n",
    "top_main_nodes = intersect_points[:300]\n",
    "top_main_nodes[0]"
   ]
  },
  {
   "cell_type": "code",
   "execution_count": 151,
   "metadata": {},
   "outputs": [
    {
     "data": {
      "text/plain": [
       "300"
      ]
     },
     "execution_count": 151,
     "metadata": {},
     "output_type": "execute_result"
    }
   ],
   "source": [
    "node_data5 = [get_node_data(x) for x, _ in top_main_nodes]\n",
    "len(node_data5)"
   ]
  },
  {
   "cell_type": "code",
   "execution_count": 152,
   "metadata": {},
   "outputs": [],
   "source": [
    "dump_json(\"../front-end/src/data/node_data5.json\", node_data5 + base_nodes_data)"
   ]
  },
  {
   "cell_type": "code",
   "execution_count": 125,
   "metadata": {},
   "outputs": [
    {
     "name": "stderr",
     "output_type": "stream",
     "text": [
      "100%|██████████| 489/489 [00:00<00:00, 2869.14it/s]\n"
     ]
    },
    {
     "data": {
      "text/plain": [
       "50"
      ]
     },
     "execution_count": 125,
     "metadata": {},
     "output_type": "execute_result"
    }
   ],
   "source": [
    "data_nodes = [(node, G_main.nodes(data=True)[node]) for node, _ in intersect_points]\n",
    "airport_nodes = get_k_closest_nodes(*base_coords[1], data_nodes, kpi=50)\n",
    "len(airport_nodes)"
   ]
  },
  {
   "cell_type": "code",
   "execution_count": 135,
   "metadata": {},
   "outputs": [
    {
     "data": {
      "text/plain": [
       "50"
      ]
     },
     "execution_count": 135,
     "metadata": {},
     "output_type": "execute_result"
    }
   ],
   "source": [
    "airport_intersect_points = [x for x in intersect_points if x[0] in airport_nodes]\n",
    "airport_intersect_points.sort(key=lambda x: x[1], reverse=True)\n",
    "len(airport_intersect_points)"
   ]
  },
  {
   "cell_type": "code",
   "execution_count": 136,
   "metadata": {},
   "outputs": [
    {
     "data": {
      "text/plain": [
       "{'node_id': 5721686016, 'lat': 10.8000091, 'lon': 106.6606224}"
      ]
     },
     "execution_count": 136,
     "metadata": {},
     "output_type": "execute_result"
    }
   ],
   "source": [
    "airport_node_data = [get_node_data(x) for x, _ in airport_intersect_points[:10]]\n",
    "airport_node_data[0]"
   ]
  },
  {
   "cell_type": "code",
   "execution_count": 140,
   "metadata": {},
   "outputs": [],
   "source": [
    "dump_json(\"../front-end/src/data/airport_node_data.json\", [base_nodes_data[1]] + airport_node_data)"
   ]
  },
  {
   "cell_type": "code",
   "execution_count": 141,
   "metadata": {},
   "outputs": [],
   "source": [
    "def get_adj_matrix(node_datas, G):\n",
    "    node_ids = [x[\"node_id\"] for x in node_datas]\n",
    "    adj_matrix = nx.to_numpy_array(G.subgraph(node_ids))\n",
    "    return adj_matrix"
   ]
  },
  {
   "cell_type": "code",
   "execution_count": 142,
   "metadata": {},
   "outputs": [
    {
     "data": {
      "text/plain": [
       "array([[0., 1., 0., 0., 0., 0., 0., 0., 0., 0., 0.],\n",
       "       [1., 0., 0., 0., 0., 0., 0., 0., 0., 0., 0.],\n",
       "       [0., 0., 0., 0., 0., 0., 0., 0., 0., 0., 0.],\n",
       "       [0., 0., 0., 0., 0., 0., 0., 0., 0., 0., 0.],\n",
       "       [0., 0., 0., 0., 0., 0., 0., 0., 0., 0., 0.],\n",
       "       [0., 0., 0., 0., 0., 0., 0., 0., 0., 0., 0.],\n",
       "       [0., 0., 0., 0., 0., 0., 0., 0., 0., 0., 0.],\n",
       "       [0., 0., 0., 0., 0., 0., 0., 0., 0., 0., 0.],\n",
       "       [0., 0., 0., 0., 0., 0., 0., 0., 0., 0., 0.],\n",
       "       [0., 0., 0., 0., 0., 0., 0., 0., 0., 0., 0.],\n",
       "       [0., 0., 0., 0., 0., 0., 0., 0., 0., 0., 0.]])"
      ]
     },
     "execution_count": 142,
     "metadata": {},
     "output_type": "execute_result"
    }
   ],
   "source": [
    "airport_adj_matrix = get_adj_matrix([base_nodes_data[1]] + airport_node_data, G_main)\n",
    "airport_adj_matrix"
   ]
  },
  {
   "cell_type": "code",
   "execution_count": 153,
   "metadata": {},
   "outputs": [
    {
     "data": {
      "text/plain": [
       "301"
      ]
     },
     "execution_count": 153,
     "metadata": {},
     "output_type": "execute_result"
    }
   ],
   "source": [
    "full_data = [base_nodes_data[1]] + airport_node_data + node_data5\n",
    "full_data = dedupe_list_by_key(full_data, \"node_id\")\n",
    "len(full_data) "
   ]
  },
  {
   "cell_type": "code",
   "execution_count": 154,
   "metadata": {},
   "outputs": [],
   "source": [
    "dump_json(\"../front-end/src/data/full_node_data.json\", full_data)"
   ]
  },
  {
   "cell_type": "code",
   "execution_count": 155,
   "metadata": {},
   "outputs": [
    {
     "data": {
      "text/plain": [
       "array([[0., 1., 0., 0., 0., 0., 0., 0., 0., 0.],\n",
       "       [1., 0., 0., 0., 0., 0., 0., 0., 0., 0.],\n",
       "       [0., 0., 0., 0., 0., 0., 0., 0., 0., 0.],\n",
       "       [0., 0., 0., 0., 0., 0., 0., 0., 0., 0.],\n",
       "       [0., 0., 0., 0., 0., 0., 0., 0., 0., 0.],\n",
       "       [0., 0., 0., 0., 0., 0., 0., 0., 0., 0.],\n",
       "       [0., 0., 0., 0., 0., 0., 0., 0., 0., 0.],\n",
       "       [0., 0., 0., 0., 0., 0., 0., 0., 0., 0.],\n",
       "       [0., 0., 0., 0., 0., 0., 0., 0., 0., 0.],\n",
       "       [0., 0., 0., 0., 0., 0., 0., 0., 0., 0.]])"
      ]
     },
     "execution_count": 155,
     "metadata": {},
     "output_type": "execute_result"
    }
   ],
   "source": [
    "full_adj_matrix = get_adj_matrix(full_data, G_main)\n",
    "full_adj_matrix[:10, :10]"
   ]
  },
  {
   "cell_type": "code",
   "execution_count": 156,
   "metadata": {},
   "outputs": [
    {
     "data": {
      "text/plain": [
       "307.0"
      ]
     },
     "execution_count": 156,
     "metadata": {},
     "output_type": "execute_result"
    }
   ],
   "source": [
    "full_adj_matrix.sum()"
   ]
  },
  {
   "cell_type": "code",
   "execution_count": 161,
   "metadata": {},
   "outputs": [
    {
     "data": {
      "text/plain": [
       "(301, 301)"
      ]
     },
     "execution_count": 161,
     "metadata": {},
     "output_type": "execute_result"
    }
   ],
   "source": [
    "from functools import partial\n",
    "\n",
    "hehe = partial(est_capacity, node_data=full_data)\n",
    "\n",
    "updated_adj_matrix = np.vectorize(hehe)(full_adj_matrix, np.indices(full_adj_matrix.shape)[0], np.indices(full_adj_matrix.shape)[1])\n",
    "updated_adj_matrix.shape"
   ]
  },
  {
   "cell_type": "code",
   "execution_count": 163,
   "metadata": {},
   "outputs": [
    {
     "data": {
      "text/plain": [
       "307"
      ]
     },
     "execution_count": 163,
     "metadata": {},
     "output_type": "execute_result"
    }
   ],
   "source": [
    "len(updated_adj_matrix[updated_adj_matrix > 0].ravel())"
   ]
  },
  {
   "cell_type": "code",
   "execution_count": 13,
   "metadata": {},
   "outputs": [],
   "source": [
    "import numpy as np\n",
    "\n",
    "# np.save(\"./results/full_adj_matrix.npy\", updated_adj_matrix)\n",
    "updated_adj_matrix = np.load(\"./results/full_adj_matrix.npy\")"
   ]
  },
  {
   "cell_type": "code",
   "execution_count": 14,
   "metadata": {},
   "outputs": [
    {
     "data": {
      "text/plain": [
       "307"
      ]
     },
     "execution_count": 14,
     "metadata": {},
     "output_type": "execute_result"
    }
   ],
   "source": [
    "n = len(full_data)\n",
    "edges = []\n",
    "\n",
    "for i in range(n):\n",
    "    node_i = full_data[i]\n",
    "    for j in range(n):\n",
    "        node_j = full_data[j]\n",
    "        if updated_adj_matrix[i, j] > 0:\n",
    "            edges.append({\n",
    "                \"src\": node_i['index'],\n",
    "                \"dst\": node_j['index'],\n",
    "                \"capacity\": int(updated_adj_matrix[i, j]),\n",
    "            })\n",
    "\n",
    "len(edges)"
   ]
  },
  {
   "cell_type": "code",
   "execution_count": 15,
   "metadata": {},
   "outputs": [
    {
     "data": {
      "text/plain": [
       "{'src': 0, 'dst': 1, 'capacity': 31584}"
      ]
     },
     "execution_count": 15,
     "metadata": {},
     "output_type": "execute_result"
    }
   ],
   "source": [
    "edges[0]"
   ]
  },
  {
   "cell_type": "code",
   "execution_count": 17,
   "metadata": {},
   "outputs": [],
   "source": [
    "dump_json(\"../front-end/src/data/full_edge_data.json\", edges)"
   ]
  },
  {
   "cell_type": "code",
   "execution_count": 6,
   "metadata": {},
   "outputs": [],
   "source": [
    "from file import dump_json, load_json\n",
    "\n",
    "# edges = load_json(\"./results/full_edge_data.json\")\n",
    "full_data = load_json(\"../front-end/src/data/full_node_data.json\")"
   ]
  },
  {
   "cell_type": "code",
   "execution_count": 7,
   "metadata": {},
   "outputs": [
    {
     "data": {
      "text/plain": [
       "{'node_id': 2072605244, 'lat': 10.8134736, 'lon': 106.6654239, 'index': 0}"
      ]
     },
     "execution_count": 7,
     "metadata": {},
     "output_type": "execute_result"
    }
   ],
   "source": [
    "full_data = [{**x, \"index\": i} for i, x in enumerate(full_data)]\n",
    "full_data[0]"
   ]
  },
  {
   "cell_type": "code",
   "execution_count": 9,
   "metadata": {},
   "outputs": [],
   "source": [
    "dump_json(\"../front-end/src/data/full_node_data.json\", full_data)"
   ]
  },
  {
   "cell_type": "code",
   "execution_count": null,
   "metadata": {},
   "outputs": [],
   "source": []
  }
 ],
 "metadata": {
  "kernelspec": {
   "display_name": ".venv",
   "language": "python",
   "name": "python3"
  },
  "language_info": {
   "codemirror_mode": {
    "name": "ipython",
    "version": 3
   },
   "file_extension": ".py",
   "mimetype": "text/x-python",
   "name": "python",
   "nbconvert_exporter": "python",
   "pygments_lexer": "ipython3",
   "version": "3.10.0"
  }
 },
 "nbformat": 4,
 "nbformat_minor": 2
}
